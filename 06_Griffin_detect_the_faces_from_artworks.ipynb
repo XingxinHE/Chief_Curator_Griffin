{
  "nbformat": 4,
  "nbformat_minor": 0,
  "metadata": {
    "colab": {
      "name": "06_Griffin detect the faces from artworks",
      "provenance": [],
      "collapsed_sections": [
        "uDl6eUa0PYBK",
        "PPz_pHHgSjl_"
      ],
      "authorship_tag": "ABX9TyMkZ+ZFp655RiwGOaQQV4vt",
      "include_colab_link": true
    },
    "kernelspec": {
      "name": "python3",
      "display_name": "Python 3"
    }
  },
  "cells": [
    {
      "cell_type": "markdown",
      "metadata": {
        "id": "view-in-github",
        "colab_type": "text"
      },
      "source": [
        "<a href=\"https://colab.research.google.com/github/XingxinHE/Chief_Curator_Griffin/blob/master/06_Griffin_detect_the_faces_from_artworks.ipynb\" target=\"_parent\"><img src=\"https://colab.research.google.com/assets/colab-badge.svg\" alt=\"Open In Colab\"/></a>"
      ]
    },
    {
      "cell_type": "markdown",
      "metadata": {
        "id": "jIey97nap6bj"
      },
      "source": [
        "## Setup"
      ]
    },
    {
      "cell_type": "code",
      "metadata": {
        "id": "xiulsXRWJdS8",
        "outputId": "e95a68d2-1e59-42dc-832b-290acdded906",
        "colab": {
          "base_uri": "https://localhost:8080/",
          "height": 372
        }
      },
      "source": [
        "#Microsoft Azure Face lib\n",
        "pip install --upgrade azure-cognitiveservices-vision-face"
      ],
      "execution_count": 1,
      "outputs": [
        {
          "output_type": "stream",
          "text": [
            "Collecting azure-cognitiveservices-vision-face\n",
            "\u001b[?25l  Downloading https://files.pythonhosted.org/packages/88/71/805ce5983798ef3e8300c81a4d43317166257548fd50d7ba8aee6b6287de/azure_cognitiveservices_vision_face-0.4.1-py2.py3-none-any.whl (67kB)\n",
            "\u001b[K     |████████████████████████████████| 71kB 1.9MB/s \n",
            "\u001b[?25hCollecting azure-common~=1.1\n",
            "  Downloading https://files.pythonhosted.org/packages/e5/4d/d000fc3c5af601d00d55750b71da5c231fcb128f42ac95b208ed1091c2c1/azure_common-1.1.25-py2.py3-none-any.whl\n",
            "Collecting msrest>=0.5.0\n",
            "\u001b[?25l  Downloading https://files.pythonhosted.org/packages/fa/f5/9e315fe8cb985b0ce052b34bcb767883dc739f46fadb62f05a7e6d6eedbe/msrest-0.6.19-py2.py3-none-any.whl (84kB)\n",
            "\u001b[K     |████████████████████████████████| 92kB 4.5MB/s \n",
            "\u001b[?25hCollecting isodate>=0.6.0\n",
            "\u001b[?25l  Downloading https://files.pythonhosted.org/packages/9b/9f/b36f7774ff5ea8e428fdcfc4bb332c39ee5b9362ddd3d40d9516a55221b2/isodate-0.6.0-py2.py3-none-any.whl (45kB)\n",
            "\u001b[K     |████████████████████████████████| 51kB 6.0MB/s \n",
            "\u001b[?25hRequirement already satisfied, skipping upgrade: requests~=2.16 in /usr/local/lib/python3.6/dist-packages (from msrest>=0.5.0->azure-cognitiveservices-vision-face) (2.23.0)\n",
            "Requirement already satisfied, skipping upgrade: requests-oauthlib>=0.5.0 in /usr/local/lib/python3.6/dist-packages (from msrest>=0.5.0->azure-cognitiveservices-vision-face) (1.3.0)\n",
            "Requirement already satisfied, skipping upgrade: certifi>=2017.4.17 in /usr/local/lib/python3.6/dist-packages (from msrest>=0.5.0->azure-cognitiveservices-vision-face) (2020.6.20)\n",
            "Requirement already satisfied, skipping upgrade: six in /usr/local/lib/python3.6/dist-packages (from isodate>=0.6.0->msrest>=0.5.0->azure-cognitiveservices-vision-face) (1.15.0)\n",
            "Requirement already satisfied, skipping upgrade: urllib3!=1.25.0,!=1.25.1,<1.26,>=1.21.1 in /usr/local/lib/python3.6/dist-packages (from requests~=2.16->msrest>=0.5.0->azure-cognitiveservices-vision-face) (1.24.3)\n",
            "Requirement already satisfied, skipping upgrade: chardet<4,>=3.0.2 in /usr/local/lib/python3.6/dist-packages (from requests~=2.16->msrest>=0.5.0->azure-cognitiveservices-vision-face) (3.0.4)\n",
            "Requirement already satisfied, skipping upgrade: idna<3,>=2.5 in /usr/local/lib/python3.6/dist-packages (from requests~=2.16->msrest>=0.5.0->azure-cognitiveservices-vision-face) (2.10)\n",
            "Requirement already satisfied, skipping upgrade: oauthlib>=3.0.0 in /usr/local/lib/python3.6/dist-packages (from requests-oauthlib>=0.5.0->msrest>=0.5.0->azure-cognitiveservices-vision-face) (3.1.0)\n",
            "Installing collected packages: azure-common, isodate, msrest, azure-cognitiveservices-vision-face\n",
            "Successfully installed azure-cognitiveservices-vision-face-0.4.1 azure-common-1.1.25 isodate-0.6.0 msrest-0.6.19\n"
          ],
          "name": "stdout"
        }
      ]
    },
    {
      "cell_type": "code",
      "metadata": {
        "id": "QbzAPsA2PKv8",
        "outputId": "b74077d5-938f-4bec-cb2b-b50f311479cb",
        "colab": {
          "base_uri": "https://localhost:8080/",
          "height": 34
        }
      },
      "source": [
        "from google.colab import drive\n",
        "drive.mount('/content/gdrive')\n",
        "import os, shutil\n",
        "os.chdir(\"/content/gdrive/My Drive/Kaggle/Rijksmuseum\")"
      ],
      "execution_count": 2,
      "outputs": [
        {
          "output_type": "stream",
          "text": [
            "Mounted at /content/gdrive\n"
          ],
          "name": "stdout"
        }
      ]
    },
    {
      "cell_type": "code",
      "metadata": {
        "id": "tOdn4XYJVLV6"
      },
      "source": [
        "import asyncio\n",
        "import io\n",
        "import glob\n",
        "import os\n",
        "import sys\n",
        "import time\n",
        "import uuid\n",
        "import requests\n",
        "from urllib.parse import urlparse\n",
        "from io import BytesIO\n",
        "from PIL import Image, ImageDraw\n",
        "from azure.cognitiveservices.vision.face import FaceClient\n",
        "from msrest.authentication import CognitiveServicesCredentials\n",
        "from azure.cognitiveservices.vision.face.models import TrainingStatusType, Person, SnapshotObjectType, OperationStatusType\n",
        "import cv2"
      ],
      "execution_count": 3,
      "outputs": []
    },
    {
      "cell_type": "markdown",
      "metadata": {
        "id": "uDl6eUa0PYBK"
      },
      "source": [
        "## Authenticate the client\n"
      ]
    },
    {
      "cell_type": "code",
      "metadata": {
        "id": "h_PZREGmJX4W"
      },
      "source": [
        "# Set the FACE_SUBSCRIPTION_KEY environment variable with your key as the value.\n",
        "# This key will serve all examples in this document.\n",
        "KEY = '7315ddcaddd14366a2ad88b646074aa0'\n",
        "\n",
        "# Set the FACE_ENDPOINT environment variable with the endpoint from your Face service in Azure.\n",
        "# This endpoint will be used in all examples in this quickstart.\n",
        "ENDPOINT = 'https://xxh-face.cognitiveservices.azure.com'"
      ],
      "execution_count": 4,
      "outputs": []
    },
    {
      "cell_type": "code",
      "metadata": {
        "id": "CKvqTefDJqzv"
      },
      "source": [
        "# Create an authenticated FaceClient.\n",
        "face_client = FaceClient(ENDPOINT, CognitiveServicesCredentials(KEY))"
      ],
      "execution_count": 5,
      "outputs": []
    },
    {
      "cell_type": "markdown",
      "metadata": {
        "id": "PPz_pHHgSjl_"
      },
      "source": [
        "## Select Images to Crop(Data Cleaning, don't run second time)"
      ]
    },
    {
      "cell_type": "code",
      "metadata": {
        "id": "K5_y2nTzahBd",
        "outputId": "7a7ebe73-8961-4d8c-f654-71eea46c7e1b",
        "colab": {
          "base_uri": "https://localhost:8080/",
          "height": 557
        }
      },
      "source": [
        "ls"
      ],
      "execution_count": null,
      "outputs": [
        {
          "output_type": "stream",
          "text": [
            " 0000002_SK-A-4877-0.jpg\n",
            "'01#Loading Info From XML'\n",
            "'02#Discover Interesting Data'\n",
            "'03#Griffin Try to distinguish the material of art'\n",
            "'03#Griffin Try to distinguish the technique of art'\n",
            "'03#Griffin Try to distinguish the type of art_batch'\n",
            "'04#Griffin_distinguish the period of art'\n",
            " 05_Spectrum_of_Art.ipynb\n",
            " 100k_images_features.p\n",
            " date_df.csv\n",
            " date_type.csv\n",
            " \u001b[0m\u001b[01;34mfaces\u001b[0m/\n",
            "'[FAIL & ANALYSIS] 03#Griffin Try to distinguish the type of art'\n",
            " full_pca_features.p\n",
            " gan_img.csv\n",
            " griffin_guess_material_oil_binary.h5\n",
            " griffin_guess_mtl_training.csv\n",
            " guess_mtl_oil_binary.csv\n",
            " \u001b[01;34mjpg\u001b[0m/\n",
            " material_df_binary_oil_recognition.csv\n",
            " material_df.csv\n",
            " material_df_multlclass_singlelabel_average_amounts.csv\n",
            " material_single_label_df.csv\n",
            " oil_painting_df.csv\n",
            " peroid_df_for_training.csv\n",
            " project_curator.csv\n",
            " Rembrandt\n",
            " tech_df.csv\n",
            " tech_df_single_label.csv\n",
            " \u001b[01;34mtest_img\u001b[0m/\n",
            " type_df.csv\n",
            " \u001b[01;34mxml\u001b[0m/\n"
          ],
          "name": "stdout"
        }
      ]
    },
    {
      "cell_type": "code",
      "metadata": {
        "id": "f-o4F82BaiXH"
      },
      "source": [
        "import pandas as pd"
      ],
      "execution_count": null,
      "outputs": []
    },
    {
      "cell_type": "code",
      "metadata": {
        "id": "BQyseTqb58V7",
        "outputId": "1eaa6ec3-60a7-4f29-fc39-0706f3d04c19",
        "colab": {
          "base_uri": "https://localhost:8080/",
          "height": 194
        }
      },
      "source": [
        "date_type_df = pd.read_csv('date_type.csv', index_col=0)\n",
        "date_type_df.head()"
      ],
      "execution_count": null,
      "outputs": [
        {
          "output_type": "execute_result",
          "data": {
            "text/html": [
              "<div>\n",
              "<style scoped>\n",
              "    .dataframe tbody tr th:only-of-type {\n",
              "        vertical-align: middle;\n",
              "    }\n",
              "\n",
              "    .dataframe tbody tr th {\n",
              "        vertical-align: top;\n",
              "    }\n",
              "\n",
              "    .dataframe thead th {\n",
              "        text-align: right;\n",
              "    }\n",
              "</style>\n",
              "<table border=\"1\" class=\"dataframe\">\n",
              "  <thead>\n",
              "    <tr style=\"text-align: right;\">\n",
              "      <th></th>\n",
              "      <th>date</th>\n",
              "      <th>tag</th>\n",
              "      <th>date_str_len</th>\n",
              "      <th>type</th>\n",
              "      <th>prent</th>\n",
              "      <th>tekening</th>\n",
              "      <th>boekillustratie</th>\n",
              "      <th>ornament</th>\n",
              "      <th>schilderij</th>\n",
              "      <th>historie</th>\n",
              "      <th>foto</th>\n",
              "      <th>start_year</th>\n",
              "      <th>end_year</th>\n",
              "      <th>periods_year</th>\n",
              "      <th>historical_period</th>\n",
              "    </tr>\n",
              "  </thead>\n",
              "  <tbody>\n",
              "    <tr>\n",
              "      <th>0</th>\n",
              "      <td>1644-1648</td>\n",
              "      <td>0000001_SK-A-4878.jpg</td>\n",
              "      <td>9</td>\n",
              "      <td>schilderij</td>\n",
              "      <td>False</td>\n",
              "      <td>False</td>\n",
              "      <td>False</td>\n",
              "      <td>False</td>\n",
              "      <td>True</td>\n",
              "      <td>False</td>\n",
              "      <td>False</td>\n",
              "      <td>1644</td>\n",
              "      <td>1648</td>\n",
              "      <td>4</td>\n",
              "      <td>Early Modern</td>\n",
              "    </tr>\n",
              "    <tr>\n",
              "      <th>1</th>\n",
              "      <td>1857-1857</td>\n",
              "      <td>0000002_SK-A-4877.jpg</td>\n",
              "      <td>9</td>\n",
              "      <td>schilderij</td>\n",
              "      <td>False</td>\n",
              "      <td>False</td>\n",
              "      <td>False</td>\n",
              "      <td>False</td>\n",
              "      <td>True</td>\n",
              "      <td>False</td>\n",
              "      <td>False</td>\n",
              "      <td>1857</td>\n",
              "      <td>1857</td>\n",
              "      <td>0</td>\n",
              "      <td>Modern</td>\n",
              "    </tr>\n",
              "    <tr>\n",
              "      <th>2</th>\n",
              "      <td>1675-1685</td>\n",
              "      <td>0000003_SK-A-4881.jpg</td>\n",
              "      <td>9</td>\n",
              "      <td>schilderij</td>\n",
              "      <td>False</td>\n",
              "      <td>False</td>\n",
              "      <td>False</td>\n",
              "      <td>False</td>\n",
              "      <td>True</td>\n",
              "      <td>False</td>\n",
              "      <td>False</td>\n",
              "      <td>1675</td>\n",
              "      <td>1685</td>\n",
              "      <td>10</td>\n",
              "      <td>Early Modern</td>\n",
              "    </tr>\n",
              "    <tr>\n",
              "      <th>3</th>\n",
              "      <td>1555-1556</td>\n",
              "      <td>0000004_RP-P-1992-35.jpg</td>\n",
              "      <td>9</td>\n",
              "      <td>['prent', 'historieprent']</td>\n",
              "      <td>True</td>\n",
              "      <td>False</td>\n",
              "      <td>False</td>\n",
              "      <td>False</td>\n",
              "      <td>False</td>\n",
              "      <td>True</td>\n",
              "      <td>False</td>\n",
              "      <td>1555</td>\n",
              "      <td>1556</td>\n",
              "      <td>1</td>\n",
              "      <td>Renaissance</td>\n",
              "    </tr>\n",
              "    <tr>\n",
              "      <th>4</th>\n",
              "      <td>1555-1556</td>\n",
              "      <td>0000005_RP-P-1992-36.jpg</td>\n",
              "      <td>9</td>\n",
              "      <td>['prent', 'historieprent']</td>\n",
              "      <td>True</td>\n",
              "      <td>False</td>\n",
              "      <td>False</td>\n",
              "      <td>False</td>\n",
              "      <td>False</td>\n",
              "      <td>True</td>\n",
              "      <td>False</td>\n",
              "      <td>1555</td>\n",
              "      <td>1556</td>\n",
              "      <td>1</td>\n",
              "      <td>Renaissance</td>\n",
              "    </tr>\n",
              "  </tbody>\n",
              "</table>\n",
              "</div>"
            ],
            "text/plain": [
              "        date                       tag  ...  periods_year historical_period\n",
              "0  1644-1648     0000001_SK-A-4878.jpg  ...             4      Early Modern\n",
              "1  1857-1857     0000002_SK-A-4877.jpg  ...             0            Modern\n",
              "2  1675-1685     0000003_SK-A-4881.jpg  ...            10      Early Modern\n",
              "3  1555-1556  0000004_RP-P-1992-35.jpg  ...             1       Renaissance\n",
              "4  1555-1556  0000005_RP-P-1992-36.jpg  ...             1       Renaissance\n",
              "\n",
              "[5 rows x 15 columns]"
            ]
          },
          "metadata": {
            "tags": []
          },
          "execution_count": 147
        }
      ]
    },
    {
      "cell_type": "code",
      "metadata": {
        "id": "_St7FRYg6rfK",
        "outputId": "ad03ba15-6097-4aff-9354-b0c17635d40c",
        "colab": {
          "base_uri": "https://localhost:8080/",
          "height": 34
        }
      },
      "source": [
        "temp1 = list(date_type_df[date_type_df['prent']==True].index)\n",
        "temp2 = list(date_type_df[date_type_df['tekening']==True].index)\n",
        "temp3 = list(date_type_df[date_type_df['boekillustratie']==True].index)\n",
        "temp4 = list(date_type_df[date_type_df['schilderij']==True].index)\n",
        "filter_index = set(temp1 + temp2 + temp3 + temp4)\n",
        "len(filter_index)"
      ],
      "execution_count": null,
      "outputs": [
        {
          "output_type": "execute_result",
          "data": {
            "text/plain": [
              "94932"
            ]
          },
          "metadata": {
            "tags": []
          },
          "execution_count": 157
        }
      ]
    },
    {
      "cell_type": "code",
      "metadata": {
        "id": "-D459CbuA4WW",
        "outputId": "32baba84-4da2-43c2-d3c2-56a668507d0b",
        "colab": {
          "base_uri": "https://localhost:8080/",
          "height": 568
        }
      },
      "source": [
        "date_type_df = date_type_df[date_type_df.index.isin(filter_index)]\n",
        "date_type_df.reset_index(drop=True, inplace=True)\n",
        "date_type_df"
      ],
      "execution_count": null,
      "outputs": [
        {
          "output_type": "execute_result",
          "data": {
            "text/html": [
              "<div>\n",
              "<style scoped>\n",
              "    .dataframe tbody tr th:only-of-type {\n",
              "        vertical-align: middle;\n",
              "    }\n",
              "\n",
              "    .dataframe tbody tr th {\n",
              "        vertical-align: top;\n",
              "    }\n",
              "\n",
              "    .dataframe thead th {\n",
              "        text-align: right;\n",
              "    }\n",
              "</style>\n",
              "<table border=\"1\" class=\"dataframe\">\n",
              "  <thead>\n",
              "    <tr style=\"text-align: right;\">\n",
              "      <th></th>\n",
              "      <th>date</th>\n",
              "      <th>tag</th>\n",
              "      <th>date_str_len</th>\n",
              "      <th>type</th>\n",
              "      <th>prent</th>\n",
              "      <th>tekening</th>\n",
              "      <th>boekillustratie</th>\n",
              "      <th>ornament</th>\n",
              "      <th>schilderij</th>\n",
              "      <th>historie</th>\n",
              "      <th>foto</th>\n",
              "      <th>start_year</th>\n",
              "      <th>end_year</th>\n",
              "      <th>periods_year</th>\n",
              "      <th>historical_period</th>\n",
              "    </tr>\n",
              "  </thead>\n",
              "  <tbody>\n",
              "    <tr>\n",
              "      <th>0</th>\n",
              "      <td>1644-1648</td>\n",
              "      <td>0000001_SK-A-4878.jpg</td>\n",
              "      <td>9</td>\n",
              "      <td>schilderij</td>\n",
              "      <td>False</td>\n",
              "      <td>False</td>\n",
              "      <td>False</td>\n",
              "      <td>False</td>\n",
              "      <td>True</td>\n",
              "      <td>False</td>\n",
              "      <td>False</td>\n",
              "      <td>1644</td>\n",
              "      <td>1648</td>\n",
              "      <td>4</td>\n",
              "      <td>Early Modern</td>\n",
              "    </tr>\n",
              "    <tr>\n",
              "      <th>1</th>\n",
              "      <td>1857-1857</td>\n",
              "      <td>0000002_SK-A-4877.jpg</td>\n",
              "      <td>9</td>\n",
              "      <td>schilderij</td>\n",
              "      <td>False</td>\n",
              "      <td>False</td>\n",
              "      <td>False</td>\n",
              "      <td>False</td>\n",
              "      <td>True</td>\n",
              "      <td>False</td>\n",
              "      <td>False</td>\n",
              "      <td>1857</td>\n",
              "      <td>1857</td>\n",
              "      <td>0</td>\n",
              "      <td>Modern</td>\n",
              "    </tr>\n",
              "    <tr>\n",
              "      <th>2</th>\n",
              "      <td>1675-1685</td>\n",
              "      <td>0000003_SK-A-4881.jpg</td>\n",
              "      <td>9</td>\n",
              "      <td>schilderij</td>\n",
              "      <td>False</td>\n",
              "      <td>False</td>\n",
              "      <td>False</td>\n",
              "      <td>False</td>\n",
              "      <td>True</td>\n",
              "      <td>False</td>\n",
              "      <td>False</td>\n",
              "      <td>1675</td>\n",
              "      <td>1685</td>\n",
              "      <td>10</td>\n",
              "      <td>Early Modern</td>\n",
              "    </tr>\n",
              "    <tr>\n",
              "      <th>3</th>\n",
              "      <td>1555-1556</td>\n",
              "      <td>0000004_RP-P-1992-35.jpg</td>\n",
              "      <td>9</td>\n",
              "      <td>['prent', 'historieprent']</td>\n",
              "      <td>True</td>\n",
              "      <td>False</td>\n",
              "      <td>False</td>\n",
              "      <td>False</td>\n",
              "      <td>False</td>\n",
              "      <td>True</td>\n",
              "      <td>False</td>\n",
              "      <td>1555</td>\n",
              "      <td>1556</td>\n",
              "      <td>1</td>\n",
              "      <td>Renaissance</td>\n",
              "    </tr>\n",
              "    <tr>\n",
              "      <th>4</th>\n",
              "      <td>1555-1556</td>\n",
              "      <td>0000005_RP-P-1992-36.jpg</td>\n",
              "      <td>9</td>\n",
              "      <td>['prent', 'historieprent']</td>\n",
              "      <td>True</td>\n",
              "      <td>False</td>\n",
              "      <td>False</td>\n",
              "      <td>False</td>\n",
              "      <td>False</td>\n",
              "      <td>True</td>\n",
              "      <td>False</td>\n",
              "      <td>1555</td>\n",
              "      <td>1556</td>\n",
              "      <td>1</td>\n",
              "      <td>Renaissance</td>\n",
              "    </tr>\n",
              "    <tr>\n",
              "      <th>...</th>\n",
              "      <td>...</td>\n",
              "      <td>...</td>\n",
              "      <td>...</td>\n",
              "      <td>...</td>\n",
              "      <td>...</td>\n",
              "      <td>...</td>\n",
              "      <td>...</td>\n",
              "      <td>...</td>\n",
              "      <td>...</td>\n",
              "      <td>...</td>\n",
              "      <td>...</td>\n",
              "      <td>...</td>\n",
              "      <td>...</td>\n",
              "      <td>...</td>\n",
              "      <td>...</td>\n",
              "    </tr>\n",
              "    <tr>\n",
              "      <th>94927</th>\n",
              "      <td>1830-1830</td>\n",
              "      <td>0112378_RP-P-OB-86.307.jpg</td>\n",
              "      <td>9</td>\n",
              "      <td>prent</td>\n",
              "      <td>True</td>\n",
              "      <td>False</td>\n",
              "      <td>False</td>\n",
              "      <td>False</td>\n",
              "      <td>False</td>\n",
              "      <td>False</td>\n",
              "      <td>False</td>\n",
              "      <td>1830</td>\n",
              "      <td>1830</td>\n",
              "      <td>0</td>\n",
              "      <td>Modern</td>\n",
              "    </tr>\n",
              "    <tr>\n",
              "      <th>94928</th>\n",
              "      <td>1608-1615</td>\n",
              "      <td>0112379_RP-P-2012-4.jpg</td>\n",
              "      <td>9</td>\n",
              "      <td>prent</td>\n",
              "      <td>True</td>\n",
              "      <td>False</td>\n",
              "      <td>False</td>\n",
              "      <td>False</td>\n",
              "      <td>False</td>\n",
              "      <td>False</td>\n",
              "      <td>False</td>\n",
              "      <td>1608</td>\n",
              "      <td>1615</td>\n",
              "      <td>7</td>\n",
              "      <td>Early Modern</td>\n",
              "    </tr>\n",
              "    <tr>\n",
              "      <th>94929</th>\n",
              "      <td>1800-1900</td>\n",
              "      <td>0112380_RP-P-2011-173-1.jpg</td>\n",
              "      <td>9</td>\n",
              "      <td>prent</td>\n",
              "      <td>True</td>\n",
              "      <td>False</td>\n",
              "      <td>False</td>\n",
              "      <td>False</td>\n",
              "      <td>False</td>\n",
              "      <td>False</td>\n",
              "      <td>False</td>\n",
              "      <td>1800</td>\n",
              "      <td>1900</td>\n",
              "      <td>100</td>\n",
              "      <td>Early Modern</td>\n",
              "    </tr>\n",
              "    <tr>\n",
              "      <th>94930</th>\n",
              "      <td>1652-1653</td>\n",
              "      <td>0112381_RP-T-1886-A-704-26.jpg</td>\n",
              "      <td>9</td>\n",
              "      <td>tekening</td>\n",
              "      <td>False</td>\n",
              "      <td>True</td>\n",
              "      <td>False</td>\n",
              "      <td>False</td>\n",
              "      <td>False</td>\n",
              "      <td>False</td>\n",
              "      <td>False</td>\n",
              "      <td>1652</td>\n",
              "      <td>1653</td>\n",
              "      <td>1</td>\n",
              "      <td>Early Modern</td>\n",
              "    </tr>\n",
              "    <tr>\n",
              "      <th>94931</th>\n",
              "      <td>1863-1863</td>\n",
              "      <td>0112411_RP-P-OB-86.512.jpg</td>\n",
              "      <td>9</td>\n",
              "      <td>prent</td>\n",
              "      <td>True</td>\n",
              "      <td>False</td>\n",
              "      <td>False</td>\n",
              "      <td>False</td>\n",
              "      <td>False</td>\n",
              "      <td>False</td>\n",
              "      <td>False</td>\n",
              "      <td>1863</td>\n",
              "      <td>1863</td>\n",
              "      <td>0</td>\n",
              "      <td>Modern</td>\n",
              "    </tr>\n",
              "  </tbody>\n",
              "</table>\n",
              "<p>94932 rows × 15 columns</p>\n",
              "</div>"
            ],
            "text/plain": [
              "            date  ... historical_period\n",
              "0      1644-1648  ...      Early Modern\n",
              "1      1857-1857  ...            Modern\n",
              "2      1675-1685  ...      Early Modern\n",
              "3      1555-1556  ...       Renaissance\n",
              "4      1555-1556  ...       Renaissance\n",
              "...          ...  ...               ...\n",
              "94927  1830-1830  ...            Modern\n",
              "94928  1608-1615  ...      Early Modern\n",
              "94929  1800-1900  ...      Early Modern\n",
              "94930  1652-1653  ...      Early Modern\n",
              "94931  1863-1863  ...            Modern\n",
              "\n",
              "[94932 rows x 15 columns]"
            ]
          },
          "metadata": {
            "tags": []
          },
          "execution_count": 166
        }
      ]
    },
    {
      "cell_type": "code",
      "metadata": {
        "id": "minTtaMsBmcG",
        "outputId": "3513791c-8508-443b-9ea2-778420843f81",
        "colab": {
          "base_uri": "https://localhost:8080/",
          "height": 34
        }
      },
      "source": [
        "temp5 = list(date_type_df[date_type_df['historical_period']=='Renaissance'].index)\n",
        "temp6 = list(date_type_df[date_type_df['historical_period']=='Early Modern'].index)\n",
        "\n",
        "time_filter_index = set(temp5 + temp6)\n",
        "len(time_filter_index)"
      ],
      "execution_count": null,
      "outputs": [
        {
          "output_type": "execute_result",
          "data": {
            "text/plain": [
              "88193"
            ]
          },
          "metadata": {
            "tags": []
          },
          "execution_count": 167
        }
      ]
    },
    {
      "cell_type": "code",
      "metadata": {
        "id": "OatSzmWXB52q",
        "outputId": "d28e7ad8-7d02-48fc-f1bd-0c115da6e46f",
        "colab": {
          "base_uri": "https://localhost:8080/",
          "height": 568
        }
      },
      "source": [
        "date_type_df = date_type_df[date_type_df.index.isin(time_filter_index)]\n",
        "date_type_df.reset_index(drop=True, inplace=True)\n",
        "date_type_df"
      ],
      "execution_count": null,
      "outputs": [
        {
          "output_type": "execute_result",
          "data": {
            "text/html": [
              "<div>\n",
              "<style scoped>\n",
              "    .dataframe tbody tr th:only-of-type {\n",
              "        vertical-align: middle;\n",
              "    }\n",
              "\n",
              "    .dataframe tbody tr th {\n",
              "        vertical-align: top;\n",
              "    }\n",
              "\n",
              "    .dataframe thead th {\n",
              "        text-align: right;\n",
              "    }\n",
              "</style>\n",
              "<table border=\"1\" class=\"dataframe\">\n",
              "  <thead>\n",
              "    <tr style=\"text-align: right;\">\n",
              "      <th></th>\n",
              "      <th>date</th>\n",
              "      <th>tag</th>\n",
              "      <th>date_str_len</th>\n",
              "      <th>type</th>\n",
              "      <th>prent</th>\n",
              "      <th>tekening</th>\n",
              "      <th>boekillustratie</th>\n",
              "      <th>ornament</th>\n",
              "      <th>schilderij</th>\n",
              "      <th>historie</th>\n",
              "      <th>foto</th>\n",
              "      <th>start_year</th>\n",
              "      <th>end_year</th>\n",
              "      <th>periods_year</th>\n",
              "      <th>historical_period</th>\n",
              "    </tr>\n",
              "  </thead>\n",
              "  <tbody>\n",
              "    <tr>\n",
              "      <th>0</th>\n",
              "      <td>1644-1648</td>\n",
              "      <td>0000001_SK-A-4878.jpg</td>\n",
              "      <td>9</td>\n",
              "      <td>schilderij</td>\n",
              "      <td>False</td>\n",
              "      <td>False</td>\n",
              "      <td>False</td>\n",
              "      <td>False</td>\n",
              "      <td>True</td>\n",
              "      <td>False</td>\n",
              "      <td>False</td>\n",
              "      <td>1644</td>\n",
              "      <td>1648</td>\n",
              "      <td>4</td>\n",
              "      <td>Early Modern</td>\n",
              "    </tr>\n",
              "    <tr>\n",
              "      <th>1</th>\n",
              "      <td>1675-1685</td>\n",
              "      <td>0000003_SK-A-4881.jpg</td>\n",
              "      <td>9</td>\n",
              "      <td>schilderij</td>\n",
              "      <td>False</td>\n",
              "      <td>False</td>\n",
              "      <td>False</td>\n",
              "      <td>False</td>\n",
              "      <td>True</td>\n",
              "      <td>False</td>\n",
              "      <td>False</td>\n",
              "      <td>1675</td>\n",
              "      <td>1685</td>\n",
              "      <td>10</td>\n",
              "      <td>Early Modern</td>\n",
              "    </tr>\n",
              "    <tr>\n",
              "      <th>2</th>\n",
              "      <td>1555-1556</td>\n",
              "      <td>0000004_RP-P-1992-35.jpg</td>\n",
              "      <td>9</td>\n",
              "      <td>['prent', 'historieprent']</td>\n",
              "      <td>True</td>\n",
              "      <td>False</td>\n",
              "      <td>False</td>\n",
              "      <td>False</td>\n",
              "      <td>False</td>\n",
              "      <td>True</td>\n",
              "      <td>False</td>\n",
              "      <td>1555</td>\n",
              "      <td>1556</td>\n",
              "      <td>1</td>\n",
              "      <td>Renaissance</td>\n",
              "    </tr>\n",
              "    <tr>\n",
              "      <th>3</th>\n",
              "      <td>1555-1556</td>\n",
              "      <td>0000005_RP-P-1992-36.jpg</td>\n",
              "      <td>9</td>\n",
              "      <td>['prent', 'historieprent']</td>\n",
              "      <td>True</td>\n",
              "      <td>False</td>\n",
              "      <td>False</td>\n",
              "      <td>False</td>\n",
              "      <td>False</td>\n",
              "      <td>True</td>\n",
              "      <td>False</td>\n",
              "      <td>1555</td>\n",
              "      <td>1556</td>\n",
              "      <td>1</td>\n",
              "      <td>Renaissance</td>\n",
              "    </tr>\n",
              "    <tr>\n",
              "      <th>4</th>\n",
              "      <td>1553-1553</td>\n",
              "      <td>0000006_RP-P-1992-68.jpg</td>\n",
              "      <td>9</td>\n",
              "      <td>prent</td>\n",
              "      <td>True</td>\n",
              "      <td>False</td>\n",
              "      <td>False</td>\n",
              "      <td>False</td>\n",
              "      <td>False</td>\n",
              "      <td>False</td>\n",
              "      <td>False</td>\n",
              "      <td>1553</td>\n",
              "      <td>1553</td>\n",
              "      <td>0</td>\n",
              "      <td>Renaissance</td>\n",
              "    </tr>\n",
              "    <tr>\n",
              "      <th>...</th>\n",
              "      <td>...</td>\n",
              "      <td>...</td>\n",
              "      <td>...</td>\n",
              "      <td>...</td>\n",
              "      <td>...</td>\n",
              "      <td>...</td>\n",
              "      <td>...</td>\n",
              "      <td>...</td>\n",
              "      <td>...</td>\n",
              "      <td>...</td>\n",
              "      <td>...</td>\n",
              "      <td>...</td>\n",
              "      <td>...</td>\n",
              "      <td>...</td>\n",
              "      <td>...</td>\n",
              "    </tr>\n",
              "    <tr>\n",
              "      <th>88188</th>\n",
              "      <td>1680-1695</td>\n",
              "      <td>0112371_RP-P-2011-65-30.jpg</td>\n",
              "      <td>9</td>\n",
              "      <td>prent</td>\n",
              "      <td>True</td>\n",
              "      <td>False</td>\n",
              "      <td>False</td>\n",
              "      <td>False</td>\n",
              "      <td>False</td>\n",
              "      <td>False</td>\n",
              "      <td>False</td>\n",
              "      <td>1680</td>\n",
              "      <td>1695</td>\n",
              "      <td>15</td>\n",
              "      <td>Early Modern</td>\n",
              "    </tr>\n",
              "    <tr>\n",
              "      <th>88189</th>\n",
              "      <td>1680-1695</td>\n",
              "      <td>0112372_RP-P-2011-65-31.jpg</td>\n",
              "      <td>9</td>\n",
              "      <td>prent</td>\n",
              "      <td>True</td>\n",
              "      <td>False</td>\n",
              "      <td>False</td>\n",
              "      <td>False</td>\n",
              "      <td>False</td>\n",
              "      <td>False</td>\n",
              "      <td>False</td>\n",
              "      <td>1680</td>\n",
              "      <td>1695</td>\n",
              "      <td>15</td>\n",
              "      <td>Early Modern</td>\n",
              "    </tr>\n",
              "    <tr>\n",
              "      <th>88190</th>\n",
              "      <td>1608-1615</td>\n",
              "      <td>0112379_RP-P-2012-4.jpg</td>\n",
              "      <td>9</td>\n",
              "      <td>prent</td>\n",
              "      <td>True</td>\n",
              "      <td>False</td>\n",
              "      <td>False</td>\n",
              "      <td>False</td>\n",
              "      <td>False</td>\n",
              "      <td>False</td>\n",
              "      <td>False</td>\n",
              "      <td>1608</td>\n",
              "      <td>1615</td>\n",
              "      <td>7</td>\n",
              "      <td>Early Modern</td>\n",
              "    </tr>\n",
              "    <tr>\n",
              "      <th>88191</th>\n",
              "      <td>1800-1900</td>\n",
              "      <td>0112380_RP-P-2011-173-1.jpg</td>\n",
              "      <td>9</td>\n",
              "      <td>prent</td>\n",
              "      <td>True</td>\n",
              "      <td>False</td>\n",
              "      <td>False</td>\n",
              "      <td>False</td>\n",
              "      <td>False</td>\n",
              "      <td>False</td>\n",
              "      <td>False</td>\n",
              "      <td>1800</td>\n",
              "      <td>1900</td>\n",
              "      <td>100</td>\n",
              "      <td>Early Modern</td>\n",
              "    </tr>\n",
              "    <tr>\n",
              "      <th>88192</th>\n",
              "      <td>1652-1653</td>\n",
              "      <td>0112381_RP-T-1886-A-704-26.jpg</td>\n",
              "      <td>9</td>\n",
              "      <td>tekening</td>\n",
              "      <td>False</td>\n",
              "      <td>True</td>\n",
              "      <td>False</td>\n",
              "      <td>False</td>\n",
              "      <td>False</td>\n",
              "      <td>False</td>\n",
              "      <td>False</td>\n",
              "      <td>1652</td>\n",
              "      <td>1653</td>\n",
              "      <td>1</td>\n",
              "      <td>Early Modern</td>\n",
              "    </tr>\n",
              "  </tbody>\n",
              "</table>\n",
              "<p>88193 rows × 15 columns</p>\n",
              "</div>"
            ],
            "text/plain": [
              "            date  ... historical_period\n",
              "0      1644-1648  ...      Early Modern\n",
              "1      1675-1685  ...      Early Modern\n",
              "2      1555-1556  ...       Renaissance\n",
              "3      1555-1556  ...       Renaissance\n",
              "4      1553-1553  ...       Renaissance\n",
              "...          ...  ...               ...\n",
              "88188  1680-1695  ...      Early Modern\n",
              "88189  1680-1695  ...      Early Modern\n",
              "88190  1608-1615  ...      Early Modern\n",
              "88191  1800-1900  ...      Early Modern\n",
              "88192  1652-1653  ...      Early Modern\n",
              "\n",
              "[88193 rows x 15 columns]"
            ]
          },
          "metadata": {
            "tags": []
          },
          "execution_count": 168
        }
      ]
    },
    {
      "cell_type": "code",
      "metadata": {
        "id": "q9boGYKHCC2Z"
      },
      "source": [
        "date_type_df.to_csv('renaissance_early_modern_drawings.csv')"
      ],
      "execution_count": null,
      "outputs": []
    },
    {
      "cell_type": "markdown",
      "metadata": {
        "id": "oRqhL78hpKlL"
      },
      "source": [
        "## Import cleaned CSV"
      ]
    },
    {
      "cell_type": "code",
      "metadata": {
        "id": "BYlO89y5o2H0"
      },
      "source": [
        "import pandas as pd\n",
        "date_type_df = pd.read_csv('renaissance_early_modern_drawings.csv', index_col=0)"
      ],
      "execution_count": 6,
      "outputs": []
    },
    {
      "cell_type": "code",
      "metadata": {
        "id": "ej2OCzF0CNvI",
        "outputId": "e14b05ad-1802-4318-9343-16899d2253f6",
        "colab": {
          "base_uri": "https://localhost:8080/",
          "height": 399
        }
      },
      "source": [
        "date_type_df = date_type_df.loc[:, ['tag','type','historical_period']]\n",
        "date_type_df"
      ],
      "execution_count": 7,
      "outputs": [
        {
          "output_type": "execute_result",
          "data": {
            "text/html": [
              "<div>\n",
              "<style scoped>\n",
              "    .dataframe tbody tr th:only-of-type {\n",
              "        vertical-align: middle;\n",
              "    }\n",
              "\n",
              "    .dataframe tbody tr th {\n",
              "        vertical-align: top;\n",
              "    }\n",
              "\n",
              "    .dataframe thead th {\n",
              "        text-align: right;\n",
              "    }\n",
              "</style>\n",
              "<table border=\"1\" class=\"dataframe\">\n",
              "  <thead>\n",
              "    <tr style=\"text-align: right;\">\n",
              "      <th></th>\n",
              "      <th>tag</th>\n",
              "      <th>type</th>\n",
              "      <th>historical_period</th>\n",
              "    </tr>\n",
              "  </thead>\n",
              "  <tbody>\n",
              "    <tr>\n",
              "      <th>0</th>\n",
              "      <td>0000001_SK-A-4878.jpg</td>\n",
              "      <td>schilderij</td>\n",
              "      <td>Early Modern</td>\n",
              "    </tr>\n",
              "    <tr>\n",
              "      <th>1</th>\n",
              "      <td>0000003_SK-A-4881.jpg</td>\n",
              "      <td>schilderij</td>\n",
              "      <td>Early Modern</td>\n",
              "    </tr>\n",
              "    <tr>\n",
              "      <th>2</th>\n",
              "      <td>0000004_RP-P-1992-35.jpg</td>\n",
              "      <td>['prent', 'historieprent']</td>\n",
              "      <td>Renaissance</td>\n",
              "    </tr>\n",
              "    <tr>\n",
              "      <th>3</th>\n",
              "      <td>0000005_RP-P-1992-36.jpg</td>\n",
              "      <td>['prent', 'historieprent']</td>\n",
              "      <td>Renaissance</td>\n",
              "    </tr>\n",
              "    <tr>\n",
              "      <th>4</th>\n",
              "      <td>0000006_RP-P-1992-68.jpg</td>\n",
              "      <td>prent</td>\n",
              "      <td>Renaissance</td>\n",
              "    </tr>\n",
              "    <tr>\n",
              "      <th>...</th>\n",
              "      <td>...</td>\n",
              "      <td>...</td>\n",
              "      <td>...</td>\n",
              "    </tr>\n",
              "    <tr>\n",
              "      <th>88188</th>\n",
              "      <td>0112371_RP-P-2011-65-30.jpg</td>\n",
              "      <td>prent</td>\n",
              "      <td>Early Modern</td>\n",
              "    </tr>\n",
              "    <tr>\n",
              "      <th>88189</th>\n",
              "      <td>0112372_RP-P-2011-65-31.jpg</td>\n",
              "      <td>prent</td>\n",
              "      <td>Early Modern</td>\n",
              "    </tr>\n",
              "    <tr>\n",
              "      <th>88190</th>\n",
              "      <td>0112379_RP-P-2012-4.jpg</td>\n",
              "      <td>prent</td>\n",
              "      <td>Early Modern</td>\n",
              "    </tr>\n",
              "    <tr>\n",
              "      <th>88191</th>\n",
              "      <td>0112380_RP-P-2011-173-1.jpg</td>\n",
              "      <td>prent</td>\n",
              "      <td>Early Modern</td>\n",
              "    </tr>\n",
              "    <tr>\n",
              "      <th>88192</th>\n",
              "      <td>0112381_RP-T-1886-A-704-26.jpg</td>\n",
              "      <td>tekening</td>\n",
              "      <td>Early Modern</td>\n",
              "    </tr>\n",
              "  </tbody>\n",
              "</table>\n",
              "<p>88193 rows × 3 columns</p>\n",
              "</div>"
            ],
            "text/plain": [
              "                                  tag  ... historical_period\n",
              "0               0000001_SK-A-4878.jpg  ...      Early Modern\n",
              "1               0000003_SK-A-4881.jpg  ...      Early Modern\n",
              "2            0000004_RP-P-1992-35.jpg  ...       Renaissance\n",
              "3            0000005_RP-P-1992-36.jpg  ...       Renaissance\n",
              "4            0000006_RP-P-1992-68.jpg  ...       Renaissance\n",
              "...                               ...  ...               ...\n",
              "88188     0112371_RP-P-2011-65-30.jpg  ...      Early Modern\n",
              "88189     0112372_RP-P-2011-65-31.jpg  ...      Early Modern\n",
              "88190         0112379_RP-P-2012-4.jpg  ...      Early Modern\n",
              "88191     0112380_RP-P-2011-173-1.jpg  ...      Early Modern\n",
              "88192  0112381_RP-T-1886-A-704-26.jpg  ...      Early Modern\n",
              "\n",
              "[88193 rows x 3 columns]"
            ]
          },
          "metadata": {
            "tags": []
          },
          "execution_count": 7
        }
      ]
    },
    {
      "cell_type": "code",
      "metadata": {
        "id": "sLIJGHmsbq0k",
        "outputId": "6a3e2eb3-9f9c-4091-8839-958d36b1e514",
        "colab": {
          "base_uri": "https://localhost:8080/",
          "height": 194
        }
      },
      "source": [
        "date_type_df['file_name'] = '/content/gdrive/My Drive/Kaggle/Rijksmuseum/jpg/' +date_type_df['tag']\n",
        "date_type_df.head()"
      ],
      "execution_count": 8,
      "outputs": [
        {
          "output_type": "execute_result",
          "data": {
            "text/html": [
              "<div>\n",
              "<style scoped>\n",
              "    .dataframe tbody tr th:only-of-type {\n",
              "        vertical-align: middle;\n",
              "    }\n",
              "\n",
              "    .dataframe tbody tr th {\n",
              "        vertical-align: top;\n",
              "    }\n",
              "\n",
              "    .dataframe thead th {\n",
              "        text-align: right;\n",
              "    }\n",
              "</style>\n",
              "<table border=\"1\" class=\"dataframe\">\n",
              "  <thead>\n",
              "    <tr style=\"text-align: right;\">\n",
              "      <th></th>\n",
              "      <th>tag</th>\n",
              "      <th>type</th>\n",
              "      <th>historical_period</th>\n",
              "      <th>file_name</th>\n",
              "    </tr>\n",
              "  </thead>\n",
              "  <tbody>\n",
              "    <tr>\n",
              "      <th>0</th>\n",
              "      <td>0000001_SK-A-4878.jpg</td>\n",
              "      <td>schilderij</td>\n",
              "      <td>Early Modern</td>\n",
              "      <td>/content/gdrive/My Drive/Kaggle/Rijksmuseum/jp...</td>\n",
              "    </tr>\n",
              "    <tr>\n",
              "      <th>1</th>\n",
              "      <td>0000003_SK-A-4881.jpg</td>\n",
              "      <td>schilderij</td>\n",
              "      <td>Early Modern</td>\n",
              "      <td>/content/gdrive/My Drive/Kaggle/Rijksmuseum/jp...</td>\n",
              "    </tr>\n",
              "    <tr>\n",
              "      <th>2</th>\n",
              "      <td>0000004_RP-P-1992-35.jpg</td>\n",
              "      <td>['prent', 'historieprent']</td>\n",
              "      <td>Renaissance</td>\n",
              "      <td>/content/gdrive/My Drive/Kaggle/Rijksmuseum/jp...</td>\n",
              "    </tr>\n",
              "    <tr>\n",
              "      <th>3</th>\n",
              "      <td>0000005_RP-P-1992-36.jpg</td>\n",
              "      <td>['prent', 'historieprent']</td>\n",
              "      <td>Renaissance</td>\n",
              "      <td>/content/gdrive/My Drive/Kaggle/Rijksmuseum/jp...</td>\n",
              "    </tr>\n",
              "    <tr>\n",
              "      <th>4</th>\n",
              "      <td>0000006_RP-P-1992-68.jpg</td>\n",
              "      <td>prent</td>\n",
              "      <td>Renaissance</td>\n",
              "      <td>/content/gdrive/My Drive/Kaggle/Rijksmuseum/jp...</td>\n",
              "    </tr>\n",
              "  </tbody>\n",
              "</table>\n",
              "</div>"
            ],
            "text/plain": [
              "                        tag  ...                                          file_name\n",
              "0     0000001_SK-A-4878.jpg  ...  /content/gdrive/My Drive/Kaggle/Rijksmuseum/jp...\n",
              "1     0000003_SK-A-4881.jpg  ...  /content/gdrive/My Drive/Kaggle/Rijksmuseum/jp...\n",
              "2  0000004_RP-P-1992-35.jpg  ...  /content/gdrive/My Drive/Kaggle/Rijksmuseum/jp...\n",
              "3  0000005_RP-P-1992-36.jpg  ...  /content/gdrive/My Drive/Kaggle/Rijksmuseum/jp...\n",
              "4  0000006_RP-P-1992-68.jpg  ...  /content/gdrive/My Drive/Kaggle/Rijksmuseum/jp...\n",
              "\n",
              "[5 rows x 4 columns]"
            ]
          },
          "metadata": {
            "tags": []
          },
          "execution_count": 8
        }
      ]
    },
    {
      "cell_type": "code",
      "metadata": {
        "id": "03IDo-aPb913",
        "outputId": "888d4743-8430-4866-a28f-25d44d6bc722",
        "colab": {
          "base_uri": "https://localhost:8080/",
          "height": 35
        }
      },
      "source": [
        "file_list = date_type_df['file_name']\n",
        "file_list[13]"
      ],
      "execution_count": 9,
      "outputs": [
        {
          "output_type": "execute_result",
          "data": {
            "application/vnd.google.colaboratory.intrinsic+json": {
              "type": "string"
            },
            "text/plain": [
              "'/content/gdrive/My Drive/Kaggle/Rijksmuseum/jpg/0000024_RP-T-1948-374.jpg'"
            ]
          },
          "metadata": {
            "tags": []
          },
          "execution_count": 9
        }
      ]
    },
    {
      "cell_type": "code",
      "metadata": {
        "id": "ub4gFNlrtXl1",
        "outputId": "8f0b6ef5-4651-4b07-d9e2-da78aaa7697c",
        "colab": {
          "base_uri": "https://localhost:8080/",
          "height": 35
        }
      },
      "source": [
        "file_list[547]"
      ],
      "execution_count": 10,
      "outputs": [
        {
          "output_type": "execute_result",
          "data": {
            "application/vnd.google.colaboratory.intrinsic+json": {
              "type": "string"
            },
            "text/plain": [
              "'/content/gdrive/My Drive/Kaggle/Rijksmuseum/jpg/0002188_SK-C-404.jpg'"
            ]
          },
          "metadata": {
            "tags": []
          },
          "execution_count": 10
        }
      ]
    },
    {
      "cell_type": "markdown",
      "metadata": {
        "id": "GHc1skAaqKGK"
      },
      "source": [
        "这次目标是在88193张文艺复兴和中世纪的艺术品的图片中，找出人像来训练GAN"
      ]
    },
    {
      "cell_type": "markdown",
      "metadata": {
        "id": "cIedrCdJZiOu"
      },
      "source": [
        "## Crop Face Function🌟🌟🌟!!!"
      ]
    },
    {
      "cell_type": "code",
      "metadata": {
        "id": "SgjgW6al77yb"
      },
      "source": [
        "#重要 因为Azure face默认的框很小，只是面部，所以我放大一下\n",
        "scale_factor = 1.5"
      ],
      "execution_count": 11,
      "outputs": []
    },
    {
      "cell_type": "code",
      "metadata": {
        "id": "V8qcYKvwrqYd"
      },
      "source": [
        "python main.py --image_size 128 --output_size 128 --dataset rijks --is_crop True --is_train True --epoch 300 --input_fname_pattern \"*.jpg\""
      ],
      "execution_count": null,
      "outputs": []
    },
    {
      "cell_type": "code",
      "metadata": {
        "id": "KdAGa6ousl9H"
      },
      "source": [
        "cd C:\\Users\\xingx\\Downloads\\DCGAN-tensorflow-master"
      ],
      "execution_count": null,
      "outputs": []
    },
    {
      "cell_type": "code",
      "metadata": {
        "id": "fi-4mVFH2anU"
      },
      "source": [
        "def crop_face(file_path):\n",
        "\n",
        "  #这个是把图片弄成stream\n",
        "  read_image = cv2.imread(file_path)\n",
        "  w = open(file_path, 'r+b')\n",
        "\n",
        "  #api request到Azure\n",
        "  detected_faces = face_client.face.detect_with_stream(w)\n",
        "\n",
        "  #如果检测到的话\n",
        "  if detected_faces:\n",
        "    \n",
        "    #因为有可能每张照片不止一个人\n",
        "    for i, face in enumerate(detected_faces):\n",
        "      print(i, face)\n",
        "      rect = face.face_rectangle\n",
        "      left = rect.left\n",
        "      top = rect.top\n",
        "      right = left + rect.width\n",
        "      bottom = top + rect.height\n",
        "      width = rect.width\n",
        "      new_width = round(rect.width*scale_factor)\n",
        "\n",
        "      if width%2 != 0:\n",
        "        width+=1\n",
        "\n",
        "      if new_width%2 != 0:\n",
        "        new_width+=1\n",
        "      \n",
        "      delta = int((new_width - width)/2)\n",
        "\n",
        "      #怕框超出界\n",
        "      bool1 = (top-delta)<0\n",
        "      bool2 = (left-delta)<0\n",
        "      bool3 = (bottom+delta)>read_image.shape[0]\n",
        "      bool4 = (right+delta)>read_image.shape[1]\n",
        "\n",
        "      if(bool1 or bool2 or bool3 or bool4):\n",
        "        min_value = min(top-delta, left-delta, read_image.shape[0]-(bottom+delta), read_image.shape[1]-(right+delta))\n",
        "        delta = delta+min_value\n",
        "\n",
        "      face_pix = read_image[top-delta:bottom+delta, left-delta:right+delta, :]\n",
        "      face_pix = cv2.resize(face_pix, (128, 128))\n",
        "      save_filename = '%s-%d.jpg' % (os.path.basename(file_path).split('.')[0], i)\n",
        "      cv2.imwrite(\"faces/Renaissance/\" + save_filename, face_pix)\n",
        "  \n",
        "  \n",
        "  #没检测到的话\n",
        "  else:\n",
        "    print('No face detected from image {}'.format(os.path.basename(file_path)))"
      ],
      "execution_count": 12,
      "outputs": []
    },
    {
      "cell_type": "markdown",
      "metadata": {
        "id": "6HCusbH0Zsjc"
      },
      "source": [
        "## Operate Crop Function"
      ]
    },
    {
      "cell_type": "code",
      "metadata": {
        "id": "PGj358lXHxQP"
      },
      "source": [
        "import time\n",
        "starttime = time.time()\n",
        "i=0\n",
        "while True:\n",
        "  print(\"tick: processing \\t\"+str(i)+\"\\t piece of file\")\n",
        "  crop_face(file_list[i])\n",
        "  i+=1\n",
        "\n",
        "  #if using free account, then the limit of api is 20 requests per minute\n",
        "  #time.sleep(7 - time.time() % 7)"
      ],
      "execution_count": null,
      "outputs": []
    }
  ]
}