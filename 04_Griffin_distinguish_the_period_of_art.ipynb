{
  "nbformat": 4,
  "nbformat_minor": 0,
  "metadata": {
    "colab": {
      "name": "04#Griffin_distinguish the period of art",
      "provenance": [],
      "collapsed_sections": [
        "-LS3BBTGaw-U",
        "_Gs2CWmWVT-b",
        "qco7pHZOc9vy"
      ],
      "authorship_tag": "ABX9TyPLCFJAzpQmSk92MLADExlh",
      "include_colab_link": true
    },
    "kernelspec": {
      "name": "python3",
      "display_name": "Python 3"
    },
    "accelerator": "TPU"
  },
  "cells": [
    {
      "cell_type": "markdown",
      "metadata": {
        "id": "view-in-github",
        "colab_type": "text"
      },
      "source": [
        "<a href=\"https://colab.research.google.com/github/XingxinHE/Chief_Curator_Griffin/blob/master/04_Griffin_distinguish_the_period_of_art.ipynb\" target=\"_parent\"><img src=\"https://colab.research.google.com/assets/colab-badge.svg\" alt=\"Open In Colab\"/></a>"
      ]
    },
    {
      "cell_type": "code",
      "metadata": {
        "id": "vXhVkDcf04fS",
        "outputId": "0a1c6131-b8b3-45b1-b3eb-bdeca4f6e477",
        "colab": {
          "base_uri": "https://localhost:8080/",
          "height": 33
        }
      },
      "source": [
        "from google.colab import drive\n",
        "drive.mount('/content/gdrive')\n",
        "import os, shutil\n",
        "os.chdir(\"/content/gdrive/My Drive/Kaggle/Rijksmuseum\")"
      ],
      "execution_count": 1,
      "outputs": [
        {
          "output_type": "stream",
          "text": [
            "Mounted at /content/gdrive\n"
          ],
          "name": "stdout"
        }
      ]
    },
    {
      "cell_type": "code",
      "metadata": {
        "id": "E11SSaGC0SZf"
      },
      "source": [
        "import pandas as pd\n",
        "import numpy as np"
      ],
      "execution_count": 2,
      "outputs": []
    },
    {
      "cell_type": "code",
      "metadata": {
        "id": "EYmkiBJZdJs7",
        "outputId": "e490ad8d-630d-4c63-b8ea-3b31c6b9abd2",
        "colab": {
          "base_uri": "https://localhost:8080/",
          "height": 201
        }
      },
      "source": [
        "ls"
      ],
      "execution_count": 3,
      "outputs": [
        {
          "output_type": "stream",
          "text": [
            "'01#Loading Info From XML'\n",
            "'02#Discover Interesting Data'\n",
            "'03#Griffin Try to distinguish the type of art_batch'\n",
            "'04#Griffin Try to distinguish the date of art_batch'\n",
            " date_df.csv\n",
            "'[FAIL & ANALYSIS] 03#Griffin Try to distinguish the type of art'\n",
            " \u001b[0m\u001b[01;34mjpg\u001b[0m/\n",
            " project_curator.csv\n",
            " type_df.csv\n",
            " Untitled0.ipynb\n",
            " \u001b[01;34mxml\u001b[0m/\n"
          ],
          "name": "stdout"
        }
      ]
    },
    {
      "cell_type": "markdown",
      "metadata": {
        "id": "-LS3BBTGaw-U"
      },
      "source": [
        "## Import the csv"
      ]
    },
    {
      "cell_type": "code",
      "metadata": {
        "id": "opt2CBAbi6qA",
        "outputId": "b628b728-4c86-4493-e814-ebdb02777186",
        "colab": {
          "base_uri": "https://localhost:8080/",
          "height": 404
        }
      },
      "source": [
        "type_df = pd.read_csv('type_df.csv', index_col=0)\n",
        "type_df['tag'] = type_df['tag']+'.jpg'\n",
        "type_df"
      ],
      "execution_count": 50,
      "outputs": [
        {
          "output_type": "execute_result",
          "data": {
            "text/html": [
              "<div>\n",
              "<style scoped>\n",
              "    .dataframe tbody tr th:only-of-type {\n",
              "        vertical-align: middle;\n",
              "    }\n",
              "\n",
              "    .dataframe tbody tr th {\n",
              "        vertical-align: top;\n",
              "    }\n",
              "\n",
              "    .dataframe thead th {\n",
              "        text-align: right;\n",
              "    }\n",
              "</style>\n",
              "<table border=\"1\" class=\"dataframe\">\n",
              "  <thead>\n",
              "    <tr style=\"text-align: right;\">\n",
              "      <th></th>\n",
              "      <th>type</th>\n",
              "      <th>tag</th>\n",
              "      <th>prent</th>\n",
              "      <th>tekening</th>\n",
              "      <th>boekillustratie</th>\n",
              "      <th>ornament</th>\n",
              "      <th>schilderij</th>\n",
              "      <th>historie</th>\n",
              "      <th>foto</th>\n",
              "    </tr>\n",
              "  </thead>\n",
              "  <tbody>\n",
              "    <tr>\n",
              "      <th>0</th>\n",
              "      <td>schilderij</td>\n",
              "      <td>0000001_SK-A-4878.jpg</td>\n",
              "      <td>False</td>\n",
              "      <td>False</td>\n",
              "      <td>False</td>\n",
              "      <td>False</td>\n",
              "      <td>True</td>\n",
              "      <td>False</td>\n",
              "      <td>False</td>\n",
              "    </tr>\n",
              "    <tr>\n",
              "      <th>1</th>\n",
              "      <td>schilderij</td>\n",
              "      <td>0000002_SK-A-4877.jpg</td>\n",
              "      <td>False</td>\n",
              "      <td>False</td>\n",
              "      <td>False</td>\n",
              "      <td>False</td>\n",
              "      <td>True</td>\n",
              "      <td>False</td>\n",
              "      <td>False</td>\n",
              "    </tr>\n",
              "    <tr>\n",
              "      <th>2</th>\n",
              "      <td>schilderij</td>\n",
              "      <td>0000003_SK-A-4881.jpg</td>\n",
              "      <td>False</td>\n",
              "      <td>False</td>\n",
              "      <td>False</td>\n",
              "      <td>False</td>\n",
              "      <td>True</td>\n",
              "      <td>False</td>\n",
              "      <td>False</td>\n",
              "    </tr>\n",
              "    <tr>\n",
              "      <th>3</th>\n",
              "      <td>['prent', 'historieprent']</td>\n",
              "      <td>0000004_RP-P-1992-35.jpg</td>\n",
              "      <td>True</td>\n",
              "      <td>False</td>\n",
              "      <td>False</td>\n",
              "      <td>False</td>\n",
              "      <td>False</td>\n",
              "      <td>True</td>\n",
              "      <td>False</td>\n",
              "    </tr>\n",
              "    <tr>\n",
              "      <th>4</th>\n",
              "      <td>['prent', 'historieprent']</td>\n",
              "      <td>0000005_RP-P-1992-36.jpg</td>\n",
              "      <td>True</td>\n",
              "      <td>False</td>\n",
              "      <td>False</td>\n",
              "      <td>False</td>\n",
              "      <td>False</td>\n",
              "      <td>True</td>\n",
              "      <td>False</td>\n",
              "    </tr>\n",
              "    <tr>\n",
              "      <th>...</th>\n",
              "      <td>...</td>\n",
              "      <td>...</td>\n",
              "      <td>...</td>\n",
              "      <td>...</td>\n",
              "      <td>...</td>\n",
              "      <td>...</td>\n",
              "      <td>...</td>\n",
              "      <td>...</td>\n",
              "      <td>...</td>\n",
              "    </tr>\n",
              "    <tr>\n",
              "      <th>112034</th>\n",
              "      <td>schotel</td>\n",
              "      <td>0112410_AK-RBK-14763-A-2.jpg</td>\n",
              "      <td>False</td>\n",
              "      <td>False</td>\n",
              "      <td>False</td>\n",
              "      <td>False</td>\n",
              "      <td>False</td>\n",
              "      <td>False</td>\n",
              "      <td>False</td>\n",
              "    </tr>\n",
              "    <tr>\n",
              "      <th>112035</th>\n",
              "      <td>prent</td>\n",
              "      <td>0112411_RP-P-OB-86.512.jpg</td>\n",
              "      <td>True</td>\n",
              "      <td>False</td>\n",
              "      <td>False</td>\n",
              "      <td>False</td>\n",
              "      <td>False</td>\n",
              "      <td>False</td>\n",
              "      <td>False</td>\n",
              "    </tr>\n",
              "    <tr>\n",
              "      <th>112036</th>\n",
              "      <td>['inktpot', 'deksel']</td>\n",
              "      <td>0112412_NG-NM-7753.jpg</td>\n",
              "      <td>False</td>\n",
              "      <td>False</td>\n",
              "      <td>False</td>\n",
              "      <td>False</td>\n",
              "      <td>False</td>\n",
              "      <td>False</td>\n",
              "      <td>False</td>\n",
              "    </tr>\n",
              "    <tr>\n",
              "      <th>112037</th>\n",
              "      <td>hartsvanger</td>\n",
              "      <td>0112413_NG-NM-8358.jpg</td>\n",
              "      <td>False</td>\n",
              "      <td>False</td>\n",
              "      <td>False</td>\n",
              "      <td>False</td>\n",
              "      <td>False</td>\n",
              "      <td>False</td>\n",
              "      <td>False</td>\n",
              "    </tr>\n",
              "    <tr>\n",
              "      <th>112038</th>\n",
              "      <td>munt</td>\n",
              "      <td>0112414_NG-KOG-2192.jpg</td>\n",
              "      <td>False</td>\n",
              "      <td>False</td>\n",
              "      <td>False</td>\n",
              "      <td>False</td>\n",
              "      <td>False</td>\n",
              "      <td>False</td>\n",
              "      <td>False</td>\n",
              "    </tr>\n",
              "  </tbody>\n",
              "</table>\n",
              "<p>112039 rows × 9 columns</p>\n",
              "</div>"
            ],
            "text/plain": [
              "                              type  ...   foto\n",
              "0                       schilderij  ...  False\n",
              "1                       schilderij  ...  False\n",
              "2                       schilderij  ...  False\n",
              "3       ['prent', 'historieprent']  ...  False\n",
              "4       ['prent', 'historieprent']  ...  False\n",
              "...                            ...  ...    ...\n",
              "112034                     schotel  ...  False\n",
              "112035                       prent  ...  False\n",
              "112036       ['inktpot', 'deksel']  ...  False\n",
              "112037                 hartsvanger  ...  False\n",
              "112038                        munt  ...  False\n",
              "\n",
              "[112039 rows x 9 columns]"
            ]
          },
          "metadata": {
            "tags": []
          },
          "execution_count": 50
        }
      ]
    },
    {
      "cell_type": "code",
      "metadata": {
        "id": "p73XUsGq9_F4"
      },
      "source": [
        "date_df = pd.read_csv('date_df.csv', index_col=0)"
      ],
      "execution_count": 4,
      "outputs": []
    },
    {
      "cell_type": "code",
      "metadata": {
        "id": "nS2Y68ZfWnky"
      },
      "source": [
        "date_df['tag'] = date_df['tag'] + '.jpg'"
      ],
      "execution_count": 6,
      "outputs": []
    },
    {
      "cell_type": "code",
      "metadata": {
        "id": "Qmj9S7VYWzQB",
        "outputId": "cf5dbeb0-93aa-46f4-a5b4-043b82957a78",
        "colab": {
          "base_uri": "https://localhost:8080/",
          "height": 404
        }
      },
      "source": [
        "date_df"
      ],
      "execution_count": 8,
      "outputs": [
        {
          "output_type": "execute_result",
          "data": {
            "text/html": [
              "<div>\n",
              "<style scoped>\n",
              "    .dataframe tbody tr th:only-of-type {\n",
              "        vertical-align: middle;\n",
              "    }\n",
              "\n",
              "    .dataframe tbody tr th {\n",
              "        vertical-align: top;\n",
              "    }\n",
              "\n",
              "    .dataframe thead th {\n",
              "        text-align: right;\n",
              "    }\n",
              "</style>\n",
              "<table border=\"1\" class=\"dataframe\">\n",
              "  <thead>\n",
              "    <tr style=\"text-align: right;\">\n",
              "      <th></th>\n",
              "      <th>date</th>\n",
              "      <th>tag</th>\n",
              "      <th>date_str_len</th>\n",
              "    </tr>\n",
              "  </thead>\n",
              "  <tbody>\n",
              "    <tr>\n",
              "      <th>0</th>\n",
              "      <td>1644-1648</td>\n",
              "      <td>0000001_SK-A-4878.jpg</td>\n",
              "      <td>9</td>\n",
              "    </tr>\n",
              "    <tr>\n",
              "      <th>1</th>\n",
              "      <td>1857-1857</td>\n",
              "      <td>0000002_SK-A-4877.jpg</td>\n",
              "      <td>9</td>\n",
              "    </tr>\n",
              "    <tr>\n",
              "      <th>2</th>\n",
              "      <td>1675-1685</td>\n",
              "      <td>0000003_SK-A-4881.jpg</td>\n",
              "      <td>9</td>\n",
              "    </tr>\n",
              "    <tr>\n",
              "      <th>3</th>\n",
              "      <td>1555-1556</td>\n",
              "      <td>0000004_RP-P-1992-35.jpg</td>\n",
              "      <td>9</td>\n",
              "    </tr>\n",
              "    <tr>\n",
              "      <th>4</th>\n",
              "      <td>1555-1556</td>\n",
              "      <td>0000005_RP-P-1992-36.jpg</td>\n",
              "      <td>9</td>\n",
              "    </tr>\n",
              "    <tr>\n",
              "      <th>...</th>\n",
              "      <td>...</td>\n",
              "      <td>...</td>\n",
              "      <td>...</td>\n",
              "    </tr>\n",
              "    <tr>\n",
              "      <th>112034</th>\n",
              "      <td>1700-1725</td>\n",
              "      <td>0112410_AK-RBK-14763-A-2.jpg</td>\n",
              "      <td>9</td>\n",
              "    </tr>\n",
              "    <tr>\n",
              "      <th>112035</th>\n",
              "      <td>1863-1863</td>\n",
              "      <td>0112411_RP-P-OB-86.512.jpg</td>\n",
              "      <td>9</td>\n",
              "    </tr>\n",
              "    <tr>\n",
              "      <th>112036</th>\n",
              "      <td>1590-1596</td>\n",
              "      <td>0112412_NG-NM-7753.jpg</td>\n",
              "      <td>9</td>\n",
              "    </tr>\n",
              "    <tr>\n",
              "      <th>112037</th>\n",
              "      <td>1774-1790</td>\n",
              "      <td>0112413_NG-NM-8358.jpg</td>\n",
              "      <td>9</td>\n",
              "    </tr>\n",
              "    <tr>\n",
              "      <th>112038</th>\n",
              "      <td>1808-1808</td>\n",
              "      <td>0112414_NG-KOG-2192.jpg</td>\n",
              "      <td>9</td>\n",
              "    </tr>\n",
              "  </tbody>\n",
              "</table>\n",
              "<p>112039 rows × 3 columns</p>\n",
              "</div>"
            ],
            "text/plain": [
              "             date                           tag  date_str_len\n",
              "0       1644-1648         0000001_SK-A-4878.jpg             9\n",
              "1       1857-1857         0000002_SK-A-4877.jpg             9\n",
              "2       1675-1685         0000003_SK-A-4881.jpg             9\n",
              "3       1555-1556      0000004_RP-P-1992-35.jpg             9\n",
              "4       1555-1556      0000005_RP-P-1992-36.jpg             9\n",
              "...           ...                           ...           ...\n",
              "112034  1700-1725  0112410_AK-RBK-14763-A-2.jpg             9\n",
              "112035  1863-1863    0112411_RP-P-OB-86.512.jpg             9\n",
              "112036  1590-1596        0112412_NG-NM-7753.jpg             9\n",
              "112037  1774-1790        0112413_NG-NM-8358.jpg             9\n",
              "112038  1808-1808       0112414_NG-KOG-2192.jpg             9\n",
              "\n",
              "[112039 rows x 3 columns]"
            ]
          },
          "metadata": {
            "tags": []
          },
          "execution_count": 8
        }
      ]
    },
    {
      "cell_type": "code",
      "metadata": {
        "id": "fQ6ij1jXi2MM",
        "outputId": "352e5c04-7fa0-47db-8fa0-a1464c1a9f3a",
        "colab": {
          "base_uri": "https://localhost:8080/",
          "height": 404
        }
      },
      "source": [
        "date_df.merge(type_df, on='tag', how='outer')"
      ],
      "execution_count": 55,
      "outputs": [
        {
          "output_type": "execute_result",
          "data": {
            "text/html": [
              "<div>\n",
              "<style scoped>\n",
              "    .dataframe tbody tr th:only-of-type {\n",
              "        vertical-align: middle;\n",
              "    }\n",
              "\n",
              "    .dataframe tbody tr th {\n",
              "        vertical-align: top;\n",
              "    }\n",
              "\n",
              "    .dataframe thead th {\n",
              "        text-align: right;\n",
              "    }\n",
              "</style>\n",
              "<table border=\"1\" class=\"dataframe\">\n",
              "  <thead>\n",
              "    <tr style=\"text-align: right;\">\n",
              "      <th></th>\n",
              "      <th>date</th>\n",
              "      <th>tag</th>\n",
              "      <th>date_str_len</th>\n",
              "      <th>type</th>\n",
              "      <th>prent</th>\n",
              "      <th>tekening</th>\n",
              "      <th>boekillustratie</th>\n",
              "      <th>ornament</th>\n",
              "      <th>schilderij</th>\n",
              "      <th>historie</th>\n",
              "      <th>foto</th>\n",
              "    </tr>\n",
              "  </thead>\n",
              "  <tbody>\n",
              "    <tr>\n",
              "      <th>0</th>\n",
              "      <td>1644-1648</td>\n",
              "      <td>0000001_SK-A-4878.jpg</td>\n",
              "      <td>9</td>\n",
              "      <td>schilderij</td>\n",
              "      <td>False</td>\n",
              "      <td>False</td>\n",
              "      <td>False</td>\n",
              "      <td>False</td>\n",
              "      <td>True</td>\n",
              "      <td>False</td>\n",
              "      <td>False</td>\n",
              "    </tr>\n",
              "    <tr>\n",
              "      <th>1</th>\n",
              "      <td>1857-1857</td>\n",
              "      <td>0000002_SK-A-4877.jpg</td>\n",
              "      <td>9</td>\n",
              "      <td>schilderij</td>\n",
              "      <td>False</td>\n",
              "      <td>False</td>\n",
              "      <td>False</td>\n",
              "      <td>False</td>\n",
              "      <td>True</td>\n",
              "      <td>False</td>\n",
              "      <td>False</td>\n",
              "    </tr>\n",
              "    <tr>\n",
              "      <th>2</th>\n",
              "      <td>1675-1685</td>\n",
              "      <td>0000003_SK-A-4881.jpg</td>\n",
              "      <td>9</td>\n",
              "      <td>schilderij</td>\n",
              "      <td>False</td>\n",
              "      <td>False</td>\n",
              "      <td>False</td>\n",
              "      <td>False</td>\n",
              "      <td>True</td>\n",
              "      <td>False</td>\n",
              "      <td>False</td>\n",
              "    </tr>\n",
              "    <tr>\n",
              "      <th>3</th>\n",
              "      <td>1555-1556</td>\n",
              "      <td>0000004_RP-P-1992-35.jpg</td>\n",
              "      <td>9</td>\n",
              "      <td>['prent', 'historieprent']</td>\n",
              "      <td>True</td>\n",
              "      <td>False</td>\n",
              "      <td>False</td>\n",
              "      <td>False</td>\n",
              "      <td>False</td>\n",
              "      <td>True</td>\n",
              "      <td>False</td>\n",
              "    </tr>\n",
              "    <tr>\n",
              "      <th>4</th>\n",
              "      <td>1555-1556</td>\n",
              "      <td>0000005_RP-P-1992-36.jpg</td>\n",
              "      <td>9</td>\n",
              "      <td>['prent', 'historieprent']</td>\n",
              "      <td>True</td>\n",
              "      <td>False</td>\n",
              "      <td>False</td>\n",
              "      <td>False</td>\n",
              "      <td>False</td>\n",
              "      <td>True</td>\n",
              "      <td>False</td>\n",
              "    </tr>\n",
              "    <tr>\n",
              "      <th>...</th>\n",
              "      <td>...</td>\n",
              "      <td>...</td>\n",
              "      <td>...</td>\n",
              "      <td>...</td>\n",
              "      <td>...</td>\n",
              "      <td>...</td>\n",
              "      <td>...</td>\n",
              "      <td>...</td>\n",
              "      <td>...</td>\n",
              "      <td>...</td>\n",
              "      <td>...</td>\n",
              "    </tr>\n",
              "    <tr>\n",
              "      <th>112034</th>\n",
              "      <td>1700-1725</td>\n",
              "      <td>0112410_AK-RBK-14763-A-2.jpg</td>\n",
              "      <td>9</td>\n",
              "      <td>schotel</td>\n",
              "      <td>False</td>\n",
              "      <td>False</td>\n",
              "      <td>False</td>\n",
              "      <td>False</td>\n",
              "      <td>False</td>\n",
              "      <td>False</td>\n",
              "      <td>False</td>\n",
              "    </tr>\n",
              "    <tr>\n",
              "      <th>112035</th>\n",
              "      <td>1863-1863</td>\n",
              "      <td>0112411_RP-P-OB-86.512.jpg</td>\n",
              "      <td>9</td>\n",
              "      <td>prent</td>\n",
              "      <td>True</td>\n",
              "      <td>False</td>\n",
              "      <td>False</td>\n",
              "      <td>False</td>\n",
              "      <td>False</td>\n",
              "      <td>False</td>\n",
              "      <td>False</td>\n",
              "    </tr>\n",
              "    <tr>\n",
              "      <th>112036</th>\n",
              "      <td>1590-1596</td>\n",
              "      <td>0112412_NG-NM-7753.jpg</td>\n",
              "      <td>9</td>\n",
              "      <td>['inktpot', 'deksel']</td>\n",
              "      <td>False</td>\n",
              "      <td>False</td>\n",
              "      <td>False</td>\n",
              "      <td>False</td>\n",
              "      <td>False</td>\n",
              "      <td>False</td>\n",
              "      <td>False</td>\n",
              "    </tr>\n",
              "    <tr>\n",
              "      <th>112037</th>\n",
              "      <td>1774-1790</td>\n",
              "      <td>0112413_NG-NM-8358.jpg</td>\n",
              "      <td>9</td>\n",
              "      <td>hartsvanger</td>\n",
              "      <td>False</td>\n",
              "      <td>False</td>\n",
              "      <td>False</td>\n",
              "      <td>False</td>\n",
              "      <td>False</td>\n",
              "      <td>False</td>\n",
              "      <td>False</td>\n",
              "    </tr>\n",
              "    <tr>\n",
              "      <th>112038</th>\n",
              "      <td>1808-1808</td>\n",
              "      <td>0112414_NG-KOG-2192.jpg</td>\n",
              "      <td>9</td>\n",
              "      <td>munt</td>\n",
              "      <td>False</td>\n",
              "      <td>False</td>\n",
              "      <td>False</td>\n",
              "      <td>False</td>\n",
              "      <td>False</td>\n",
              "      <td>False</td>\n",
              "      <td>False</td>\n",
              "    </tr>\n",
              "  </tbody>\n",
              "</table>\n",
              "<p>112039 rows × 11 columns</p>\n",
              "</div>"
            ],
            "text/plain": [
              "             date                           tag  ...  historie   foto\n",
              "0       1644-1648         0000001_SK-A-4878.jpg  ...     False  False\n",
              "1       1857-1857         0000002_SK-A-4877.jpg  ...     False  False\n",
              "2       1675-1685         0000003_SK-A-4881.jpg  ...     False  False\n",
              "3       1555-1556      0000004_RP-P-1992-35.jpg  ...      True  False\n",
              "4       1555-1556      0000005_RP-P-1992-36.jpg  ...      True  False\n",
              "...           ...                           ...  ...       ...    ...\n",
              "112034  1700-1725  0112410_AK-RBK-14763-A-2.jpg  ...     False  False\n",
              "112035  1863-1863    0112411_RP-P-OB-86.512.jpg  ...     False  False\n",
              "112036  1590-1596        0112412_NG-NM-7753.jpg  ...     False  False\n",
              "112037  1774-1790        0112413_NG-NM-8358.jpg  ...     False  False\n",
              "112038  1808-1808       0112414_NG-KOG-2192.jpg  ...     False  False\n",
              "\n",
              "[112039 rows x 11 columns]"
            ]
          },
          "metadata": {
            "tags": []
          },
          "execution_count": 55
        }
      ]
    },
    {
      "cell_type": "code",
      "metadata": {
        "id": "BP9gqVyJksPD"
      },
      "source": [
        "date_type_df = date_df.merge(type_df, on='tag', how='outer')"
      ],
      "execution_count": 56,
      "outputs": []
    },
    {
      "cell_type": "markdown",
      "metadata": {
        "id": "7mreuqlHuBVi"
      },
      "source": [
        "## Play with the Date data"
      ]
    },
    {
      "cell_type": "code",
      "metadata": {
        "id": "8JbRc2bzkwyI",
        "outputId": "9e9c67dc-934c-4b7b-86ab-4a6ae63fd4fc",
        "colab": {
          "base_uri": "https://localhost:8080/",
          "height": 201
        }
      },
      "source": [
        "date_type_df['date_str_len'].value_counts()"
      ],
      "execution_count": 58,
      "outputs": [
        {
          "output_type": "execute_result",
          "data": {
            "text/plain": [
              "9     110960\n",
              "0        800\n",
              "8        139\n",
              "7         65\n",
              "5         47\n",
              "11        13\n",
              "10         7\n",
              "6          3\n",
              "4          3\n",
              "2          2\n",
              "Name: date_str_len, dtype: int64"
            ]
          },
          "metadata": {
            "tags": []
          },
          "execution_count": 58
        }
      ]
    },
    {
      "cell_type": "markdown",
      "metadata": {
        "id": "A44cfds-k8_a"
      },
      "source": [
        "Only observe length=9 date"
      ]
    },
    {
      "cell_type": "code",
      "metadata": {
        "id": "Eqsi0SsVuFhE"
      },
      "source": [
        "date_type_df = date_type_df[date_type_df['date_str_len']==9]"
      ],
      "execution_count": 60,
      "outputs": []
    },
    {
      "cell_type": "code",
      "metadata": {
        "id": "hRuICcMRiU0A"
      },
      "source": [
        "def start_year(x):\n",
        "  return int(str(x)[:4])\n",
        "\n",
        "def end_year(x):\n",
        "  return int(str(x)[-4:])\n",
        "\n",
        "def periods_cal(x):\n",
        "  return int(str(x)[-4:]) - int(str(x)[:4])"
      ],
      "execution_count": 70,
      "outputs": []
    },
    {
      "cell_type": "code",
      "metadata": {
        "id": "UDgG4Yfffafy",
        "outputId": "d36a7a16-1fb7-441c-d785-76b8ecbc9e5a",
        "colab": {
          "base_uri": "https://localhost:8080/",
          "height": 217
        }
      },
      "source": [
        "date_type_df['date'].apply(start_year)"
      ],
      "execution_count": 64,
      "outputs": [
        {
          "output_type": "execute_result",
          "data": {
            "text/plain": [
              "0         1644\n",
              "1         1857\n",
              "2         1675\n",
              "3         1555\n",
              "4         1555\n",
              "          ... \n",
              "112034    1700\n",
              "112035    1863\n",
              "112036    1590\n",
              "112037    1774\n",
              "112038    1808\n",
              "Name: date, Length: 110960, dtype: int64"
            ]
          },
          "metadata": {
            "tags": []
          },
          "execution_count": 64
        }
      ]
    },
    {
      "cell_type": "code",
      "metadata": {
        "id": "1_ckdEENlimQ",
        "outputId": "e634f6ca-b468-4c37-d8be-e842406d1c84",
        "colab": {
          "base_uri": "https://localhost:8080/",
          "height": 217
        }
      },
      "source": [
        "date_type_df['date'].apply(end_year)"
      ],
      "execution_count": 67,
      "outputs": [
        {
          "output_type": "execute_result",
          "data": {
            "text/plain": [
              "0         1648\n",
              "1         1857\n",
              "2         1685\n",
              "3         1556\n",
              "4         1556\n",
              "          ... \n",
              "112034    1725\n",
              "112035    1863\n",
              "112036    1596\n",
              "112037    1790\n",
              "112038    1808\n",
              "Name: date, Length: 110960, dtype: int64"
            ]
          },
          "metadata": {
            "tags": []
          },
          "execution_count": 67
        }
      ]
    },
    {
      "cell_type": "code",
      "metadata": {
        "id": "t54Yhu36l-FU",
        "outputId": "9d3145ba-1f75-44d7-867d-e85525135c81",
        "colab": {
          "base_uri": "https://localhost:8080/",
          "height": 217
        }
      },
      "source": [
        "date_type_df['date'].apply(periods_cal)"
      ],
      "execution_count": 71,
      "outputs": [
        {
          "output_type": "execute_result",
          "data": {
            "text/plain": [
              "0          4\n",
              "1          0\n",
              "2         10\n",
              "3          1\n",
              "4          1\n",
              "          ..\n",
              "112034    25\n",
              "112035     0\n",
              "112036     6\n",
              "112037    16\n",
              "112038     0\n",
              "Name: date, Length: 110960, dtype: int64"
            ]
          },
          "metadata": {
            "tags": []
          },
          "execution_count": 71
        }
      ]
    },
    {
      "cell_type": "code",
      "metadata": {
        "id": "zRTfRXyjlnQN"
      },
      "source": [
        "date_type_df['start_year'] = date_type_df['date'].apply(start_year)\n",
        "date_type_df['end_year'] = date_type_df['date'].apply(end_year)\n",
        "date_type_df['periods_year'] = date_type_df['date'].apply(periods_cal)"
      ],
      "execution_count": 72,
      "outputs": []
    },
    {
      "cell_type": "code",
      "metadata": {
        "id": "-EbPCT6gimdh",
        "outputId": "6d7c587d-c78a-4fea-bbb8-f2f4d2958f4e",
        "colab": {
          "base_uri": "https://localhost:8080/",
          "height": 280
        }
      },
      "source": [
        "date_type_df.head()"
      ],
      "execution_count": 73,
      "outputs": [
        {
          "output_type": "execute_result",
          "data": {
            "text/html": [
              "<div>\n",
              "<style scoped>\n",
              "    .dataframe tbody tr th:only-of-type {\n",
              "        vertical-align: middle;\n",
              "    }\n",
              "\n",
              "    .dataframe tbody tr th {\n",
              "        vertical-align: top;\n",
              "    }\n",
              "\n",
              "    .dataframe thead th {\n",
              "        text-align: right;\n",
              "    }\n",
              "</style>\n",
              "<table border=\"1\" class=\"dataframe\">\n",
              "  <thead>\n",
              "    <tr style=\"text-align: right;\">\n",
              "      <th></th>\n",
              "      <th>date</th>\n",
              "      <th>tag</th>\n",
              "      <th>date_str_len</th>\n",
              "      <th>type</th>\n",
              "      <th>prent</th>\n",
              "      <th>tekening</th>\n",
              "      <th>boekillustratie</th>\n",
              "      <th>ornament</th>\n",
              "      <th>schilderij</th>\n",
              "      <th>historie</th>\n",
              "      <th>foto</th>\n",
              "      <th>start_year</th>\n",
              "      <th>end_year</th>\n",
              "      <th>periods_year</th>\n",
              "    </tr>\n",
              "  </thead>\n",
              "  <tbody>\n",
              "    <tr>\n",
              "      <th>0</th>\n",
              "      <td>1644-1648</td>\n",
              "      <td>0000001_SK-A-4878.jpg</td>\n",
              "      <td>9</td>\n",
              "      <td>schilderij</td>\n",
              "      <td>False</td>\n",
              "      <td>False</td>\n",
              "      <td>False</td>\n",
              "      <td>False</td>\n",
              "      <td>True</td>\n",
              "      <td>False</td>\n",
              "      <td>False</td>\n",
              "      <td>1644</td>\n",
              "      <td>1648</td>\n",
              "      <td>4</td>\n",
              "    </tr>\n",
              "    <tr>\n",
              "      <th>1</th>\n",
              "      <td>1857-1857</td>\n",
              "      <td>0000002_SK-A-4877.jpg</td>\n",
              "      <td>9</td>\n",
              "      <td>schilderij</td>\n",
              "      <td>False</td>\n",
              "      <td>False</td>\n",
              "      <td>False</td>\n",
              "      <td>False</td>\n",
              "      <td>True</td>\n",
              "      <td>False</td>\n",
              "      <td>False</td>\n",
              "      <td>1857</td>\n",
              "      <td>1857</td>\n",
              "      <td>0</td>\n",
              "    </tr>\n",
              "    <tr>\n",
              "      <th>2</th>\n",
              "      <td>1675-1685</td>\n",
              "      <td>0000003_SK-A-4881.jpg</td>\n",
              "      <td>9</td>\n",
              "      <td>schilderij</td>\n",
              "      <td>False</td>\n",
              "      <td>False</td>\n",
              "      <td>False</td>\n",
              "      <td>False</td>\n",
              "      <td>True</td>\n",
              "      <td>False</td>\n",
              "      <td>False</td>\n",
              "      <td>1675</td>\n",
              "      <td>1685</td>\n",
              "      <td>10</td>\n",
              "    </tr>\n",
              "    <tr>\n",
              "      <th>3</th>\n",
              "      <td>1555-1556</td>\n",
              "      <td>0000004_RP-P-1992-35.jpg</td>\n",
              "      <td>9</td>\n",
              "      <td>['prent', 'historieprent']</td>\n",
              "      <td>True</td>\n",
              "      <td>False</td>\n",
              "      <td>False</td>\n",
              "      <td>False</td>\n",
              "      <td>False</td>\n",
              "      <td>True</td>\n",
              "      <td>False</td>\n",
              "      <td>1555</td>\n",
              "      <td>1556</td>\n",
              "      <td>1</td>\n",
              "    </tr>\n",
              "    <tr>\n",
              "      <th>4</th>\n",
              "      <td>1555-1556</td>\n",
              "      <td>0000005_RP-P-1992-36.jpg</td>\n",
              "      <td>9</td>\n",
              "      <td>['prent', 'historieprent']</td>\n",
              "      <td>True</td>\n",
              "      <td>False</td>\n",
              "      <td>False</td>\n",
              "      <td>False</td>\n",
              "      <td>False</td>\n",
              "      <td>True</td>\n",
              "      <td>False</td>\n",
              "      <td>1555</td>\n",
              "      <td>1556</td>\n",
              "      <td>1</td>\n",
              "    </tr>\n",
              "  </tbody>\n",
              "</table>\n",
              "</div>"
            ],
            "text/plain": [
              "        date                       tag  ...  end_year periods_year\n",
              "0  1644-1648     0000001_SK-A-4878.jpg  ...      1648            4\n",
              "1  1857-1857     0000002_SK-A-4877.jpg  ...      1857            0\n",
              "2  1675-1685     0000003_SK-A-4881.jpg  ...      1685           10\n",
              "3  1555-1556  0000004_RP-P-1992-35.jpg  ...      1556            1\n",
              "4  1555-1556  0000005_RP-P-1992-36.jpg  ...      1556            1\n",
              "\n",
              "[5 rows x 14 columns]"
            ]
          },
          "metadata": {
            "tags": []
          },
          "execution_count": 73
        }
      ]
    },
    {
      "cell_type": "code",
      "metadata": {
        "id": "EXMr5jh8mLzl",
        "outputId": "f294444e-5d2c-45be-b9e9-94d04d73a157",
        "colab": {
          "base_uri": "https://localhost:8080/",
          "height": 217
        }
      },
      "source": [
        "date_type_df['periods_year'].value_counts()"
      ],
      "execution_count": 74,
      "outputs": [
        {
          "output_type": "execute_result",
          "data": {
            "text/plain": [
              " 0      44539\n",
              " 2       4778\n",
              " 4       3555\n",
              " 10      2885\n",
              " 1       2878\n",
              "        ...  \n",
              "-24         1\n",
              " 239        1\n",
              " 198        1\n",
              "-8          1\n",
              " 268        1\n",
              "Name: periods_year, Length: 256, dtype: int64"
            ]
          },
          "metadata": {
            "tags": []
          },
          "execution_count": 74
        }
      ]
    },
    {
      "cell_type": "markdown",
      "metadata": {
        "id": "jgJFWoUUyEqT"
      },
      "source": [
        "发现一个问题，那就是有部分数据写的是反的"
      ]
    },
    {
      "cell_type": "code",
      "metadata": {
        "id": "o5b04a3bmcm2",
        "outputId": "aed094e3-15d9-429e-ec1f-23c3b4bfce03",
        "colab": {
          "base_uri": "https://localhost:8080/",
          "height": 572
        }
      },
      "source": [
        "date_type_df[date_type_df['end_year'] < date_type_df['start_year']]"
      ],
      "execution_count": 76,
      "outputs": [
        {
          "output_type": "execute_result",
          "data": {
            "text/html": [
              "<div>\n",
              "<style scoped>\n",
              "    .dataframe tbody tr th:only-of-type {\n",
              "        vertical-align: middle;\n",
              "    }\n",
              "\n",
              "    .dataframe tbody tr th {\n",
              "        vertical-align: top;\n",
              "    }\n",
              "\n",
              "    .dataframe thead th {\n",
              "        text-align: right;\n",
              "    }\n",
              "</style>\n",
              "<table border=\"1\" class=\"dataframe\">\n",
              "  <thead>\n",
              "    <tr style=\"text-align: right;\">\n",
              "      <th></th>\n",
              "      <th>date</th>\n",
              "      <th>tag</th>\n",
              "      <th>date_str_len</th>\n",
              "      <th>type</th>\n",
              "      <th>prent</th>\n",
              "      <th>tekening</th>\n",
              "      <th>boekillustratie</th>\n",
              "      <th>ornament</th>\n",
              "      <th>schilderij</th>\n",
              "      <th>historie</th>\n",
              "      <th>foto</th>\n",
              "      <th>start_year</th>\n",
              "      <th>end_year</th>\n",
              "      <th>periods_year</th>\n",
              "    </tr>\n",
              "  </thead>\n",
              "  <tbody>\n",
              "    <tr>\n",
              "      <th>1994</th>\n",
              "      <td>1620-1604</td>\n",
              "      <td>0001996_SK-A-4775.jpg</td>\n",
              "      <td>9</td>\n",
              "      <td>schilderij</td>\n",
              "      <td>False</td>\n",
              "      <td>False</td>\n",
              "      <td>False</td>\n",
              "      <td>False</td>\n",
              "      <td>True</td>\n",
              "      <td>False</td>\n",
              "      <td>False</td>\n",
              "      <td>1620</td>\n",
              "      <td>1604</td>\n",
              "      <td>-16</td>\n",
              "    </tr>\n",
              "    <tr>\n",
              "      <th>1995</th>\n",
              "      <td>1620-1605</td>\n",
              "      <td>0001997_SK-A-4774.jpg</td>\n",
              "      <td>9</td>\n",
              "      <td>schilderij</td>\n",
              "      <td>False</td>\n",
              "      <td>False</td>\n",
              "      <td>False</td>\n",
              "      <td>False</td>\n",
              "      <td>True</td>\n",
              "      <td>False</td>\n",
              "      <td>False</td>\n",
              "      <td>1620</td>\n",
              "      <td>1605</td>\n",
              "      <td>-15</td>\n",
              "    </tr>\n",
              "    <tr>\n",
              "      <th>6347</th>\n",
              "      <td>1789-1765</td>\n",
              "      <td>0006351_BK-1967-49.jpg</td>\n",
              "      <td>9</td>\n",
              "      <td>beugeltas</td>\n",
              "      <td>False</td>\n",
              "      <td>False</td>\n",
              "      <td>False</td>\n",
              "      <td>False</td>\n",
              "      <td>False</td>\n",
              "      <td>False</td>\n",
              "      <td>False</td>\n",
              "      <td>1789</td>\n",
              "      <td>1765</td>\n",
              "      <td>-24</td>\n",
              "    </tr>\n",
              "    <tr>\n",
              "      <th>7442</th>\n",
              "      <td>1732-1730</td>\n",
              "      <td>0007446_BK-17017.jpg</td>\n",
              "      <td>9</td>\n",
              "      <td>['onderstel', 'theelepel']</td>\n",
              "      <td>False</td>\n",
              "      <td>False</td>\n",
              "      <td>False</td>\n",
              "      <td>False</td>\n",
              "      <td>False</td>\n",
              "      <td>False</td>\n",
              "      <td>False</td>\n",
              "      <td>1732</td>\n",
              "      <td>1730</td>\n",
              "      <td>-2</td>\n",
              "    </tr>\n",
              "    <tr>\n",
              "      <th>7710</th>\n",
              "      <td>1771-1756</td>\n",
              "      <td>0007714_BK-1961-61-A.jpg</td>\n",
              "      <td>9</td>\n",
              "      <td>kandelaber</td>\n",
              "      <td>False</td>\n",
              "      <td>False</td>\n",
              "      <td>False</td>\n",
              "      <td>False</td>\n",
              "      <td>False</td>\n",
              "      <td>False</td>\n",
              "      <td>False</td>\n",
              "      <td>1771</td>\n",
              "      <td>1756</td>\n",
              "      <td>-15</td>\n",
              "    </tr>\n",
              "    <tr>\n",
              "      <th>...</th>\n",
              "      <td>...</td>\n",
              "      <td>...</td>\n",
              "      <td>...</td>\n",
              "      <td>...</td>\n",
              "      <td>...</td>\n",
              "      <td>...</td>\n",
              "      <td>...</td>\n",
              "      <td>...</td>\n",
              "      <td>...</td>\n",
              "      <td>...</td>\n",
              "      <td>...</td>\n",
              "      <td>...</td>\n",
              "      <td>...</td>\n",
              "      <td>...</td>\n",
              "    </tr>\n",
              "    <tr>\n",
              "      <th>87646</th>\n",
              "      <td>1598-1593</td>\n",
              "      <td>0087909_RP-P-1925-71.jpg</td>\n",
              "      <td>9</td>\n",
              "      <td>prent</td>\n",
              "      <td>True</td>\n",
              "      <td>False</td>\n",
              "      <td>False</td>\n",
              "      <td>False</td>\n",
              "      <td>False</td>\n",
              "      <td>False</td>\n",
              "      <td>False</td>\n",
              "      <td>1598</td>\n",
              "      <td>1593</td>\n",
              "      <td>-5</td>\n",
              "    </tr>\n",
              "    <tr>\n",
              "      <th>95895</th>\n",
              "      <td>1784-1780</td>\n",
              "      <td>0096204_RP-P-2007-252.jpg</td>\n",
              "      <td>9</td>\n",
              "      <td>prent</td>\n",
              "      <td>True</td>\n",
              "      <td>False</td>\n",
              "      <td>False</td>\n",
              "      <td>False</td>\n",
              "      <td>False</td>\n",
              "      <td>False</td>\n",
              "      <td>False</td>\n",
              "      <td>1784</td>\n",
              "      <td>1780</td>\n",
              "      <td>-4</td>\n",
              "    </tr>\n",
              "    <tr>\n",
              "      <th>96714</th>\n",
              "      <td>1800-1700</td>\n",
              "      <td>0097028_RP-P-OB-6238.jpg</td>\n",
              "      <td>9</td>\n",
              "      <td>['prent', 'ornamentprent']</td>\n",
              "      <td>True</td>\n",
              "      <td>False</td>\n",
              "      <td>False</td>\n",
              "      <td>True</td>\n",
              "      <td>False</td>\n",
              "      <td>False</td>\n",
              "      <td>False</td>\n",
              "      <td>1800</td>\n",
              "      <td>1700</td>\n",
              "      <td>-100</td>\n",
              "    </tr>\n",
              "    <tr>\n",
              "      <th>98187</th>\n",
              "      <td>1877-1870</td>\n",
              "      <td>0098529_RP-F-2007-112-29.jpg</td>\n",
              "      <td>9</td>\n",
              "      <td>['foto', 'carte-de-visite']</td>\n",
              "      <td>False</td>\n",
              "      <td>False</td>\n",
              "      <td>False</td>\n",
              "      <td>False</td>\n",
              "      <td>False</td>\n",
              "      <td>False</td>\n",
              "      <td>True</td>\n",
              "      <td>1877</td>\n",
              "      <td>1870</td>\n",
              "      <td>-7</td>\n",
              "    </tr>\n",
              "    <tr>\n",
              "      <th>107217</th>\n",
              "      <td>1675-1600</td>\n",
              "      <td>0107586_RP-P-2008-486.jpg</td>\n",
              "      <td>9</td>\n",
              "      <td>prent</td>\n",
              "      <td>True</td>\n",
              "      <td>False</td>\n",
              "      <td>False</td>\n",
              "      <td>False</td>\n",
              "      <td>False</td>\n",
              "      <td>False</td>\n",
              "      <td>False</td>\n",
              "      <td>1675</td>\n",
              "      <td>1600</td>\n",
              "      <td>-75</td>\n",
              "    </tr>\n",
              "  </tbody>\n",
              "</table>\n",
              "<p>77 rows × 14 columns</p>\n",
              "</div>"
            ],
            "text/plain": [
              "             date                           tag  ...  end_year periods_year\n",
              "1994    1620-1604         0001996_SK-A-4775.jpg  ...      1604          -16\n",
              "1995    1620-1605         0001997_SK-A-4774.jpg  ...      1605          -15\n",
              "6347    1789-1765        0006351_BK-1967-49.jpg  ...      1765          -24\n",
              "7442    1732-1730          0007446_BK-17017.jpg  ...      1730           -2\n",
              "7710    1771-1756      0007714_BK-1961-61-A.jpg  ...      1756          -15\n",
              "...           ...                           ...  ...       ...          ...\n",
              "87646   1598-1593      0087909_RP-P-1925-71.jpg  ...      1593           -5\n",
              "95895   1784-1780     0096204_RP-P-2007-252.jpg  ...      1780           -4\n",
              "96714   1800-1700      0097028_RP-P-OB-6238.jpg  ...      1700         -100\n",
              "98187   1877-1870  0098529_RP-F-2007-112-29.jpg  ...      1870           -7\n",
              "107217  1675-1600     0107586_RP-P-2008-486.jpg  ...      1600          -75\n",
              "\n",
              "[77 rows x 14 columns]"
            ]
          },
          "metadata": {
            "tags": []
          },
          "execution_count": 76
        }
      ]
    },
    {
      "cell_type": "code",
      "metadata": {
        "id": "1L-6Lm1EvYYy",
        "outputId": "58d28208-6378-4aad-da72-1be79cdf163b",
        "colab": {
          "base_uri": "https://localhost:8080/",
          "height": 201
        }
      },
      "source": [
        "date_type_df[date_type_df['end_year'] < date_type_df['start_year']].index"
      ],
      "execution_count": 77,
      "outputs": [
        {
          "output_type": "execute_result",
          "data": {
            "text/plain": [
              "Int64Index([  1994,   1995,   6347,   7442,   7710,   7711,   8154,   9763,\n",
              "              9784,  10592,  12697,  13797,  21348,  23847,  23849,  24573,\n",
              "             26670,  29702,  31989,  32010,  32011,  32012,  32013,  32014,\n",
              "             32015,  32016,  32017,  32568,  32987,  32988,  33199,  34034,\n",
              "             36818,  36836,  36847,  37373,  37685,  38500,  39091,  41184,\n",
              "             42675,  42678,  42679,  42680,  42681,  42682,  42683,  42684,\n",
              "             42685,  43755,  44420,  44700,  46871,  47173,  50738,  50742,\n",
              "             51589,  51841,  55672,  56530,  61051,  64479,  70097,  74551,\n",
              "             75608,  75653,  75654,  77149,  79294,  80197,  86284,  87645,\n",
              "             87646,  95895,  96714,  98187, 107217],\n",
              "           dtype='int64')"
            ]
          },
          "metadata": {
            "tags": []
          },
          "execution_count": 77
        }
      ]
    },
    {
      "cell_type": "code",
      "metadata": {
        "id": "MZWJcSzkyPCS"
      },
      "source": [
        "reverse_index = date_type_df[date_type_df['end_year'] < date_type_df['start_year']].index"
      ],
      "execution_count": 78,
      "outputs": []
    },
    {
      "cell_type": "code",
      "metadata": {
        "id": "xysbtzq4yTVO"
      },
      "source": [
        "for index in reverse_index:\n",
        "  start = date_type_df.loc[index, 'start_year']\n",
        "  end = date_type_df.loc[index, 'end_year']\n",
        "  #reverse\n",
        "  date_type_df.loc[index, 'start_year'] = end\n",
        "  date_type_df.loc[index, 'end_year'] = start"
      ],
      "execution_count": 79,
      "outputs": []
    },
    {
      "cell_type": "code",
      "metadata": {
        "id": "L-Tj_RCUy2nP",
        "outputId": "7e52c5f5-1f7f-49c9-f049-07dc6afe9679",
        "colab": {
          "base_uri": "https://localhost:8080/",
          "height": 33
        }
      },
      "source": [
        "#检查一下没有出现问题了\n",
        "date_type_df[date_type_df['end_year'] < date_type_df['start_year']].index"
      ],
      "execution_count": 80,
      "outputs": [
        {
          "output_type": "execute_result",
          "data": {
            "text/plain": [
              "Int64Index([], dtype='int64')"
            ]
          },
          "metadata": {
            "tags": []
          },
          "execution_count": 80
        }
      ]
    },
    {
      "cell_type": "code",
      "metadata": {
        "id": "UmDJa2PfzA3e",
        "outputId": "215bd288-9168-4506-8492-43691e2d4179",
        "colab": {
          "base_uri": "https://localhost:8080/",
          "height": 217
        }
      },
      "source": [
        "#重新计算periods\n",
        "date_type_df['periods_year'] = date_type_df['end_year'] - date_type_df['start_year']\n",
        "date_type_df['periods_year'].value_counts()"
      ],
      "execution_count": 83,
      "outputs": [
        {
          "output_type": "execute_result",
          "data": {
            "text/plain": [
              "0      44539\n",
              "2       4780\n",
              "4       3558\n",
              "10      2885\n",
              "1       2881\n",
              "       ...  \n",
              "291        1\n",
              "197        1\n",
              "162        1\n",
              "400        1\n",
              "214        1\n",
              "Name: periods_year, Length: 222, dtype: int64"
            ]
          },
          "metadata": {
            "tags": []
          },
          "execution_count": 83
        }
      ]
    },
    {
      "cell_type": "code",
      "metadata": {
        "id": "Ms7yb9hVzjTL",
        "outputId": "845c855a-c934-4116-c9ee-86eceab46566",
        "colab": {
          "base_uri": "https://localhost:8080/",
          "height": 368
        }
      },
      "source": [
        "top_10_periods = date_type_df['periods_year'].value_counts()[:20]\n",
        "top_10_periods"
      ],
      "execution_count": 85,
      "outputs": [
        {
          "output_type": "execute_result",
          "data": {
            "text/plain": [
              "0      44539\n",
              "2       4780\n",
              "4       3558\n",
              "10      2885\n",
              "1       2881\n",
              "5       2718\n",
              "20      2380\n",
              "50      2182\n",
              "25      1520\n",
              "3       1510\n",
              "6       1436\n",
              "100     1339\n",
              "40      1299\n",
              "15      1256\n",
              "60      1231\n",
              "30      1092\n",
              "49       948\n",
              "99       923\n",
              "41       882\n",
              "63       855\n",
              "Name: periods_year, dtype: int64"
            ]
          },
          "metadata": {
            "tags": []
          },
          "execution_count": 85
        }
      ]
    },
    {
      "cell_type": "markdown",
      "metadata": {
        "id": "0sontMp7wEYH"
      },
      "source": [
        "### start year最小多少？"
      ]
    },
    {
      "cell_type": "code",
      "metadata": {
        "id": "BD4N220u0DWP",
        "outputId": "ca890546-242b-481f-9c09-31fb01f3bbe5",
        "colab": {
          "base_uri": "https://localhost:8080/",
          "height": 217
        }
      },
      "source": [
        "date_type_df['start_year'].sort_values()"
      ],
      "execution_count": 86,
      "outputs": [
        {
          "output_type": "execute_result",
          "data": {
            "text/plain": [
              "63        -500\n",
              "53        -500\n",
              "52        -500\n",
              "48        -500\n",
              "45        -500\n",
              "          ... \n",
              "63294     1952\n",
              "109017    1953\n",
              "108890    1954\n",
              "108891    1964\n",
              "108562    1998\n",
              "Name: start_year, Length: 110960, dtype: int64"
            ]
          },
          "metadata": {
            "tags": []
          },
          "execution_count": 86
        }
      ]
    },
    {
      "cell_type": "markdown",
      "metadata": {
        "id": "fsfn3W9Kz_nI"
      },
      "source": [
        "### end year最大多少？"
      ]
    },
    {
      "cell_type": "code",
      "metadata": {
        "id": "BsAGbPqT0W-C",
        "outputId": "06bd2171-cb99-43ff-887c-8b2a598d942d",
        "colab": {
          "base_uri": "https://localhost:8080/",
          "height": 217
        }
      },
      "source": [
        "date_type_df['end_year'].sort_values(ascending=False)"
      ],
      "execution_count": 90,
      "outputs": [
        {
          "output_type": "execute_result",
          "data": {
            "text/plain": [
              "108562    1998\n",
              "108891    1964\n",
              "61051     1960\n",
              "108890    1954\n",
              "63294     1954\n",
              "          ... \n",
              "52        -200\n",
              "48        -200\n",
              "64749     -200\n",
              "45        -200\n",
              "47        -250\n",
              "Name: end_year, Length: 110960, dtype: int64"
            ]
          },
          "metadata": {
            "tags": []
          },
          "execution_count": 90
        }
      ]
    },
    {
      "cell_type": "code",
      "metadata": {
        "id": "Dw69tqIH0oLd",
        "outputId": "0fd59fc6-6c09-46bd-97b7-3e60d2d2bb89",
        "colab": {
          "base_uri": "https://localhost:8080/",
          "height": 33
        }
      },
      "source": [
        "date_type_df['end_year'].dtype"
      ],
      "execution_count": 92,
      "outputs": [
        {
          "output_type": "execute_result",
          "data": {
            "text/plain": [
              "dtype('int64')"
            ]
          },
          "metadata": {
            "tags": []
          },
          "execution_count": 92
        }
      ]
    },
    {
      "cell_type": "markdown",
      "metadata": {
        "id": "GtqFau5o1bvf"
      },
      "source": [
        "### 以创作年份为初始，划分类别"
      ]
    },
    {
      "cell_type": "code",
      "metadata": {
        "id": "ZgjNJVaL1rrX",
        "outputId": "c192a8a1-47aa-427b-a0da-7907f166e491",
        "colab": {
          "base_uri": "https://localhost:8080/",
          "height": 33
        }
      },
      "source": [
        "start_year_list = date_type_df['start_year'].values\n",
        "start_year_list"
      ],
      "execution_count": 94,
      "outputs": [
        {
          "output_type": "execute_result",
          "data": {
            "text/plain": [
              "array([1644, 1857, 1675, ..., 1590, 1774, 1808])"
            ]
          },
          "metadata": {
            "tags": []
          },
          "execution_count": 94
        }
      ]
    },
    {
      "cell_type": "code",
      "metadata": {
        "id": "THMa6WNF2BSo",
        "outputId": "2170ad89-6e0f-4bba-c0c2-7666ef792699",
        "colab": {
          "base_uri": "https://localhost:8080/",
          "height": 33
        }
      },
      "source": [
        "len(start_year_list)"
      ],
      "execution_count": 95,
      "outputs": [
        {
          "output_type": "execute_result",
          "data": {
            "text/plain": [
              "110960"
            ]
          },
          "metadata": {
            "tags": []
          },
          "execution_count": 95
        }
      ]
    },
    {
      "cell_type": "code",
      "metadata": {
        "id": "0Bj6FJxV2Dfm",
        "outputId": "82dc24c1-a295-47a7-b122-5615211b93b8",
        "colab": {
          "base_uri": "https://localhost:8080/",
          "height": 120
        }
      },
      "source": [
        "create_periods = pd.qcut(start_year_list, 10)\n",
        "print(create_periods)"
      ],
      "execution_count": 98,
      "outputs": [
        {
          "output_type": "stream",
          "text": [
            "[(1627.0, 1650.0], (1800.0, 1998.0], (1650.0, 1675.0], (-500.001, 1570.0], (-500.001, 1570.0], ..., (1675.0, 1702.0], (1800.0, 1998.0], (1570.0, 1600.0], (1740.0, 1776.0], (1800.0, 1998.0]]\n",
            "Length: 110960\n",
            "Categories (10, interval[float64]): [(-500.001, 1570.0] < (1570.0, 1600.0] < (1600.0, 1627.0] <\n",
            "                                     (1627.0, 1650.0] ... (1702.0, 1740.0] < (1740.0, 1776.0] <\n",
            "                                     (1776.0, 1800.0] < (1800.0, 1998.0]]\n"
          ],
          "name": "stdout"
        }
      ]
    },
    {
      "cell_type": "code",
      "metadata": {
        "id": "eAcnvyE74EfN",
        "outputId": "b8014fef-6dc2-43a4-f2ec-e63884326ba8",
        "colab": {
          "base_uri": "https://localhost:8080/",
          "height": 201
        }
      },
      "source": [
        "pd.value_counts(create_periods)"
      ],
      "execution_count": 99,
      "outputs": [
        {
          "output_type": "execute_result",
          "data": {
            "text/plain": [
              "(1627.0, 1650.0]      11997\n",
              "(1570.0, 1600.0]      11732\n",
              "(-500.001, 1570.0]    11453\n",
              "(1740.0, 1776.0]      11151\n",
              "(1675.0, 1702.0]      11092\n",
              "(1776.0, 1800.0]      11063\n",
              "(1702.0, 1740.0]      11001\n",
              "(1800.0, 1998.0]      10986\n",
              "(1650.0, 1675.0]      10380\n",
              "(1600.0, 1627.0]      10105\n",
              "dtype: int64"
            ]
          },
          "metadata": {
            "tags": []
          },
          "execution_count": 99
        }
      ]
    },
    {
      "cell_type": "markdown",
      "metadata": {
        "id": "CeTiT3Va6C8S"
      },
      "source": [
        "Griffin is a man who is sensible of whole history.\n",
        "\n",
        "A brief history of Western culture:\n",
        "\n",
        "Prehistoric (before c. 3000 B.C.E.) 我们没有这方面的艺术品，所以忽略\n",
        "\n",
        "Ancient (c. 3000 B.C.E. to c. 400 C.E.)\n",
        "\n",
        "Middle Ages (c. 400 C.E. to c. 1400 C.E.)\n",
        "\n",
        "Renaissance (c. 1400 to 1600)\n",
        "\n",
        "Early Modern (c. 1600 - 1800)\n",
        "\n",
        "Modern (after c. 1800)"
      ]
    },
    {
      "cell_type": "code",
      "metadata": {
        "id": "sUKOd96T6grx"
      },
      "source": [
        "history_bins_name = ['Ancient', 'Middle Ages', 'Renaissance', 'Early Modern', 'Modern']\n",
        "history_bins = [-1000, 400, 1400, 1600, 1800, 2020]"
      ],
      "execution_count": 100,
      "outputs": []
    },
    {
      "cell_type": "code",
      "metadata": {
        "id": "Zqt0BCh37-3d"
      },
      "source": [
        "date_type_df['historical_period'] = pd.cut(date_type_df['start_year'], history_bins, labels=history_bins_name)"
      ],
      "execution_count": 101,
      "outputs": []
    },
    {
      "cell_type": "code",
      "metadata": {
        "id": "Z65vDv7P8aFH",
        "outputId": "b8898ba6-c1aa-45ff-cbbc-ebf927ccd4b3",
        "colab": {
          "base_uri": "https://localhost:8080/",
          "height": 117
        }
      },
      "source": [
        "date_type_df['historical_period'].value_counts()"
      ],
      "execution_count": 103,
      "outputs": [
        {
          "output_type": "execute_result",
          "data": {
            "text/plain": [
              "Early Modern    76789\n",
              "Renaissance     22657\n",
              "Modern          10986\n",
              "Middle Ages       515\n",
              "Ancient            13\n",
              "Name: historical_period, dtype: int64"
            ]
          },
          "metadata": {
            "tags": []
          },
          "execution_count": 103
        }
      ]
    },
    {
      "cell_type": "code",
      "metadata": {
        "id": "31jKPRZV8xaw"
      },
      "source": [
        "date_type_df.to_csv('date_type.csv')"
      ],
      "execution_count": 104,
      "outputs": []
    },
    {
      "cell_type": "markdown",
      "metadata": {
        "id": "vuiq6wEh-kY8"
      },
      "source": [
        "## One hot coding the Historical Period"
      ]
    },
    {
      "cell_type": "code",
      "metadata": {
        "id": "QXiYL7kt-oLr",
        "outputId": "e375dacf-a69a-490f-ac2b-1b9c0d64992c",
        "colab": {
          "base_uri": "https://localhost:8080/",
          "height": 404
        }
      },
      "source": [
        "pd.get_dummies(date_type_df.historical_period, prefix='history')"
      ],
      "execution_count": 105,
      "outputs": [
        {
          "output_type": "execute_result",
          "data": {
            "text/html": [
              "<div>\n",
              "<style scoped>\n",
              "    .dataframe tbody tr th:only-of-type {\n",
              "        vertical-align: middle;\n",
              "    }\n",
              "\n",
              "    .dataframe tbody tr th {\n",
              "        vertical-align: top;\n",
              "    }\n",
              "\n",
              "    .dataframe thead th {\n",
              "        text-align: right;\n",
              "    }\n",
              "</style>\n",
              "<table border=\"1\" class=\"dataframe\">\n",
              "  <thead>\n",
              "    <tr style=\"text-align: right;\">\n",
              "      <th></th>\n",
              "      <th>history_Ancient</th>\n",
              "      <th>history_Middle Ages</th>\n",
              "      <th>history_Renaissance</th>\n",
              "      <th>history_Early Modern</th>\n",
              "      <th>history_Modern</th>\n",
              "    </tr>\n",
              "  </thead>\n",
              "  <tbody>\n",
              "    <tr>\n",
              "      <th>0</th>\n",
              "      <td>0</td>\n",
              "      <td>0</td>\n",
              "      <td>0</td>\n",
              "      <td>1</td>\n",
              "      <td>0</td>\n",
              "    </tr>\n",
              "    <tr>\n",
              "      <th>1</th>\n",
              "      <td>0</td>\n",
              "      <td>0</td>\n",
              "      <td>0</td>\n",
              "      <td>0</td>\n",
              "      <td>1</td>\n",
              "    </tr>\n",
              "    <tr>\n",
              "      <th>2</th>\n",
              "      <td>0</td>\n",
              "      <td>0</td>\n",
              "      <td>0</td>\n",
              "      <td>1</td>\n",
              "      <td>0</td>\n",
              "    </tr>\n",
              "    <tr>\n",
              "      <th>3</th>\n",
              "      <td>0</td>\n",
              "      <td>0</td>\n",
              "      <td>1</td>\n",
              "      <td>0</td>\n",
              "      <td>0</td>\n",
              "    </tr>\n",
              "    <tr>\n",
              "      <th>4</th>\n",
              "      <td>0</td>\n",
              "      <td>0</td>\n",
              "      <td>1</td>\n",
              "      <td>0</td>\n",
              "      <td>0</td>\n",
              "    </tr>\n",
              "    <tr>\n",
              "      <th>...</th>\n",
              "      <td>...</td>\n",
              "      <td>...</td>\n",
              "      <td>...</td>\n",
              "      <td>...</td>\n",
              "      <td>...</td>\n",
              "    </tr>\n",
              "    <tr>\n",
              "      <th>112034</th>\n",
              "      <td>0</td>\n",
              "      <td>0</td>\n",
              "      <td>0</td>\n",
              "      <td>1</td>\n",
              "      <td>0</td>\n",
              "    </tr>\n",
              "    <tr>\n",
              "      <th>112035</th>\n",
              "      <td>0</td>\n",
              "      <td>0</td>\n",
              "      <td>0</td>\n",
              "      <td>0</td>\n",
              "      <td>1</td>\n",
              "    </tr>\n",
              "    <tr>\n",
              "      <th>112036</th>\n",
              "      <td>0</td>\n",
              "      <td>0</td>\n",
              "      <td>1</td>\n",
              "      <td>0</td>\n",
              "      <td>0</td>\n",
              "    </tr>\n",
              "    <tr>\n",
              "      <th>112037</th>\n",
              "      <td>0</td>\n",
              "      <td>0</td>\n",
              "      <td>0</td>\n",
              "      <td>1</td>\n",
              "      <td>0</td>\n",
              "    </tr>\n",
              "    <tr>\n",
              "      <th>112038</th>\n",
              "      <td>0</td>\n",
              "      <td>0</td>\n",
              "      <td>0</td>\n",
              "      <td>0</td>\n",
              "      <td>1</td>\n",
              "    </tr>\n",
              "  </tbody>\n",
              "</table>\n",
              "<p>110960 rows × 5 columns</p>\n",
              "</div>"
            ],
            "text/plain": [
              "        history_Ancient  ...  history_Modern\n",
              "0                     0  ...               0\n",
              "1                     0  ...               1\n",
              "2                     0  ...               0\n",
              "3                     0  ...               0\n",
              "4                     0  ...               0\n",
              "...                 ...  ...             ...\n",
              "112034                0  ...               0\n",
              "112035                0  ...               1\n",
              "112036                0  ...               0\n",
              "112037                0  ...               0\n",
              "112038                0  ...               1\n",
              "\n",
              "[110960 rows x 5 columns]"
            ]
          },
          "metadata": {
            "tags": []
          },
          "execution_count": 105
        }
      ]
    },
    {
      "cell_type": "code",
      "metadata": {
        "id": "WXZPkNEu-4Yw"
      },
      "source": [
        "history_one_hot_df = pd.get_dummies(date_type_df.historical_period, prefix='history')"
      ],
      "execution_count": 106,
      "outputs": []
    },
    {
      "cell_type": "code",
      "metadata": {
        "id": "oHfY__xeAWlt",
        "outputId": "87779244-a404-4bb6-9d0c-21971e56762b",
        "colab": {
          "base_uri": "https://localhost:8080/",
          "height": 692
        }
      },
      "source": [
        "pd.concat([date_type_df, history_one_hot_df], axis=1)"
      ],
      "execution_count": 114,
      "outputs": [
        {
          "output_type": "execute_result",
          "data": {
            "text/html": [
              "<div>\n",
              "<style scoped>\n",
              "    .dataframe tbody tr th:only-of-type {\n",
              "        vertical-align: middle;\n",
              "    }\n",
              "\n",
              "    .dataframe tbody tr th {\n",
              "        vertical-align: top;\n",
              "    }\n",
              "\n",
              "    .dataframe thead th {\n",
              "        text-align: right;\n",
              "    }\n",
              "</style>\n",
              "<table border=\"1\" class=\"dataframe\">\n",
              "  <thead>\n",
              "    <tr style=\"text-align: right;\">\n",
              "      <th></th>\n",
              "      <th>date</th>\n",
              "      <th>tag</th>\n",
              "      <th>date_str_len</th>\n",
              "      <th>type</th>\n",
              "      <th>prent</th>\n",
              "      <th>tekening</th>\n",
              "      <th>boekillustratie</th>\n",
              "      <th>ornament</th>\n",
              "      <th>schilderij</th>\n",
              "      <th>historie</th>\n",
              "      <th>foto</th>\n",
              "      <th>start_year</th>\n",
              "      <th>end_year</th>\n",
              "      <th>periods_year</th>\n",
              "      <th>historical_period</th>\n",
              "      <th>history_Ancient</th>\n",
              "      <th>history_Middle Ages</th>\n",
              "      <th>history_Renaissance</th>\n",
              "      <th>history_Early Modern</th>\n",
              "      <th>history_Modern</th>\n",
              "    </tr>\n",
              "  </thead>\n",
              "  <tbody>\n",
              "    <tr>\n",
              "      <th>0</th>\n",
              "      <td>1644-1648</td>\n",
              "      <td>0000001_SK-A-4878.jpg</td>\n",
              "      <td>9</td>\n",
              "      <td>schilderij</td>\n",
              "      <td>False</td>\n",
              "      <td>False</td>\n",
              "      <td>False</td>\n",
              "      <td>False</td>\n",
              "      <td>True</td>\n",
              "      <td>False</td>\n",
              "      <td>False</td>\n",
              "      <td>1644</td>\n",
              "      <td>1648</td>\n",
              "      <td>4</td>\n",
              "      <td>Early Modern</td>\n",
              "      <td>0</td>\n",
              "      <td>0</td>\n",
              "      <td>0</td>\n",
              "      <td>1</td>\n",
              "      <td>0</td>\n",
              "    </tr>\n",
              "    <tr>\n",
              "      <th>1</th>\n",
              "      <td>1857-1857</td>\n",
              "      <td>0000002_SK-A-4877.jpg</td>\n",
              "      <td>9</td>\n",
              "      <td>schilderij</td>\n",
              "      <td>False</td>\n",
              "      <td>False</td>\n",
              "      <td>False</td>\n",
              "      <td>False</td>\n",
              "      <td>True</td>\n",
              "      <td>False</td>\n",
              "      <td>False</td>\n",
              "      <td>1857</td>\n",
              "      <td>1857</td>\n",
              "      <td>0</td>\n",
              "      <td>Modern</td>\n",
              "      <td>0</td>\n",
              "      <td>0</td>\n",
              "      <td>0</td>\n",
              "      <td>0</td>\n",
              "      <td>1</td>\n",
              "    </tr>\n",
              "    <tr>\n",
              "      <th>2</th>\n",
              "      <td>1675-1685</td>\n",
              "      <td>0000003_SK-A-4881.jpg</td>\n",
              "      <td>9</td>\n",
              "      <td>schilderij</td>\n",
              "      <td>False</td>\n",
              "      <td>False</td>\n",
              "      <td>False</td>\n",
              "      <td>False</td>\n",
              "      <td>True</td>\n",
              "      <td>False</td>\n",
              "      <td>False</td>\n",
              "      <td>1675</td>\n",
              "      <td>1685</td>\n",
              "      <td>10</td>\n",
              "      <td>Early Modern</td>\n",
              "      <td>0</td>\n",
              "      <td>0</td>\n",
              "      <td>0</td>\n",
              "      <td>1</td>\n",
              "      <td>0</td>\n",
              "    </tr>\n",
              "    <tr>\n",
              "      <th>3</th>\n",
              "      <td>1555-1556</td>\n",
              "      <td>0000004_RP-P-1992-35.jpg</td>\n",
              "      <td>9</td>\n",
              "      <td>['prent', 'historieprent']</td>\n",
              "      <td>True</td>\n",
              "      <td>False</td>\n",
              "      <td>False</td>\n",
              "      <td>False</td>\n",
              "      <td>False</td>\n",
              "      <td>True</td>\n",
              "      <td>False</td>\n",
              "      <td>1555</td>\n",
              "      <td>1556</td>\n",
              "      <td>1</td>\n",
              "      <td>Renaissance</td>\n",
              "      <td>0</td>\n",
              "      <td>0</td>\n",
              "      <td>1</td>\n",
              "      <td>0</td>\n",
              "      <td>0</td>\n",
              "    </tr>\n",
              "    <tr>\n",
              "      <th>4</th>\n",
              "      <td>1555-1556</td>\n",
              "      <td>0000005_RP-P-1992-36.jpg</td>\n",
              "      <td>9</td>\n",
              "      <td>['prent', 'historieprent']</td>\n",
              "      <td>True</td>\n",
              "      <td>False</td>\n",
              "      <td>False</td>\n",
              "      <td>False</td>\n",
              "      <td>False</td>\n",
              "      <td>True</td>\n",
              "      <td>False</td>\n",
              "      <td>1555</td>\n",
              "      <td>1556</td>\n",
              "      <td>1</td>\n",
              "      <td>Renaissance</td>\n",
              "      <td>0</td>\n",
              "      <td>0</td>\n",
              "      <td>1</td>\n",
              "      <td>0</td>\n",
              "      <td>0</td>\n",
              "    </tr>\n",
              "    <tr>\n",
              "      <th>...</th>\n",
              "      <td>...</td>\n",
              "      <td>...</td>\n",
              "      <td>...</td>\n",
              "      <td>...</td>\n",
              "      <td>...</td>\n",
              "      <td>...</td>\n",
              "      <td>...</td>\n",
              "      <td>...</td>\n",
              "      <td>...</td>\n",
              "      <td>...</td>\n",
              "      <td>...</td>\n",
              "      <td>...</td>\n",
              "      <td>...</td>\n",
              "      <td>...</td>\n",
              "      <td>...</td>\n",
              "      <td>...</td>\n",
              "      <td>...</td>\n",
              "      <td>...</td>\n",
              "      <td>...</td>\n",
              "      <td>...</td>\n",
              "    </tr>\n",
              "    <tr>\n",
              "      <th>112034</th>\n",
              "      <td>1700-1725</td>\n",
              "      <td>0112410_AK-RBK-14763-A-2.jpg</td>\n",
              "      <td>9</td>\n",
              "      <td>schotel</td>\n",
              "      <td>False</td>\n",
              "      <td>False</td>\n",
              "      <td>False</td>\n",
              "      <td>False</td>\n",
              "      <td>False</td>\n",
              "      <td>False</td>\n",
              "      <td>False</td>\n",
              "      <td>1700</td>\n",
              "      <td>1725</td>\n",
              "      <td>25</td>\n",
              "      <td>Early Modern</td>\n",
              "      <td>0</td>\n",
              "      <td>0</td>\n",
              "      <td>0</td>\n",
              "      <td>1</td>\n",
              "      <td>0</td>\n",
              "    </tr>\n",
              "    <tr>\n",
              "      <th>112035</th>\n",
              "      <td>1863-1863</td>\n",
              "      <td>0112411_RP-P-OB-86.512.jpg</td>\n",
              "      <td>9</td>\n",
              "      <td>prent</td>\n",
              "      <td>True</td>\n",
              "      <td>False</td>\n",
              "      <td>False</td>\n",
              "      <td>False</td>\n",
              "      <td>False</td>\n",
              "      <td>False</td>\n",
              "      <td>False</td>\n",
              "      <td>1863</td>\n",
              "      <td>1863</td>\n",
              "      <td>0</td>\n",
              "      <td>Modern</td>\n",
              "      <td>0</td>\n",
              "      <td>0</td>\n",
              "      <td>0</td>\n",
              "      <td>0</td>\n",
              "      <td>1</td>\n",
              "    </tr>\n",
              "    <tr>\n",
              "      <th>112036</th>\n",
              "      <td>1590-1596</td>\n",
              "      <td>0112412_NG-NM-7753.jpg</td>\n",
              "      <td>9</td>\n",
              "      <td>['inktpot', 'deksel']</td>\n",
              "      <td>False</td>\n",
              "      <td>False</td>\n",
              "      <td>False</td>\n",
              "      <td>False</td>\n",
              "      <td>False</td>\n",
              "      <td>False</td>\n",
              "      <td>False</td>\n",
              "      <td>1590</td>\n",
              "      <td>1596</td>\n",
              "      <td>6</td>\n",
              "      <td>Renaissance</td>\n",
              "      <td>0</td>\n",
              "      <td>0</td>\n",
              "      <td>1</td>\n",
              "      <td>0</td>\n",
              "      <td>0</td>\n",
              "    </tr>\n",
              "    <tr>\n",
              "      <th>112037</th>\n",
              "      <td>1774-1790</td>\n",
              "      <td>0112413_NG-NM-8358.jpg</td>\n",
              "      <td>9</td>\n",
              "      <td>hartsvanger</td>\n",
              "      <td>False</td>\n",
              "      <td>False</td>\n",
              "      <td>False</td>\n",
              "      <td>False</td>\n",
              "      <td>False</td>\n",
              "      <td>False</td>\n",
              "      <td>False</td>\n",
              "      <td>1774</td>\n",
              "      <td>1790</td>\n",
              "      <td>16</td>\n",
              "      <td>Early Modern</td>\n",
              "      <td>0</td>\n",
              "      <td>0</td>\n",
              "      <td>0</td>\n",
              "      <td>1</td>\n",
              "      <td>0</td>\n",
              "    </tr>\n",
              "    <tr>\n",
              "      <th>112038</th>\n",
              "      <td>1808-1808</td>\n",
              "      <td>0112414_NG-KOG-2192.jpg</td>\n",
              "      <td>9</td>\n",
              "      <td>munt</td>\n",
              "      <td>False</td>\n",
              "      <td>False</td>\n",
              "      <td>False</td>\n",
              "      <td>False</td>\n",
              "      <td>False</td>\n",
              "      <td>False</td>\n",
              "      <td>False</td>\n",
              "      <td>1808</td>\n",
              "      <td>1808</td>\n",
              "      <td>0</td>\n",
              "      <td>Modern</td>\n",
              "      <td>0</td>\n",
              "      <td>0</td>\n",
              "      <td>0</td>\n",
              "      <td>0</td>\n",
              "      <td>1</td>\n",
              "    </tr>\n",
              "  </tbody>\n",
              "</table>\n",
              "<p>110960 rows × 20 columns</p>\n",
              "</div>"
            ],
            "text/plain": [
              "             date  ... history_Modern\n",
              "0       1644-1648  ...              0\n",
              "1       1857-1857  ...              1\n",
              "2       1675-1685  ...              0\n",
              "3       1555-1556  ...              0\n",
              "4       1555-1556  ...              0\n",
              "...           ...  ...            ...\n",
              "112034  1700-1725  ...              0\n",
              "112035  1863-1863  ...              1\n",
              "112036  1590-1596  ...              0\n",
              "112037  1774-1790  ...              0\n",
              "112038  1808-1808  ...              1\n",
              "\n",
              "[110960 rows x 20 columns]"
            ]
          },
          "metadata": {
            "tags": []
          },
          "execution_count": 114
        }
      ]
    },
    {
      "cell_type": "code",
      "metadata": {
        "id": "8-JkisgqBMWv"
      },
      "source": [
        "peroid_df = pd.concat([date_type_df, history_one_hot_df], axis=1)"
      ],
      "execution_count": 137,
      "outputs": []
    },
    {
      "cell_type": "code",
      "metadata": {
        "id": "4BhmKao4Bnrs"
      },
      "source": [
        "peroid_df = peroid_df.iloc[:, [1,15,16,17,18,19]]"
      ],
      "execution_count": 138,
      "outputs": []
    },
    {
      "cell_type": "code",
      "metadata": {
        "id": "9SYiLrrzFz-N",
        "outputId": "d144b540-0467-4e57-81f6-94ac992bfc69",
        "colab": {
          "base_uri": "https://localhost:8080/",
          "height": 404
        }
      },
      "source": [
        "peroid_df"
      ],
      "execution_count": 139,
      "outputs": [
        {
          "output_type": "execute_result",
          "data": {
            "text/html": [
              "<div>\n",
              "<style scoped>\n",
              "    .dataframe tbody tr th:only-of-type {\n",
              "        vertical-align: middle;\n",
              "    }\n",
              "\n",
              "    .dataframe tbody tr th {\n",
              "        vertical-align: top;\n",
              "    }\n",
              "\n",
              "    .dataframe thead th {\n",
              "        text-align: right;\n",
              "    }\n",
              "</style>\n",
              "<table border=\"1\" class=\"dataframe\">\n",
              "  <thead>\n",
              "    <tr style=\"text-align: right;\">\n",
              "      <th></th>\n",
              "      <th>tag</th>\n",
              "      <th>history_Ancient</th>\n",
              "      <th>history_Middle Ages</th>\n",
              "      <th>history_Renaissance</th>\n",
              "      <th>history_Early Modern</th>\n",
              "      <th>history_Modern</th>\n",
              "    </tr>\n",
              "  </thead>\n",
              "  <tbody>\n",
              "    <tr>\n",
              "      <th>0</th>\n",
              "      <td>0000001_SK-A-4878.jpg</td>\n",
              "      <td>0</td>\n",
              "      <td>0</td>\n",
              "      <td>0</td>\n",
              "      <td>1</td>\n",
              "      <td>0</td>\n",
              "    </tr>\n",
              "    <tr>\n",
              "      <th>1</th>\n",
              "      <td>0000002_SK-A-4877.jpg</td>\n",
              "      <td>0</td>\n",
              "      <td>0</td>\n",
              "      <td>0</td>\n",
              "      <td>0</td>\n",
              "      <td>1</td>\n",
              "    </tr>\n",
              "    <tr>\n",
              "      <th>2</th>\n",
              "      <td>0000003_SK-A-4881.jpg</td>\n",
              "      <td>0</td>\n",
              "      <td>0</td>\n",
              "      <td>0</td>\n",
              "      <td>1</td>\n",
              "      <td>0</td>\n",
              "    </tr>\n",
              "    <tr>\n",
              "      <th>3</th>\n",
              "      <td>0000004_RP-P-1992-35.jpg</td>\n",
              "      <td>0</td>\n",
              "      <td>0</td>\n",
              "      <td>1</td>\n",
              "      <td>0</td>\n",
              "      <td>0</td>\n",
              "    </tr>\n",
              "    <tr>\n",
              "      <th>4</th>\n",
              "      <td>0000005_RP-P-1992-36.jpg</td>\n",
              "      <td>0</td>\n",
              "      <td>0</td>\n",
              "      <td>1</td>\n",
              "      <td>0</td>\n",
              "      <td>0</td>\n",
              "    </tr>\n",
              "    <tr>\n",
              "      <th>...</th>\n",
              "      <td>...</td>\n",
              "      <td>...</td>\n",
              "      <td>...</td>\n",
              "      <td>...</td>\n",
              "      <td>...</td>\n",
              "      <td>...</td>\n",
              "    </tr>\n",
              "    <tr>\n",
              "      <th>112034</th>\n",
              "      <td>0112410_AK-RBK-14763-A-2.jpg</td>\n",
              "      <td>0</td>\n",
              "      <td>0</td>\n",
              "      <td>0</td>\n",
              "      <td>1</td>\n",
              "      <td>0</td>\n",
              "    </tr>\n",
              "    <tr>\n",
              "      <th>112035</th>\n",
              "      <td>0112411_RP-P-OB-86.512.jpg</td>\n",
              "      <td>0</td>\n",
              "      <td>0</td>\n",
              "      <td>0</td>\n",
              "      <td>0</td>\n",
              "      <td>1</td>\n",
              "    </tr>\n",
              "    <tr>\n",
              "      <th>112036</th>\n",
              "      <td>0112412_NG-NM-7753.jpg</td>\n",
              "      <td>0</td>\n",
              "      <td>0</td>\n",
              "      <td>1</td>\n",
              "      <td>0</td>\n",
              "      <td>0</td>\n",
              "    </tr>\n",
              "    <tr>\n",
              "      <th>112037</th>\n",
              "      <td>0112413_NG-NM-8358.jpg</td>\n",
              "      <td>0</td>\n",
              "      <td>0</td>\n",
              "      <td>0</td>\n",
              "      <td>1</td>\n",
              "      <td>0</td>\n",
              "    </tr>\n",
              "    <tr>\n",
              "      <th>112038</th>\n",
              "      <td>0112414_NG-KOG-2192.jpg</td>\n",
              "      <td>0</td>\n",
              "      <td>0</td>\n",
              "      <td>0</td>\n",
              "      <td>0</td>\n",
              "      <td>1</td>\n",
              "    </tr>\n",
              "  </tbody>\n",
              "</table>\n",
              "<p>110960 rows × 6 columns</p>\n",
              "</div>"
            ],
            "text/plain": [
              "                                 tag  ...  history_Modern\n",
              "0              0000001_SK-A-4878.jpg  ...               0\n",
              "1              0000002_SK-A-4877.jpg  ...               1\n",
              "2              0000003_SK-A-4881.jpg  ...               0\n",
              "3           0000004_RP-P-1992-35.jpg  ...               0\n",
              "4           0000005_RP-P-1992-36.jpg  ...               0\n",
              "...                              ...  ...             ...\n",
              "112034  0112410_AK-RBK-14763-A-2.jpg  ...               0\n",
              "112035    0112411_RP-P-OB-86.512.jpg  ...               1\n",
              "112036        0112412_NG-NM-7753.jpg  ...               0\n",
              "112037        0112413_NG-NM-8358.jpg  ...               0\n",
              "112038       0112414_NG-KOG-2192.jpg  ...               1\n",
              "\n",
              "[110960 rows x 6 columns]"
            ]
          },
          "metadata": {
            "tags": []
          },
          "execution_count": 139
        }
      ]
    },
    {
      "cell_type": "code",
      "metadata": {
        "id": "v_LBLyeUF2Dh"
      },
      "source": [
        "peroid_df.to_csv('peroid_df_for_training.csv')"
      ],
      "execution_count": 140,
      "outputs": []
    },
    {
      "cell_type": "markdown",
      "metadata": {
        "id": "meNOi7voCllO"
      },
      "source": [
        "在这里打乱，这样分训练集和测试集就不会受那个干扰了"
      ]
    },
    {
      "cell_type": "code",
      "metadata": {
        "id": "IADJ1GEHCh_G",
        "outputId": "798f05a1-4e29-419e-b488-24b1af43bd2b",
        "colab": {
          "base_uri": "https://localhost:8080/",
          "height": 404
        }
      },
      "source": [
        "peroid_df = peroid_df.sample(frac=1).reset_index(drop=True)\n",
        "peroid_df"
      ],
      "execution_count": 126,
      "outputs": [
        {
          "output_type": "execute_result",
          "data": {
            "text/html": [
              "<div>\n",
              "<style scoped>\n",
              "    .dataframe tbody tr th:only-of-type {\n",
              "        vertical-align: middle;\n",
              "    }\n",
              "\n",
              "    .dataframe tbody tr th {\n",
              "        vertical-align: top;\n",
              "    }\n",
              "\n",
              "    .dataframe thead th {\n",
              "        text-align: right;\n",
              "    }\n",
              "</style>\n",
              "<table border=\"1\" class=\"dataframe\">\n",
              "  <thead>\n",
              "    <tr style=\"text-align: right;\">\n",
              "      <th></th>\n",
              "      <th>tag</th>\n",
              "      <th>history_Ancient</th>\n",
              "      <th>history_Middle Ages</th>\n",
              "      <th>history_Renaissance</th>\n",
              "      <th>history_Early Modern</th>\n",
              "      <th>history_Modern</th>\n",
              "    </tr>\n",
              "  </thead>\n",
              "  <tbody>\n",
              "    <tr>\n",
              "      <th>0</th>\n",
              "      <td>0041752_RP-P-1906-3928.jpg</td>\n",
              "      <td>0</td>\n",
              "      <td>0</td>\n",
              "      <td>0</td>\n",
              "      <td>1</td>\n",
              "      <td>0</td>\n",
              "    </tr>\n",
              "    <tr>\n",
              "      <th>1</th>\n",
              "      <td>0103566_RP-P-AO-7-27-A.jpg</td>\n",
              "      <td>0</td>\n",
              "      <td>0</td>\n",
              "      <td>0</td>\n",
              "      <td>1</td>\n",
              "      <td>0</td>\n",
              "    </tr>\n",
              "    <tr>\n",
              "      <th>2</th>\n",
              "      <td>0078983_RP-P-1938-1819.jpg</td>\n",
              "      <td>0</td>\n",
              "      <td>0</td>\n",
              "      <td>0</td>\n",
              "      <td>0</td>\n",
              "      <td>1</td>\n",
              "    </tr>\n",
              "    <tr>\n",
              "      <th>3</th>\n",
              "      <td>0005340_SK-A-4157.jpg</td>\n",
              "      <td>0</td>\n",
              "      <td>0</td>\n",
              "      <td>0</td>\n",
              "      <td>1</td>\n",
              "      <td>0</td>\n",
              "    </tr>\n",
              "    <tr>\n",
              "      <th>4</th>\n",
              "      <td>0107196_RP-P-2009-636.jpg</td>\n",
              "      <td>0</td>\n",
              "      <td>0</td>\n",
              "      <td>0</td>\n",
              "      <td>1</td>\n",
              "      <td>0</td>\n",
              "    </tr>\n",
              "    <tr>\n",
              "      <th>...</th>\n",
              "      <td>...</td>\n",
              "      <td>...</td>\n",
              "      <td>...</td>\n",
              "      <td>...</td>\n",
              "      <td>...</td>\n",
              "      <td>...</td>\n",
              "    </tr>\n",
              "    <tr>\n",
              "      <th>110955</th>\n",
              "      <td>0039106_RP-P-1883-A-7602.jpg</td>\n",
              "      <td>0</td>\n",
              "      <td>0</td>\n",
              "      <td>0</td>\n",
              "      <td>1</td>\n",
              "      <td>0</td>\n",
              "    </tr>\n",
              "    <tr>\n",
              "      <th>110956</th>\n",
              "      <td>0043053_RP-P-OB-52.613.jpg</td>\n",
              "      <td>0</td>\n",
              "      <td>0</td>\n",
              "      <td>0</td>\n",
              "      <td>1</td>\n",
              "      <td>0</td>\n",
              "    </tr>\n",
              "    <tr>\n",
              "      <th>110957</th>\n",
              "      <td>0100692_RP-T-00-492-76B.jpg</td>\n",
              "      <td>0</td>\n",
              "      <td>0</td>\n",
              "      <td>0</td>\n",
              "      <td>1</td>\n",
              "      <td>0</td>\n",
              "    </tr>\n",
              "    <tr>\n",
              "      <th>110958</th>\n",
              "      <td>0028033_RP-P-1884-A-7949.jpg</td>\n",
              "      <td>0</td>\n",
              "      <td>0</td>\n",
              "      <td>0</td>\n",
              "      <td>1</td>\n",
              "      <td>0</td>\n",
              "    </tr>\n",
              "    <tr>\n",
              "      <th>110959</th>\n",
              "      <td>0097827_RP-P-2007-414.jpg</td>\n",
              "      <td>0</td>\n",
              "      <td>0</td>\n",
              "      <td>0</td>\n",
              "      <td>1</td>\n",
              "      <td>0</td>\n",
              "    </tr>\n",
              "  </tbody>\n",
              "</table>\n",
              "<p>110960 rows × 6 columns</p>\n",
              "</div>"
            ],
            "text/plain": [
              "                                 tag  ...  history_Modern\n",
              "0         0041752_RP-P-1906-3928.jpg  ...               0\n",
              "1         0103566_RP-P-AO-7-27-A.jpg  ...               0\n",
              "2         0078983_RP-P-1938-1819.jpg  ...               1\n",
              "3              0005340_SK-A-4157.jpg  ...               0\n",
              "4          0107196_RP-P-2009-636.jpg  ...               0\n",
              "...                              ...  ...             ...\n",
              "110955  0039106_RP-P-1883-A-7602.jpg  ...               0\n",
              "110956    0043053_RP-P-OB-52.613.jpg  ...               0\n",
              "110957   0100692_RP-T-00-492-76B.jpg  ...               0\n",
              "110958  0028033_RP-P-1884-A-7949.jpg  ...               0\n",
              "110959     0097827_RP-P-2007-414.jpg  ...               0\n",
              "\n",
              "[110960 rows x 6 columns]"
            ]
          },
          "metadata": {
            "tags": []
          },
          "execution_count": 126
        }
      ]
    },
    {
      "cell_type": "markdown",
      "metadata": {
        "id": "_Gs2CWmWVT-b"
      },
      "source": [
        "## Set Up"
      ]
    },
    {
      "cell_type": "code",
      "metadata": {
        "id": "iPtdKtRKVXOA"
      },
      "source": [
        "from keras_preprocessing.image import ImageDataGenerator\n",
        "from keras.layers import Dense, Activation, Flatten, Dropout, BatchNormalization\n",
        "from keras.layers import Conv2D, MaxPooling2D\n",
        "from keras import regularizers, optimizers\n",
        "from keras.models import Sequential\n",
        "import keras"
      ],
      "execution_count": 107,
      "outputs": []
    },
    {
      "cell_type": "markdown",
      "metadata": {
        "id": "q3VGenOgVvWp"
      },
      "source": [
        "## Input X: Load Image as Numpy Arrary"
      ]
    },
    {
      "cell_type": "code",
      "metadata": {
        "id": "ZwVyD_wxV3tg",
        "outputId": "2b81b5bd-f372-4122-96e5-76a0dd7b3717",
        "colab": {
          "base_uri": "https://localhost:8080/",
          "height": 67
        }
      },
      "source": [
        "columns=peroid_df.columns[1:]\n",
        "columns"
      ],
      "execution_count": 127,
      "outputs": [
        {
          "output_type": "execute_result",
          "data": {
            "text/plain": [
              "Index(['history_Ancient', 'history_Middle Ages', 'history_Renaissance',\n",
              "       'history_Early Modern', 'history_Modern'],\n",
              "      dtype='object')"
            ]
          },
          "metadata": {
            "tags": []
          },
          "execution_count": 127
        }
      ]
    },
    {
      "cell_type": "code",
      "metadata": {
        "id": "8UvqU--VXZkD"
      },
      "source": [
        "datagen=ImageDataGenerator(rescale=1./255.)\n",
        "test_datagen=ImageDataGenerator(rescale=1./255.)"
      ],
      "execution_count": 128,
      "outputs": []
    },
    {
      "cell_type": "code",
      "metadata": {
        "id": "1AemaiYuDfuf"
      },
      "source": [
        "batch_size = 32\n",
        "img_dim = 128\n",
        "seed = 13"
      ],
      "execution_count": 130,
      "outputs": []
    },
    {
      "cell_type": "code",
      "metadata": {
        "id": "GH6Puh9SXHHJ",
        "outputId": "d387bb94-b2bc-4bf2-f155-8df95c2e9f8c",
        "colab": {
          "base_uri": "https://localhost:8080/",
          "height": 33
        }
      },
      "source": [
        "train_generator=datagen.flow_from_dataframe(\n",
        "dataframe=peroid_df[:99864],\n",
        "directory=\"/content/gdrive/My Drive/Kaggle/Rijksmuseum/jpg\",\n",
        "x_col=\"tag\",\n",
        "y_col=columns,\n",
        "batch_size=batch_size,\n",
        "seed=seed,\n",
        "shuffle=True,\n",
        "class_mode=\"raw\",\n",
        "target_size=(img_dim,img_dim))"
      ],
      "execution_count": 132,
      "outputs": [
        {
          "output_type": "stream",
          "text": [
            "Found 99864 validated image filenames.\n"
          ],
          "name": "stdout"
        }
      ]
    },
    {
      "cell_type": "code",
      "metadata": {
        "id": "j4kvZwcMYDsb",
        "outputId": "e7a9e53c-dd5b-408b-c299-039b04578213",
        "colab": {
          "base_uri": "https://localhost:8080/",
          "height": 33
        }
      },
      "source": [
        "valid_generator=test_datagen.flow_from_dataframe(\n",
        "dataframe=peroid_df[99864:105156],\n",
        "directory=\"/content/gdrive/My Drive/Kaggle/Rijksmuseum/jpg\",\n",
        "x_col=\"tag\",\n",
        "y_col=columns,\n",
        "batch_size=batch_size,\n",
        "seed=seed,\n",
        "shuffle=True,\n",
        "class_mode=\"raw\",\n",
        "target_size=(img_dim,img_dim))"
      ],
      "execution_count": 133,
      "outputs": [
        {
          "output_type": "stream",
          "text": [
            "Found 5292 validated image filenames.\n"
          ],
          "name": "stdout"
        }
      ]
    },
    {
      "cell_type": "code",
      "metadata": {
        "id": "DrzVaUleYTtZ",
        "outputId": "51d8c246-4fa5-41d7-e6a3-f8dbfd7bb738",
        "colab": {
          "base_uri": "https://localhost:8080/",
          "height": 33
        }
      },
      "source": [
        "test_generator=test_datagen.flow_from_dataframe(\n",
        "dataframe=peroid_df[105156:],\n",
        "directory=\"/content/gdrive/My Drive/Kaggle/Rijksmuseum/jpg\",\n",
        "x_col=\"tag\",\n",
        "batch_size=1,\n",
        "seed=seed,\n",
        "shuffle=False,\n",
        "class_mode=None,\n",
        "target_size=(img_dim,img_dim))"
      ],
      "execution_count": 134,
      "outputs": [
        {
          "output_type": "stream",
          "text": [
            "Found 5804 validated image filenames.\n"
          ],
          "name": "stdout"
        }
      ]
    },
    {
      "cell_type": "markdown",
      "metadata": {
        "id": "xuuQlIs5Zyc5"
      },
      "source": [
        "## Build the model"
      ]
    },
    {
      "cell_type": "code",
      "metadata": {
        "id": "3WvpwudUZz2t"
      },
      "source": [
        "model = Sequential()\n",
        "model.add(Conv2D(32, (3, 3), padding='same', input_shape=(img_dim,img_dim,3)))\n",
        "model.add(Activation('relu'))\n",
        "model.add(Conv2D(32, (3, 3)))\n",
        "model.add(Activation('relu'))\n",
        "model.add(MaxPooling2D(pool_size=(2, 2)))\n",
        "model.add(Dropout(0.25))\n",
        "model.add(Conv2D(64, (3, 3), padding='same'))\n",
        "model.add(Activation('relu'))\n",
        "model.add(Conv2D(64, (3, 3)))\n",
        "model.add(Activation('relu'))\n",
        "model.add(MaxPooling2D(pool_size=(2, 2)))\n",
        "model.add(Dropout(0.25))\n",
        "model.add(Flatten())\n",
        "model.add(Dense(512))\n",
        "model.add(Activation('relu'))\n",
        "model.add(Dropout(0.5))\n",
        "model.add(Dense(5, activation='softmax'))\n",
        "model.compile(keras.optimizers.RMSprop(lr=0.0001, decay=1e-6),loss=\"categorical_crossentropy\",metrics=[\"accuracy\"])"
      ],
      "execution_count": 135,
      "outputs": []
    },
    {
      "cell_type": "markdown",
      "metadata": {
        "id": "wphyZ4efaMrw"
      },
      "source": [
        "## Training Model"
      ]
    },
    {
      "cell_type": "code",
      "metadata": {
        "id": "UidOdR4SaL1f",
        "outputId": "b772ab08-cb0c-4097-b38b-20af103f52f2",
        "colab": {
          "base_uri": "https://localhost:8080/",
          "height": 438
        }
      },
      "source": [
        "STEP_SIZE_TRAIN=train_generator.n//train_generator.batch_size\n",
        "STEP_SIZE_VALID=valid_generator.n//valid_generator.batch_size\n",
        "STEP_SIZE_TEST=test_generator.n//test_generator.batch_size\n",
        "history = model.fit_generator(generator=train_generator,\n",
        "                    steps_per_epoch=STEP_SIZE_TRAIN,\n",
        "                    validation_data=valid_generator,\n",
        "                    validation_steps=STEP_SIZE_VALID,\n",
        "                    epochs=10\n",
        ")"
      ],
      "execution_count": 136,
      "outputs": [
        {
          "output_type": "stream",
          "text": [
            "WARNING:tensorflow:From <ipython-input-136-dd9fa185a38e>:8: Model.fit_generator (from tensorflow.python.keras.engine.training) is deprecated and will be removed in a future version.\n",
            "Instructions for updating:\n",
            "Please use Model.fit, which supports generators.\n",
            "Epoch 1/10\n",
            "  20/3120 [..............................] - ETA: 7:31:40 - loss: 0.9839 - accuracy: 0.6453"
          ],
          "name": "stdout"
        },
        {
          "output_type": "error",
          "ename": "KeyboardInterrupt",
          "evalue": "ignored",
          "traceback": [
            "\u001b[0;31m---------------------------------------------------------------------------\u001b[0m",
            "\u001b[0;31mKeyboardInterrupt\u001b[0m                         Traceback (most recent call last)",
            "\u001b[0;32m<ipython-input-136-dd9fa185a38e>\u001b[0m in \u001b[0;36m<module>\u001b[0;34m()\u001b[0m\n\u001b[1;32m      6\u001b[0m                     \u001b[0mvalidation_data\u001b[0m\u001b[0;34m=\u001b[0m\u001b[0mvalid_generator\u001b[0m\u001b[0;34m,\u001b[0m\u001b[0;34m\u001b[0m\u001b[0;34m\u001b[0m\u001b[0m\n\u001b[1;32m      7\u001b[0m                     \u001b[0mvalidation_steps\u001b[0m\u001b[0;34m=\u001b[0m\u001b[0mSTEP_SIZE_VALID\u001b[0m\u001b[0;34m,\u001b[0m\u001b[0;34m\u001b[0m\u001b[0;34m\u001b[0m\u001b[0m\n\u001b[0;32m----> 8\u001b[0;31m                     \u001b[0mepochs\u001b[0m\u001b[0;34m=\u001b[0m\u001b[0;36m10\u001b[0m\u001b[0;34m\u001b[0m\u001b[0;34m\u001b[0m\u001b[0m\n\u001b[0m\u001b[1;32m      9\u001b[0m )\n",
            "\u001b[0;32m/usr/local/lib/python3.6/dist-packages/tensorflow/python/util/deprecation.py\u001b[0m in \u001b[0;36mnew_func\u001b[0;34m(*args, **kwargs)\u001b[0m\n\u001b[1;32m    322\u001b[0m               \u001b[0;34m'in a future version'\u001b[0m \u001b[0;32mif\u001b[0m \u001b[0mdate\u001b[0m \u001b[0;32mis\u001b[0m \u001b[0;32mNone\u001b[0m \u001b[0;32melse\u001b[0m \u001b[0;34m(\u001b[0m\u001b[0;34m'after %s'\u001b[0m \u001b[0;34m%\u001b[0m \u001b[0mdate\u001b[0m\u001b[0;34m)\u001b[0m\u001b[0;34m,\u001b[0m\u001b[0;34m\u001b[0m\u001b[0;34m\u001b[0m\u001b[0m\n\u001b[1;32m    323\u001b[0m               instructions)\n\u001b[0;32m--> 324\u001b[0;31m       \u001b[0;32mreturn\u001b[0m \u001b[0mfunc\u001b[0m\u001b[0;34m(\u001b[0m\u001b[0;34m*\u001b[0m\u001b[0margs\u001b[0m\u001b[0;34m,\u001b[0m \u001b[0;34m**\u001b[0m\u001b[0mkwargs\u001b[0m\u001b[0;34m)\u001b[0m\u001b[0;34m\u001b[0m\u001b[0;34m\u001b[0m\u001b[0m\n\u001b[0m\u001b[1;32m    325\u001b[0m     return tf_decorator.make_decorator(\n\u001b[1;32m    326\u001b[0m         \u001b[0mfunc\u001b[0m\u001b[0;34m,\u001b[0m \u001b[0mnew_func\u001b[0m\u001b[0;34m,\u001b[0m \u001b[0;34m'deprecated'\u001b[0m\u001b[0;34m,\u001b[0m\u001b[0;34m\u001b[0m\u001b[0;34m\u001b[0m\u001b[0m\n",
            "\u001b[0;32m/usr/local/lib/python3.6/dist-packages/tensorflow/python/keras/engine/training.py\u001b[0m in \u001b[0;36mfit_generator\u001b[0;34m(self, generator, steps_per_epoch, epochs, verbose, callbacks, validation_data, validation_steps, validation_freq, class_weight, max_queue_size, workers, use_multiprocessing, shuffle, initial_epoch)\u001b[0m\n\u001b[1;32m   1827\u001b[0m         \u001b[0muse_multiprocessing\u001b[0m\u001b[0;34m=\u001b[0m\u001b[0muse_multiprocessing\u001b[0m\u001b[0;34m,\u001b[0m\u001b[0;34m\u001b[0m\u001b[0;34m\u001b[0m\u001b[0m\n\u001b[1;32m   1828\u001b[0m         \u001b[0mshuffle\u001b[0m\u001b[0;34m=\u001b[0m\u001b[0mshuffle\u001b[0m\u001b[0;34m,\u001b[0m\u001b[0;34m\u001b[0m\u001b[0;34m\u001b[0m\u001b[0m\n\u001b[0;32m-> 1829\u001b[0;31m         initial_epoch=initial_epoch)\n\u001b[0m\u001b[1;32m   1830\u001b[0m \u001b[0;34m\u001b[0m\u001b[0m\n\u001b[1;32m   1831\u001b[0m   @deprecation.deprecated(\n",
            "\u001b[0;32m/usr/local/lib/python3.6/dist-packages/tensorflow/python/keras/engine/training.py\u001b[0m in \u001b[0;36m_method_wrapper\u001b[0;34m(self, *args, **kwargs)\u001b[0m\n\u001b[1;32m    106\u001b[0m   \u001b[0;32mdef\u001b[0m \u001b[0m_method_wrapper\u001b[0m\u001b[0;34m(\u001b[0m\u001b[0mself\u001b[0m\u001b[0;34m,\u001b[0m \u001b[0;34m*\u001b[0m\u001b[0margs\u001b[0m\u001b[0;34m,\u001b[0m \u001b[0;34m**\u001b[0m\u001b[0mkwargs\u001b[0m\u001b[0;34m)\u001b[0m\u001b[0;34m:\u001b[0m\u001b[0;34m\u001b[0m\u001b[0;34m\u001b[0m\u001b[0m\n\u001b[1;32m    107\u001b[0m     \u001b[0;32mif\u001b[0m \u001b[0;32mnot\u001b[0m \u001b[0mself\u001b[0m\u001b[0;34m.\u001b[0m\u001b[0m_in_multi_worker_mode\u001b[0m\u001b[0;34m(\u001b[0m\u001b[0;34m)\u001b[0m\u001b[0;34m:\u001b[0m  \u001b[0;31m# pylint: disable=protected-access\u001b[0m\u001b[0;34m\u001b[0m\u001b[0;34m\u001b[0m\u001b[0m\n\u001b[0;32m--> 108\u001b[0;31m       \u001b[0;32mreturn\u001b[0m \u001b[0mmethod\u001b[0m\u001b[0;34m(\u001b[0m\u001b[0mself\u001b[0m\u001b[0;34m,\u001b[0m \u001b[0;34m*\u001b[0m\u001b[0margs\u001b[0m\u001b[0;34m,\u001b[0m \u001b[0;34m**\u001b[0m\u001b[0mkwargs\u001b[0m\u001b[0;34m)\u001b[0m\u001b[0;34m\u001b[0m\u001b[0;34m\u001b[0m\u001b[0m\n\u001b[0m\u001b[1;32m    109\u001b[0m \u001b[0;34m\u001b[0m\u001b[0m\n\u001b[1;32m    110\u001b[0m     \u001b[0;31m# Running inside `run_distribute_coordinator` already.\u001b[0m\u001b[0;34m\u001b[0m\u001b[0;34m\u001b[0m\u001b[0;34m\u001b[0m\u001b[0m\n",
            "\u001b[0;32m/usr/local/lib/python3.6/dist-packages/tensorflow/python/keras/engine/training.py\u001b[0m in \u001b[0;36mfit\u001b[0;34m(self, x, y, batch_size, epochs, verbose, callbacks, validation_split, validation_data, shuffle, class_weight, sample_weight, initial_epoch, steps_per_epoch, validation_steps, validation_batch_size, validation_freq, max_queue_size, workers, use_multiprocessing)\u001b[0m\n\u001b[1;32m   1096\u001b[0m                 batch_size=batch_size):\n\u001b[1;32m   1097\u001b[0m               \u001b[0mcallbacks\u001b[0m\u001b[0;34m.\u001b[0m\u001b[0mon_train_batch_begin\u001b[0m\u001b[0;34m(\u001b[0m\u001b[0mstep\u001b[0m\u001b[0;34m)\u001b[0m\u001b[0;34m\u001b[0m\u001b[0;34m\u001b[0m\u001b[0m\n\u001b[0;32m-> 1098\u001b[0;31m               \u001b[0mtmp_logs\u001b[0m \u001b[0;34m=\u001b[0m \u001b[0mtrain_function\u001b[0m\u001b[0;34m(\u001b[0m\u001b[0miterator\u001b[0m\u001b[0;34m)\u001b[0m\u001b[0;34m\u001b[0m\u001b[0;34m\u001b[0m\u001b[0m\n\u001b[0m\u001b[1;32m   1099\u001b[0m               \u001b[0;32mif\u001b[0m \u001b[0mdata_handler\u001b[0m\u001b[0;34m.\u001b[0m\u001b[0mshould_sync\u001b[0m\u001b[0;34m:\u001b[0m\u001b[0;34m\u001b[0m\u001b[0;34m\u001b[0m\u001b[0m\n\u001b[1;32m   1100\u001b[0m                 \u001b[0mcontext\u001b[0m\u001b[0;34m.\u001b[0m\u001b[0masync_wait\u001b[0m\u001b[0;34m(\u001b[0m\u001b[0;34m)\u001b[0m\u001b[0;34m\u001b[0m\u001b[0;34m\u001b[0m\u001b[0m\n",
            "\u001b[0;32m/usr/local/lib/python3.6/dist-packages/tensorflow/python/eager/def_function.py\u001b[0m in \u001b[0;36m__call__\u001b[0;34m(self, *args, **kwds)\u001b[0m\n\u001b[1;32m    778\u001b[0m       \u001b[0;32melse\u001b[0m\u001b[0;34m:\u001b[0m\u001b[0;34m\u001b[0m\u001b[0;34m\u001b[0m\u001b[0m\n\u001b[1;32m    779\u001b[0m         \u001b[0mcompiler\u001b[0m \u001b[0;34m=\u001b[0m \u001b[0;34m\"nonXla\"\u001b[0m\u001b[0;34m\u001b[0m\u001b[0;34m\u001b[0m\u001b[0m\n\u001b[0;32m--> 780\u001b[0;31m         \u001b[0mresult\u001b[0m \u001b[0;34m=\u001b[0m \u001b[0mself\u001b[0m\u001b[0;34m.\u001b[0m\u001b[0m_call\u001b[0m\u001b[0;34m(\u001b[0m\u001b[0;34m*\u001b[0m\u001b[0margs\u001b[0m\u001b[0;34m,\u001b[0m \u001b[0;34m**\u001b[0m\u001b[0mkwds\u001b[0m\u001b[0;34m)\u001b[0m\u001b[0;34m\u001b[0m\u001b[0;34m\u001b[0m\u001b[0m\n\u001b[0m\u001b[1;32m    781\u001b[0m \u001b[0;34m\u001b[0m\u001b[0m\n\u001b[1;32m    782\u001b[0m       \u001b[0mnew_tracing_count\u001b[0m \u001b[0;34m=\u001b[0m \u001b[0mself\u001b[0m\u001b[0;34m.\u001b[0m\u001b[0m_get_tracing_count\u001b[0m\u001b[0;34m(\u001b[0m\u001b[0;34m)\u001b[0m\u001b[0;34m\u001b[0m\u001b[0;34m\u001b[0m\u001b[0m\n",
            "\u001b[0;32m/usr/local/lib/python3.6/dist-packages/tensorflow/python/eager/def_function.py\u001b[0m in \u001b[0;36m_call\u001b[0;34m(self, *args, **kwds)\u001b[0m\n\u001b[1;32m    805\u001b[0m       \u001b[0;31m# In this case we have created variables on the first call, so we run the\u001b[0m\u001b[0;34m\u001b[0m\u001b[0;34m\u001b[0m\u001b[0;34m\u001b[0m\u001b[0m\n\u001b[1;32m    806\u001b[0m       \u001b[0;31m# defunned version which is guaranteed to never create variables.\u001b[0m\u001b[0;34m\u001b[0m\u001b[0;34m\u001b[0m\u001b[0;34m\u001b[0m\u001b[0m\n\u001b[0;32m--> 807\u001b[0;31m       \u001b[0;32mreturn\u001b[0m \u001b[0mself\u001b[0m\u001b[0;34m.\u001b[0m\u001b[0m_stateless_fn\u001b[0m\u001b[0;34m(\u001b[0m\u001b[0;34m*\u001b[0m\u001b[0margs\u001b[0m\u001b[0;34m,\u001b[0m \u001b[0;34m**\u001b[0m\u001b[0mkwds\u001b[0m\u001b[0;34m)\u001b[0m  \u001b[0;31m# pylint: disable=not-callable\u001b[0m\u001b[0;34m\u001b[0m\u001b[0;34m\u001b[0m\u001b[0m\n\u001b[0m\u001b[1;32m    808\u001b[0m     \u001b[0;32melif\u001b[0m \u001b[0mself\u001b[0m\u001b[0;34m.\u001b[0m\u001b[0m_stateful_fn\u001b[0m \u001b[0;32mis\u001b[0m \u001b[0;32mnot\u001b[0m \u001b[0;32mNone\u001b[0m\u001b[0;34m:\u001b[0m\u001b[0;34m\u001b[0m\u001b[0;34m\u001b[0m\u001b[0m\n\u001b[1;32m    809\u001b[0m       \u001b[0;31m# Release the lock early so that multiple threads can perform the call\u001b[0m\u001b[0;34m\u001b[0m\u001b[0;34m\u001b[0m\u001b[0;34m\u001b[0m\u001b[0m\n",
            "\u001b[0;32m/usr/local/lib/python3.6/dist-packages/tensorflow/python/eager/function.py\u001b[0m in \u001b[0;36m__call__\u001b[0;34m(self, *args, **kwargs)\u001b[0m\n\u001b[1;32m   2827\u001b[0m     \u001b[0;32mwith\u001b[0m \u001b[0mself\u001b[0m\u001b[0;34m.\u001b[0m\u001b[0m_lock\u001b[0m\u001b[0;34m:\u001b[0m\u001b[0;34m\u001b[0m\u001b[0;34m\u001b[0m\u001b[0m\n\u001b[1;32m   2828\u001b[0m       \u001b[0mgraph_function\u001b[0m\u001b[0;34m,\u001b[0m \u001b[0margs\u001b[0m\u001b[0;34m,\u001b[0m \u001b[0mkwargs\u001b[0m \u001b[0;34m=\u001b[0m \u001b[0mself\u001b[0m\u001b[0;34m.\u001b[0m\u001b[0m_maybe_define_function\u001b[0m\u001b[0;34m(\u001b[0m\u001b[0margs\u001b[0m\u001b[0;34m,\u001b[0m \u001b[0mkwargs\u001b[0m\u001b[0;34m)\u001b[0m\u001b[0;34m\u001b[0m\u001b[0;34m\u001b[0m\u001b[0m\n\u001b[0;32m-> 2829\u001b[0;31m     \u001b[0;32mreturn\u001b[0m \u001b[0mgraph_function\u001b[0m\u001b[0;34m.\u001b[0m\u001b[0m_filtered_call\u001b[0m\u001b[0;34m(\u001b[0m\u001b[0margs\u001b[0m\u001b[0;34m,\u001b[0m \u001b[0mkwargs\u001b[0m\u001b[0;34m)\u001b[0m  \u001b[0;31m# pylint: disable=protected-access\u001b[0m\u001b[0;34m\u001b[0m\u001b[0;34m\u001b[0m\u001b[0m\n\u001b[0m\u001b[1;32m   2830\u001b[0m \u001b[0;34m\u001b[0m\u001b[0m\n\u001b[1;32m   2831\u001b[0m   \u001b[0;34m@\u001b[0m\u001b[0mproperty\u001b[0m\u001b[0;34m\u001b[0m\u001b[0;34m\u001b[0m\u001b[0m\n",
            "\u001b[0;32m/usr/local/lib/python3.6/dist-packages/tensorflow/python/eager/function.py\u001b[0m in \u001b[0;36m_filtered_call\u001b[0;34m(self, args, kwargs, cancellation_manager)\u001b[0m\n\u001b[1;32m   1846\u001b[0m                            resource_variable_ops.BaseResourceVariable))],\n\u001b[1;32m   1847\u001b[0m         \u001b[0mcaptured_inputs\u001b[0m\u001b[0;34m=\u001b[0m\u001b[0mself\u001b[0m\u001b[0;34m.\u001b[0m\u001b[0mcaptured_inputs\u001b[0m\u001b[0;34m,\u001b[0m\u001b[0;34m\u001b[0m\u001b[0;34m\u001b[0m\u001b[0m\n\u001b[0;32m-> 1848\u001b[0;31m         cancellation_manager=cancellation_manager)\n\u001b[0m\u001b[1;32m   1849\u001b[0m \u001b[0;34m\u001b[0m\u001b[0m\n\u001b[1;32m   1850\u001b[0m   \u001b[0;32mdef\u001b[0m \u001b[0m_call_flat\u001b[0m\u001b[0;34m(\u001b[0m\u001b[0mself\u001b[0m\u001b[0;34m,\u001b[0m \u001b[0margs\u001b[0m\u001b[0;34m,\u001b[0m \u001b[0mcaptured_inputs\u001b[0m\u001b[0;34m,\u001b[0m \u001b[0mcancellation_manager\u001b[0m\u001b[0;34m=\u001b[0m\u001b[0;32mNone\u001b[0m\u001b[0;34m)\u001b[0m\u001b[0;34m:\u001b[0m\u001b[0;34m\u001b[0m\u001b[0;34m\u001b[0m\u001b[0m\n",
            "\u001b[0;32m/usr/local/lib/python3.6/dist-packages/tensorflow/python/eager/function.py\u001b[0m in \u001b[0;36m_call_flat\u001b[0;34m(self, args, captured_inputs, cancellation_manager)\u001b[0m\n\u001b[1;32m   1922\u001b[0m       \u001b[0;31m# No tape is watching; skip to running the function.\u001b[0m\u001b[0;34m\u001b[0m\u001b[0;34m\u001b[0m\u001b[0;34m\u001b[0m\u001b[0m\n\u001b[1;32m   1923\u001b[0m       return self._build_call_outputs(self._inference_function.call(\n\u001b[0;32m-> 1924\u001b[0;31m           ctx, args, cancellation_manager=cancellation_manager))\n\u001b[0m\u001b[1;32m   1925\u001b[0m     forward_backward = self._select_forward_and_backward_functions(\n\u001b[1;32m   1926\u001b[0m         \u001b[0margs\u001b[0m\u001b[0;34m,\u001b[0m\u001b[0;34m\u001b[0m\u001b[0;34m\u001b[0m\u001b[0m\n",
            "\u001b[0;32m/usr/local/lib/python3.6/dist-packages/tensorflow/python/eager/function.py\u001b[0m in \u001b[0;36mcall\u001b[0;34m(self, ctx, args, cancellation_manager)\u001b[0m\n\u001b[1;32m    548\u001b[0m               \u001b[0minputs\u001b[0m\u001b[0;34m=\u001b[0m\u001b[0margs\u001b[0m\u001b[0;34m,\u001b[0m\u001b[0;34m\u001b[0m\u001b[0;34m\u001b[0m\u001b[0m\n\u001b[1;32m    549\u001b[0m               \u001b[0mattrs\u001b[0m\u001b[0;34m=\u001b[0m\u001b[0mattrs\u001b[0m\u001b[0;34m,\u001b[0m\u001b[0;34m\u001b[0m\u001b[0;34m\u001b[0m\u001b[0m\n\u001b[0;32m--> 550\u001b[0;31m               ctx=ctx)\n\u001b[0m\u001b[1;32m    551\u001b[0m         \u001b[0;32melse\u001b[0m\u001b[0;34m:\u001b[0m\u001b[0;34m\u001b[0m\u001b[0;34m\u001b[0m\u001b[0m\n\u001b[1;32m    552\u001b[0m           outputs = execute.execute_with_cancellation(\n",
            "\u001b[0;32m/usr/local/lib/python3.6/dist-packages/tensorflow/python/eager/execute.py\u001b[0m in \u001b[0;36mquick_execute\u001b[0;34m(op_name, num_outputs, inputs, attrs, ctx, name)\u001b[0m\n\u001b[1;32m     58\u001b[0m     \u001b[0mctx\u001b[0m\u001b[0;34m.\u001b[0m\u001b[0mensure_initialized\u001b[0m\u001b[0;34m(\u001b[0m\u001b[0;34m)\u001b[0m\u001b[0;34m\u001b[0m\u001b[0;34m\u001b[0m\u001b[0m\n\u001b[1;32m     59\u001b[0m     tensors = pywrap_tfe.TFE_Py_Execute(ctx._handle, device_name, op_name,\n\u001b[0;32m---> 60\u001b[0;31m                                         inputs, attrs, num_outputs)\n\u001b[0m\u001b[1;32m     61\u001b[0m   \u001b[0;32mexcept\u001b[0m \u001b[0mcore\u001b[0m\u001b[0;34m.\u001b[0m\u001b[0m_NotOkStatusException\u001b[0m \u001b[0;32mas\u001b[0m \u001b[0me\u001b[0m\u001b[0;34m:\u001b[0m\u001b[0;34m\u001b[0m\u001b[0;34m\u001b[0m\u001b[0m\n\u001b[1;32m     62\u001b[0m     \u001b[0;32mif\u001b[0m \u001b[0mname\u001b[0m \u001b[0;32mis\u001b[0m \u001b[0;32mnot\u001b[0m \u001b[0;32mNone\u001b[0m\u001b[0;34m:\u001b[0m\u001b[0;34m\u001b[0m\u001b[0;34m\u001b[0m\u001b[0m\n",
            "\u001b[0;31mKeyboardInterrupt\u001b[0m: "
          ]
        }
      ]
    },
    {
      "cell_type": "code",
      "metadata": {
        "id": "o1ok5ZnggkNN"
      },
      "source": [
        "model.save('griffin_period_guess_try1.h5')"
      ],
      "execution_count": null,
      "outputs": []
    },
    {
      "cell_type": "code",
      "metadata": {
        "id": "yMTgWa1_gtl_"
      },
      "source": [
        "import matplotlib.pyplot as plt\n",
        "acc = history.history['acc'] \n",
        "val_acc = history.history['val_acc'] \n",
        "loss = history.history['loss'] \n",
        "val_loss = history.history['val_loss']\n",
        "epochs = range(1, len(acc) + 1)\n",
        "plt.plot(epochs, acc, 'bo', label='Training acc') \n",
        "plt.plot(epochs, val_acc, 'b', label='Validation acc') \n",
        "plt.title('Training and validation accuracy') \n",
        "plt.legend()\n",
        "plt.figure()\n",
        "plt.plot(epochs, loss, 'bo', label='Training loss') \n",
        "plt.plot(epochs, val_loss, 'b', label='Validation loss') \n",
        "plt.title('Training and validation loss') \n",
        "plt.legend()\n",
        "plt.show()"
      ],
      "execution_count": null,
      "outputs": []
    },
    {
      "cell_type": "markdown",
      "metadata": {
        "id": "qco7pHZOc9vy"
      },
      "source": [
        "## Prediction"
      ]
    },
    {
      "cell_type": "code",
      "metadata": {
        "id": "s8C1jRlBc7V5"
      },
      "source": [
        "test_generator.reset()\n",
        "pred=model.predict_generator(test_generator,\n",
        "steps=STEP_SIZE_TEST,\n",
        "verbose=1)"
      ],
      "execution_count": null,
      "outputs": []
    },
    {
      "cell_type": "code",
      "metadata": {
        "id": "Bg8NX0B1dAfi"
      },
      "source": [
        "pred_bool = (pred >0.5)"
      ],
      "execution_count": null,
      "outputs": []
    },
    {
      "cell_type": "code",
      "metadata": {
        "id": "Ljy2SdHXdC0S"
      },
      "source": [
        "predictions = pred_bool.astype(int)\n",
        "\n",
        "results=pd.DataFrame(predictions, columns=columns)\n",
        "results[\"Files Name\"]=test_generator.filenames\n",
        "ordered_cols=[\"Files Name\"]+columns\n",
        "results=results[ordered_cols]#To get the same column order\n",
        "results.to_csv(\"results.csv\",index=False)"
      ],
      "execution_count": null,
      "outputs": []
    },
    {
      "cell_type": "code",
      "metadata": {
        "id": "zxQl1Qr_USKh"
      },
      "source": [
        ""
      ],
      "execution_count": null,
      "outputs": []
    }
  ]
}