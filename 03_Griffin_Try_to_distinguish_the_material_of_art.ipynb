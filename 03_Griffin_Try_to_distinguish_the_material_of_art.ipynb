{
  "nbformat": 4,
  "nbformat_minor": 0,
  "metadata": {
    "colab": {
      "name": "03#Griffin Try to distinguish the material of art",
      "provenance": [],
      "collapsed_sections": [],
      "authorship_tag": "ABX9TyPU0QMMWDPYcBNZJzgauB0Z",
      "include_colab_link": true
    },
    "kernelspec": {
      "name": "python3",
      "display_name": "Python 3"
    },
    "accelerator": "TPU"
  },
  "cells": [
    {
      "cell_type": "markdown",
      "metadata": {
        "id": "view-in-github",
        "colab_type": "text"
      },
      "source": [
        "<a href=\"https://colab.research.google.com/github/XingxinHE/Chief_Curator_Griffin/blob/master/03_Griffin_Try_to_distinguish_the_material_of_art.ipynb\" target=\"_parent\"><img src=\"https://colab.research.google.com/assets/colab-badge.svg\" alt=\"Open In Colab\"/></a>"
      ]
    },
    {
      "cell_type": "code",
      "metadata": {
        "id": "vXhVkDcf04fS",
        "outputId": "75f51e28-5fdb-4c18-b46f-37021681a08b",
        "colab": {
          "base_uri": "https://localhost:8080/",
          "height": 34
        }
      },
      "source": [
        "from google.colab import drive\n",
        "drive.mount('/content/gdrive')\n",
        "import os, shutil\n",
        "os.chdir(\"/content/gdrive/My Drive/Kaggle/Rijksmuseum\")"
      ],
      "execution_count": 20,
      "outputs": [
        {
          "output_type": "stream",
          "text": [
            "Drive already mounted at /content/gdrive; to attempt to forcibly remount, call drive.mount(\"/content/gdrive\", force_remount=True).\n"
          ],
          "name": "stdout"
        }
      ]
    },
    {
      "cell_type": "code",
      "metadata": {
        "id": "E11SSaGC0SZf"
      },
      "source": [
        "import pandas as pd\n",
        "import numpy as np"
      ],
      "execution_count": 21,
      "outputs": []
    },
    {
      "cell_type": "code",
      "metadata": {
        "id": "EYmkiBJZdJs7",
        "outputId": "5e398459-6466-4d3c-d066-530e25b47a5d",
        "colab": {
          "base_uri": "https://localhost:8080/",
          "height": 405
        }
      },
      "source": [
        "ls"
      ],
      "execution_count": 22,
      "outputs": [
        {
          "output_type": "stream",
          "text": [
            "'01#Loading Info From XML'\n",
            "'02#Discover Interesting Data'\n",
            "'03#Griffin Try to distinguish the material of art'\n",
            "'03#Griffin Try to distinguish the type of art_batch'\n",
            "'04#Griffin_distinguish the period of art'\n",
            " 05_Spectrum_of_Art.ipynb\n",
            " 100k_images_features.p\n",
            " date_df.csv\n",
            " date_type.csv\n",
            "'[FAIL & ANALYSIS] 03#Griffin Try to distinguish the type of art'\n",
            " full_pca_features.p\n",
            " gan_img.csv\n",
            " griffin_guess_mtl_training.csv\n",
            " \u001b[0m\u001b[01;34mjpg\u001b[0m/\n",
            " material_df.csv\n",
            " material_df_multlclass_singlelabel_average_amounts.csv\n",
            " material_single_label_df.csv\n",
            " oil_painting_df.csv\n",
            " peroid_df_for_training.csv\n",
            " project_curator.csv\n",
            " Rembrandt\n",
            " type_df.csv\n",
            " \u001b[01;34mxml\u001b[0m/\n"
          ],
          "name": "stdout"
        }
      ]
    },
    {
      "cell_type": "markdown",
      "metadata": {
        "id": "-LS3BBTGaw-U"
      },
      "source": [
        "## Import the csv"
      ]
    },
    {
      "cell_type": "code",
      "metadata": {
        "id": "p73XUsGq9_F4"
      },
      "source": [
        "df = pd.read_csv('material_df_binary_oil_recognition.csv', index_col=0)"
      ],
      "execution_count": 24,
      "outputs": []
    },
    {
      "cell_type": "code",
      "metadata": {
        "id": "8h_i-QU6-LFI",
        "outputId": "6d174251-5622-4960-80dc-a085d77f84e9",
        "colab": {
          "base_uri": "https://localhost:8080/",
          "height": 399
        }
      },
      "source": [
        "df"
      ],
      "execution_count": 25,
      "outputs": [
        {
          "output_type": "execute_result",
          "data": {
            "text/html": [
              "<div>\n",
              "<style scoped>\n",
              "    .dataframe tbody tr th:only-of-type {\n",
              "        vertical-align: middle;\n",
              "    }\n",
              "\n",
              "    .dataframe tbody tr th {\n",
              "        vertical-align: top;\n",
              "    }\n",
              "\n",
              "    .dataframe thead th {\n",
              "        text-align: right;\n",
              "    }\n",
              "</style>\n",
              "<table border=\"1\" class=\"dataframe\">\n",
              "  <thead>\n",
              "    <tr style=\"text-align: right;\">\n",
              "      <th></th>\n",
              "      <th>tag</th>\n",
              "      <th>olieverf</th>\n",
              "    </tr>\n",
              "  </thead>\n",
              "  <tbody>\n",
              "    <tr>\n",
              "      <th>0</th>\n",
              "      <td>0000002_SK-A-4877.jpg</td>\n",
              "      <td>1</td>\n",
              "    </tr>\n",
              "    <tr>\n",
              "      <th>1</th>\n",
              "      <td>0000003_SK-A-4881.jpg</td>\n",
              "      <td>1</td>\n",
              "    </tr>\n",
              "    <tr>\n",
              "      <th>2</th>\n",
              "      <td>0000098_RP-T-1963-86.jpg</td>\n",
              "      <td>0</td>\n",
              "    </tr>\n",
              "    <tr>\n",
              "      <th>3</th>\n",
              "      <td>0000100_RP-T-1961-18.jpg</td>\n",
              "      <td>0</td>\n",
              "    </tr>\n",
              "    <tr>\n",
              "      <th>4</th>\n",
              "      <td>0000125_RP-T-1964-173.jpg</td>\n",
              "      <td>0</td>\n",
              "    </tr>\n",
              "    <tr>\n",
              "      <th>...</th>\n",
              "      <td>...</td>\n",
              "      <td>...</td>\n",
              "    </tr>\n",
              "    <tr>\n",
              "      <th>4043</th>\n",
              "      <td>0111100_RP-T-00-411.jpg</td>\n",
              "      <td>0</td>\n",
              "    </tr>\n",
              "    <tr>\n",
              "      <th>4044</th>\n",
              "      <td>0111580_RP-T-2011-76.jpg</td>\n",
              "      <td>1</td>\n",
              "    </tr>\n",
              "    <tr>\n",
              "      <th>4045</th>\n",
              "      <td>0112118_BK-2011-31.jpg</td>\n",
              "      <td>1</td>\n",
              "    </tr>\n",
              "    <tr>\n",
              "      <th>4046</th>\n",
              "      <td>0112132_NG-C-2011-2.jpg</td>\n",
              "      <td>1</td>\n",
              "    </tr>\n",
              "    <tr>\n",
              "      <th>4047</th>\n",
              "      <td>0112374_RP-T-00-467-20.jpg</td>\n",
              "      <td>0</td>\n",
              "    </tr>\n",
              "  </tbody>\n",
              "</table>\n",
              "<p>4048 rows × 2 columns</p>\n",
              "</div>"
            ],
            "text/plain": [
              "                             tag  olieverf\n",
              "0          0000002_SK-A-4877.jpg         1\n",
              "1          0000003_SK-A-4881.jpg         1\n",
              "2       0000098_RP-T-1963-86.jpg         0\n",
              "3       0000100_RP-T-1961-18.jpg         0\n",
              "4      0000125_RP-T-1964-173.jpg         0\n",
              "...                          ...       ...\n",
              "4043     0111100_RP-T-00-411.jpg         0\n",
              "4044    0111580_RP-T-2011-76.jpg         1\n",
              "4045      0112118_BK-2011-31.jpg         1\n",
              "4046     0112132_NG-C-2011-2.jpg         1\n",
              "4047  0112374_RP-T-00-467-20.jpg         0\n",
              "\n",
              "[4048 rows x 2 columns]"
            ]
          },
          "metadata": {
            "tags": []
          },
          "execution_count": 25
        }
      ]
    },
    {
      "cell_type": "markdown",
      "metadata": {
        "id": "_Gs2CWmWVT-b"
      },
      "source": [
        "## Set Up"
      ]
    },
    {
      "cell_type": "code",
      "metadata": {
        "id": "iPtdKtRKVXOA"
      },
      "source": [
        "from keras_preprocessing.image import ImageDataGenerator\n",
        "from keras.layers import Dense, Activation, Flatten, Dropout, BatchNormalization\n",
        "from keras.layers import Conv2D, MaxPooling2D\n",
        "from keras import regularizers, optimizers\n",
        "from keras.models import Sequential\n",
        "import keras"
      ],
      "execution_count": 26,
      "outputs": []
    },
    {
      "cell_type": "markdown",
      "metadata": {
        "id": "q3VGenOgVvWp"
      },
      "source": [
        "## Input X: Load Image"
      ]
    },
    {
      "cell_type": "code",
      "metadata": {
        "id": "ZwVyD_wxV3tg",
        "outputId": "5f3e3516-c180-47e4-a39c-c8729ffb2237",
        "colab": {
          "base_uri": "https://localhost:8080/",
          "height": 35
        }
      },
      "source": [
        "columns=df.columns[1]\n",
        "columns"
      ],
      "execution_count": 27,
      "outputs": [
        {
          "output_type": "execute_result",
          "data": {
            "application/vnd.google.colaboratory.intrinsic+json": {
              "type": "string"
            },
            "text/plain": [
              "'olieverf'"
            ]
          },
          "metadata": {
            "tags": []
          },
          "execution_count": 27
        }
      ]
    },
    {
      "cell_type": "code",
      "metadata": {
        "id": "8UvqU--VXZkD"
      },
      "source": [
        "datagen=ImageDataGenerator(rescale=1./255.)\n",
        "test_datagen=ImageDataGenerator(rescale=1./255.)"
      ],
      "execution_count": 28,
      "outputs": []
    },
    {
      "cell_type": "code",
      "metadata": {
        "id": "TWOvp_lRfqQu",
        "outputId": "9e150dec-daef-4e27-de60-2a3417f73a7c",
        "colab": {
          "base_uri": "https://localhost:8080/",
          "height": 34
        }
      },
      "source": [
        "total_len_dataset = len(df.index)\n",
        "train_prop = 0.7\n",
        "val_prop = 0.25\n",
        "test_prop = train_prop - val_prop\n",
        "\n",
        "train_last_idx = int(np.floor(total_len_dataset*train_prop))\n",
        "val_last_idx = int(np.floor(total_len_dataset*val_prop)) + train_last_idx\n",
        "test_first_idx = val_last_idx\n",
        "\n",
        "print(train_last_idx, val_last_idx, test_first_idx)"
      ],
      "execution_count": 29,
      "outputs": [
        {
          "output_type": "stream",
          "text": [
            "2833 3845 3845\n"
          ],
          "name": "stdout"
        }
      ]
    },
    {
      "cell_type": "code",
      "metadata": {
        "id": "GH6Puh9SXHHJ",
        "outputId": "53cf2dce-e0b4-4cf2-ff88-06190e91f572",
        "colab": {
          "base_uri": "https://localhost:8080/",
          "height": 34
        }
      },
      "source": [
        "train_generator=datagen.flow_from_dataframe(\n",
        "dataframe=df[:train_last_idx],\n",
        "directory=\"/content/gdrive/My Drive/Kaggle/Rijksmuseum/jpg\",\n",
        "x_col=\"tag\",\n",
        "y_col=columns,\n",
        "batch_size=32,\n",
        "seed=23,\n",
        "shuffle=True,\n",
        "class_mode=\"raw\",\n",
        "target_size=(256,256))"
      ],
      "execution_count": 30,
      "outputs": [
        {
          "output_type": "stream",
          "text": [
            "Found 2833 validated image filenames.\n"
          ],
          "name": "stdout"
        }
      ]
    },
    {
      "cell_type": "code",
      "metadata": {
        "id": "j4kvZwcMYDsb",
        "outputId": "2f1a6275-6273-4615-f29b-a5bf7a2f1937",
        "colab": {
          "base_uri": "https://localhost:8080/",
          "height": 34
        }
      },
      "source": [
        "valid_generator=test_datagen.flow_from_dataframe(\n",
        "dataframe=df[train_last_idx:val_last_idx],\n",
        "directory=\"/content/gdrive/My Drive/Kaggle/Rijksmuseum/jpg\",\n",
        "x_col=\"tag\",\n",
        "y_col=columns,\n",
        "batch_size=32,\n",
        "seed=23,\n",
        "shuffle=True,\n",
        "class_mode=\"raw\",\n",
        "target_size=(256,256))"
      ],
      "execution_count": 31,
      "outputs": [
        {
          "output_type": "stream",
          "text": [
            "Found 1012 validated image filenames.\n"
          ],
          "name": "stdout"
        }
      ]
    },
    {
      "cell_type": "code",
      "metadata": {
        "id": "DrzVaUleYTtZ",
        "outputId": "66b41da5-3a82-452a-ceaa-c90fac5d21ff",
        "colab": {
          "base_uri": "https://localhost:8080/",
          "height": 34
        }
      },
      "source": [
        "test_generator=test_datagen.flow_from_dataframe(\n",
        "dataframe=df[test_first_idx:],\n",
        "directory=\"/content/gdrive/My Drive/Kaggle/Rijksmuseum/jpg\",\n",
        "x_col=\"tag\",\n",
        "batch_size=1,\n",
        "seed=32,\n",
        "shuffle=False,\n",
        "class_mode=None,\n",
        "target_size=(256,256))"
      ],
      "execution_count": 32,
      "outputs": [
        {
          "output_type": "stream",
          "text": [
            "Found 203 validated image filenames.\n"
          ],
          "name": "stdout"
        }
      ]
    },
    {
      "cell_type": "markdown",
      "metadata": {
        "id": "xuuQlIs5Zyc5"
      },
      "source": [
        "## Build the model"
      ]
    },
    {
      "cell_type": "code",
      "metadata": {
        "id": "3WvpwudUZz2t"
      },
      "source": [
        "model = Sequential()\n",
        "model.add(Conv2D(32, (3, 3), padding='same', input_shape=(256,256,3)))\n",
        "model.add(Activation('relu'))\n",
        "model.add(Conv2D(32, (3, 3)))\n",
        "model.add(Activation('relu'))\n",
        "model.add(MaxPooling2D(pool_size=(2, 2)))\n",
        "model.add(Dropout(0.25))\n",
        "model.add(Conv2D(64, (3, 3), padding='same'))\n",
        "model.add(Activation('relu'))\n",
        "model.add(Conv2D(64, (3, 3)))\n",
        "model.add(Activation('relu'))\n",
        "model.add(MaxPooling2D(pool_size=(2, 2)))\n",
        "model.add(Dropout(0.25))\n",
        "model.add(Flatten())\n",
        "model.add(Dense(512))\n",
        "model.add(Activation('relu'))\n",
        "model.add(Dropout(0.5))\n",
        "model.add(Dense(1, activation='sigmoid'))\n",
        "model.compile(keras.optimizers.RMSprop(lr=0.0001, decay=1e-6),loss=\"binary_crossentropy\",metrics=[\"accuracy\"])"
      ],
      "execution_count": 33,
      "outputs": []
    },
    {
      "cell_type": "markdown",
      "metadata": {
        "id": "wphyZ4efaMrw"
      },
      "source": [
        "## Training Model"
      ]
    },
    {
      "cell_type": "code",
      "metadata": {
        "id": "UidOdR4SaL1f",
        "outputId": "d89d5624-24a1-4981-f808-9a96011f2352",
        "colab": {
          "base_uri": "https://localhost:8080/",
          "height": 118
        }
      },
      "source": [
        "STEP_SIZE_TRAIN=train_generator.n//train_generator.batch_size\n",
        "STEP_SIZE_VALID=valid_generator.n//valid_generator.batch_size\n",
        "STEP_SIZE_TEST=test_generator.n//test_generator.batch_size\n",
        "history = model.fit_generator(generator=train_generator,\n",
        "                    steps_per_epoch=STEP_SIZE_TRAIN,\n",
        "                    validation_data=valid_generator,\n",
        "                    validation_steps=STEP_SIZE_VALID,\n",
        "                    epochs=3\n",
        ")"
      ],
      "execution_count": 40,
      "outputs": [
        {
          "output_type": "stream",
          "text": [
            "Epoch 1/3\n",
            "88/88 [==============================] - 1077s 12s/step - loss: 0.1316 - accuracy: 0.9543 - val_loss: 0.1924 - val_accuracy: 0.9950\n",
            "Epoch 2/3\n",
            "88/88 [==============================] - 1072s 12s/step - loss: 0.1123 - accuracy: 0.9618 - val_loss: 0.3033 - val_accuracy: 0.9849\n",
            "Epoch 3/3\n",
            "88/88 [==============================] - 1062s 12s/step - loss: 0.1071 - accuracy: 0.9636 - val_loss: 0.2818 - val_accuracy: 0.9748\n"
          ],
          "name": "stdout"
        }
      ]
    },
    {
      "cell_type": "code",
      "metadata": {
        "id": "o1ok5ZnggkNN"
      },
      "source": [
        "model.save('griffin_guess_material_oil_binary.h5')"
      ],
      "execution_count": 70,
      "outputs": []
    },
    {
      "cell_type": "code",
      "metadata": {
        "id": "yMTgWa1_gtl_",
        "outputId": "ac59045e-0e00-4d09-b511-0c10a90cdd5f",
        "colab": {
          "base_uri": "https://localhost:8080/",
          "height": 545
        }
      },
      "source": [
        "import matplotlib.pyplot as plt\n",
        "acc = history.history['accuracy'] \n",
        "val_acc = history.history['val_accuracy'] \n",
        "loss = history.history['loss'] \n",
        "val_loss = history.history['val_loss']\n",
        "epochs = range(1, len(acc) + 1)\n",
        "plt.plot(epochs, acc, 'bo', label='Training acc') \n",
        "plt.plot(epochs, val_acc, 'b', label='Validation acc') \n",
        "plt.title('Training and validation accuracy') \n",
        "plt.legend()\n",
        "plt.figure()\n",
        "plt.plot(epochs, loss, 'bo', label='Training loss') \n",
        "plt.plot(epochs, val_loss, 'b', label='Validation loss') \n",
        "plt.title('Training and validation loss') \n",
        "plt.legend()\n",
        "plt.show()"
      ],
      "execution_count": 44,
      "outputs": [
        {
          "output_type": "display_data",
          "data": {
            "image/png": "[encoded data removed]",
            "text/plain": [
              "<Figure size 432x288 with 1 Axes>"
            ]
          },
          "metadata": {
            "tags": [],
            "needs_background": "light"
          }
        },
        {
          "output_type": "display_data",
          "data": {
            "image/png": "[encoded data removed]",
            "text/plain": [
              "<Figure size 432x288 with 1 Axes>"
            ]
          },
          "metadata": {
            "tags": [],
            "needs_background": "light"
          }
        }
      ]
    },
    {
      "cell_type": "markdown",
      "metadata": {
        "id": "qco7pHZOc9vy"
      },
      "source": [
        "## Prediction"
      ]
    },
    {
      "cell_type": "code",
      "metadata": {
        "id": "s8C1jRlBc7V5",
        "outputId": "e066d417-e9f0-4828-d539-f5180eef329e",
        "colab": {
          "base_uri": "https://localhost:8080/",
          "height": 34
        }
      },
      "source": [
        "test_generator.reset()\n",
        "pred=model.predict_generator(test_generator,\n",
        "steps=STEP_SIZE_TEST,\n",
        "verbose=1)"
      ],
      "execution_count": 45,
      "outputs": [
        {
          "output_type": "stream",
          "text": [
            "203/203 [==============================] - 48s 238ms/step\n"
          ],
          "name": "stdout"
        }
      ]
    },
    {
      "cell_type": "code",
      "metadata": {
        "id": "MQMjk63oY80V",
        "outputId": "89cb5969-bf3d-408a-b6b1-e6b2afcad303",
        "colab": {
          "base_uri": "https://localhost:8080/",
          "height": 1000
        }
      },
      "source": [
        "pred"
      ],
      "execution_count": 46,
      "outputs": [
        {
          "output_type": "execute_result",
          "data": {
            "text/plain": [
              "array([[0.2070924 ],\n",
              "       [0.23245946],\n",
              "       [0.2213606 ],\n",
              "       [0.24847963],\n",
              "       [0.25050697],\n",
              "       [0.25295967],\n",
              "       [0.22298324],\n",
              "       [0.2594207 ],\n",
              "       [0.23543853],\n",
              "       [0.25361738],\n",
              "       [0.25674355],\n",
              "       [0.27205896],\n",
              "       [0.2634836 ],\n",
              "       [0.21989742],\n",
              "       [0.28247458],\n",
              "       [0.2631206 ],\n",
              "       [0.2768339 ],\n",
              "       [0.25993878],\n",
              "       [0.26780912],\n",
              "       [0.25993925],\n",
              "       [0.28797394],\n",
              "       [0.25845462],\n",
              "       [0.2789188 ],\n",
              "       [0.25420266],\n",
              "       [0.2650433 ],\n",
              "       [0.2621507 ],\n",
              "       [0.14290884],\n",
              "       [0.25577903],\n",
              "       [0.16304064],\n",
              "       [0.11660817],\n",
              "       [0.10484731],\n",
              "       [0.24546617],\n",
              "       [0.20123959],\n",
              "       [0.24238995],\n",
              "       [0.1914801 ],\n",
              "       [0.23869526],\n",
              "       [0.23868391],\n",
              "       [0.2012142 ],\n",
              "       [0.38500255],\n",
              "       [0.15502274],\n",
              "       [0.25999686],\n",
              "       [0.30082473],\n",
              "       [0.2031798 ],\n",
              "       [0.20123348],\n",
              "       [0.37908232],\n",
              "       [0.2787836 ],\n",
              "       [0.21108359],\n",
              "       [0.16193035],\n",
              "       [0.22371411],\n",
              "       [0.16024646],\n",
              "       [0.2268053 ],\n",
              "       [0.15400916],\n",
              "       [0.16607651],\n",
              "       [0.22442633],\n",
              "       [0.16440132],\n",
              "       [0.21693984],\n",
              "       [0.21567494],\n",
              "       [0.16289705],\n",
              "       [0.2193402 ],\n",
              "       [0.16735438],\n",
              "       [0.25048167],\n",
              "       [0.27467388],\n",
              "       [0.29441452],\n",
              "       [0.2555132 ],\n",
              "       [0.27206928],\n",
              "       [0.18125698],\n",
              "       [0.20859715],\n",
              "       [0.22147688],\n",
              "       [0.16433364],\n",
              "       [0.15971798],\n",
              "       [0.2700812 ],\n",
              "       [0.2761081 ],\n",
              "       [0.12416977],\n",
              "       [0.23075688],\n",
              "       [0.26401287],\n",
              "       [0.29935092],\n",
              "       [0.3609364 ],\n",
              "       [0.28166428],\n",
              "       [0.48821262],\n",
              "       [0.44412735],\n",
              "       [0.3617646 ],\n",
              "       [0.25861442],\n",
              "       [0.23651913],\n",
              "       [0.33091816],\n",
              "       [0.3975496 ],\n",
              "       [0.42993343],\n",
              "       [0.44975185],\n",
              "       [0.35295594],\n",
              "       [0.23521808],\n",
              "       [0.24101055],\n",
              "       [0.34731278],\n",
              "       [0.41606522],\n",
              "       [0.30757058],\n",
              "       [0.51369643],\n",
              "       [0.2887475 ],\n",
              "       [0.3223899 ],\n",
              "       [0.2618727 ],\n",
              "       [0.23354408],\n",
              "       [0.3650711 ],\n",
              "       [0.27847636],\n",
              "       [0.26536387],\n",
              "       [0.2000288 ],\n",
              "       [0.2832139 ],\n",
              "       [0.20421723],\n",
              "       [0.347871  ],\n",
              "       [0.1939986 ],\n",
              "       [0.30874488],\n",
              "       [0.19123596],\n",
              "       [0.3916528 ],\n",
              "       [0.26450294],\n",
              "       [0.25032082],\n",
              "       [0.23507714],\n",
              "       [0.32048655],\n",
              "       [0.35021982],\n",
              "       [0.31929523],\n",
              "       [0.32229394],\n",
              "       [0.22422814],\n",
              "       [0.18023029],\n",
              "       [0.6105865 ],\n",
              "       [0.275029  ],\n",
              "       [0.5666448 ],\n",
              "       [0.28802383],\n",
              "       [0.41132936],\n",
              "       [0.24201673],\n",
              "       [0.2433033 ],\n",
              "       [0.22764266],\n",
              "       [0.45857075],\n",
              "       [0.28505802],\n",
              "       [0.23881158],\n",
              "       [0.23563725],\n",
              "       [0.26881945],\n",
              "       [0.38133276],\n",
              "       [0.3370018 ],\n",
              "       [0.34156924],\n",
              "       [0.21532014],\n",
              "       [0.29209775],\n",
              "       [0.31739652],\n",
              "       [0.31576148],\n",
              "       [0.26040077],\n",
              "       [0.21947819],\n",
              "       [0.21819356],\n",
              "       [0.2670887 ],\n",
              "       [0.18986642],\n",
              "       [0.23681259],\n",
              "       [0.2492607 ],\n",
              "       [0.24318323],\n",
              "       [0.26228964],\n",
              "       [0.24953651],\n",
              "       [0.23535195],\n",
              "       [0.21496567],\n",
              "       [0.27166733],\n",
              "       [0.23671973],\n",
              "       [0.22105151],\n",
              "       [0.28539371],\n",
              "       [0.25681597],\n",
              "       [0.2596694 ],\n",
              "       [0.25116175],\n",
              "       [0.27008235],\n",
              "       [0.23409742],\n",
              "       [0.16996425],\n",
              "       [0.23478612],\n",
              "       [0.29844928],\n",
              "       [0.23509634],\n",
              "       [0.16994146],\n",
              "       [0.21607187],\n",
              "       [0.23325375],\n",
              "       [0.22339678],\n",
              "       [0.23238736],\n",
              "       [0.17604575],\n",
              "       [0.21272704],\n",
              "       [0.20652375],\n",
              "       [0.18366304],\n",
              "       [0.16743085],\n",
              "       [0.212838  ],\n",
              "       [0.18722594],\n",
              "       [0.179946  ],\n",
              "       [0.2234875 ],\n",
              "       [0.22897932],\n",
              "       [0.39071533],\n",
              "       [0.08045942],\n",
              "       [0.15935221],\n",
              "       [0.33186495],\n",
              "       [0.16247478],\n",
              "       [0.999935  ],\n",
              "       [0.9999733 ],\n",
              "       [0.9998889 ],\n",
              "       [0.35211352],\n",
              "       [0.20078164],\n",
              "       [0.1688588 ],\n",
              "       [0.29835087],\n",
              "       [0.2709803 ],\n",
              "       [0.32989168],\n",
              "       [0.25270122],\n",
              "       [0.26480818],\n",
              "       [0.15540731],\n",
              "       [0.9986196 ],\n",
              "       [0.21055266],\n",
              "       [0.8022182 ],\n",
              "       [0.28151923],\n",
              "       [0.93240047],\n",
              "       [0.8455907 ],\n",
              "       [0.99982584],\n",
              "       [0.35037827]], dtype=float32)"
            ]
          },
          "metadata": {
            "tags": []
          },
          "execution_count": 46
        }
      ]
    },
    {
      "cell_type": "code",
      "metadata": {
        "id": "Bg8NX0B1dAfi",
        "outputId": "2c530e98-fbb5-4b1f-cbd0-eee9f3551c1d",
        "colab": {
          "base_uri": "https://localhost:8080/",
          "height": 1000
        }
      },
      "source": [
        "pred_bool = (pred >0.5)\n",
        "pred_bool"
      ],
      "execution_count": 47,
      "outputs": [
        {
          "output_type": "execute_result",
          "data": {
            "text/plain": [
              "array([[False],\n",
              "       [False],\n",
              "       [False],\n",
              "       [False],\n",
              "       [False],\n",
              "       [False],\n",
              "       [False],\n",
              "       [False],\n",
              "       [False],\n",
              "       [False],\n",
              "       [False],\n",
              "       [False],\n",
              "       [False],\n",
              "       [False],\n",
              "       [False],\n",
              "       [False],\n",
              "       [False],\n",
              "       [False],\n",
              "       [False],\n",
              "       [False],\n",
              "       [False],\n",
              "       [False],\n",
              "       [False],\n",
              "       [False],\n",
              "       [False],\n",
              "       [False],\n",
              "       [False],\n",
              "       [False],\n",
              "       [False],\n",
              "       [False],\n",
              "       [False],\n",
              "       [False],\n",
              "       [False],\n",
              "       [False],\n",
              "       [False],\n",
              "       [False],\n",
              "       [False],\n",
              "       [False],\n",
              "       [False],\n",
              "       [False],\n",
              "       [False],\n",
              "       [False],\n",
              "       [False],\n",
              "       [False],\n",
              "       [False],\n",
              "       [False],\n",
              "       [False],\n",
              "       [False],\n",
              "       [False],\n",
              "       [False],\n",
              "       [False],\n",
              "       [False],\n",
              "       [False],\n",
              "       [False],\n",
              "       [False],\n",
              "       [False],\n",
              "       [False],\n",
              "       [False],\n",
              "       [False],\n",
              "       [False],\n",
              "       [False],\n",
              "       [False],\n",
              "       [False],\n",
              "       [False],\n",
              "       [False],\n",
              "       [False],\n",
              "       [False],\n",
              "       [False],\n",
              "       [False],\n",
              "       [False],\n",
              "       [False],\n",
              "       [False],\n",
              "       [False],\n",
              "       [False],\n",
              "       [False],\n",
              "       [False],\n",
              "       [False],\n",
              "       [False],\n",
              "       [False],\n",
              "       [False],\n",
              "       [False],\n",
              "       [False],\n",
              "       [False],\n",
              "       [False],\n",
              "       [False],\n",
              "       [False],\n",
              "       [False],\n",
              "       [False],\n",
              "       [False],\n",
              "       [False],\n",
              "       [False],\n",
              "       [False],\n",
              "       [False],\n",
              "       [ True],\n",
              "       [False],\n",
              "       [False],\n",
              "       [False],\n",
              "       [False],\n",
              "       [False],\n",
              "       [False],\n",
              "       [False],\n",
              "       [False],\n",
              "       [False],\n",
              "       [False],\n",
              "       [False],\n",
              "       [False],\n",
              "       [False],\n",
              "       [False],\n",
              "       [False],\n",
              "       [False],\n",
              "       [False],\n",
              "       [False],\n",
              "       [False],\n",
              "       [False],\n",
              "       [False],\n",
              "       [False],\n",
              "       [False],\n",
              "       [False],\n",
              "       [ True],\n",
              "       [False],\n",
              "       [ True],\n",
              "       [False],\n",
              "       [False],\n",
              "       [False],\n",
              "       [False],\n",
              "       [False],\n",
              "       [False],\n",
              "       [False],\n",
              "       [False],\n",
              "       [False],\n",
              "       [False],\n",
              "       [False],\n",
              "       [False],\n",
              "       [False],\n",
              "       [False],\n",
              "       [False],\n",
              "       [False],\n",
              "       [False],\n",
              "       [False],\n",
              "       [False],\n",
              "       [False],\n",
              "       [False],\n",
              "       [False],\n",
              "       [False],\n",
              "       [False],\n",
              "       [False],\n",
              "       [False],\n",
              "       [False],\n",
              "       [False],\n",
              "       [False],\n",
              "       [False],\n",
              "       [False],\n",
              "       [False],\n",
              "       [False],\n",
              "       [False],\n",
              "       [False],\n",
              "       [False],\n",
              "       [False],\n",
              "       [False],\n",
              "       [False],\n",
              "       [False],\n",
              "       [False],\n",
              "       [False],\n",
              "       [False],\n",
              "       [False],\n",
              "       [False],\n",
              "       [False],\n",
              "       [False],\n",
              "       [False],\n",
              "       [False],\n",
              "       [False],\n",
              "       [False],\n",
              "       [False],\n",
              "       [False],\n",
              "       [False],\n",
              "       [False],\n",
              "       [False],\n",
              "       [False],\n",
              "       [False],\n",
              "       [False],\n",
              "       [False],\n",
              "       [False],\n",
              "       [False],\n",
              "       [ True],\n",
              "       [ True],\n",
              "       [ True],\n",
              "       [False],\n",
              "       [False],\n",
              "       [False],\n",
              "       [False],\n",
              "       [False],\n",
              "       [False],\n",
              "       [False],\n",
              "       [False],\n",
              "       [False],\n",
              "       [ True],\n",
              "       [False],\n",
              "       [ True],\n",
              "       [False],\n",
              "       [ True],\n",
              "       [ True],\n",
              "       [ True],\n",
              "       [False]])"
            ]
          },
          "metadata": {
            "tags": []
          },
          "execution_count": 47
        }
      ]
    },
    {
      "cell_type": "code",
      "metadata": {
        "id": "Ljy2SdHXdC0S",
        "outputId": "f933ba60-7472-4b54-bf53-7b41b4a4962c",
        "colab": {
          "base_uri": "https://localhost:8080/",
          "height": 399
        }
      },
      "source": [
        "predictions = pred_bool.astype(int)\n",
        "\n",
        "results=pd.DataFrame(predictions, columns=['Predict'])\n",
        "results[\"Files Name\"]=test_generator.filenames\n",
        "results"
      ],
      "execution_count": 60,
      "outputs": [
        {
          "output_type": "execute_result",
          "data": {
            "text/html": [
              "<div>\n",
              "<style scoped>\n",
              "    .dataframe tbody tr th:only-of-type {\n",
              "        vertical-align: middle;\n",
              "    }\n",
              "\n",
              "    .dataframe tbody tr th {\n",
              "        vertical-align: top;\n",
              "    }\n",
              "\n",
              "    .dataframe thead th {\n",
              "        text-align: right;\n",
              "    }\n",
              "</style>\n",
              "<table border=\"1\" class=\"dataframe\">\n",
              "  <thead>\n",
              "    <tr style=\"text-align: right;\">\n",
              "      <th></th>\n",
              "      <th>Predict</th>\n",
              "      <th>Files Name</th>\n",
              "    </tr>\n",
              "  </thead>\n",
              "  <tbody>\n",
              "    <tr>\n",
              "      <th>0</th>\n",
              "      <td>0</td>\n",
              "      <td>0107843_BI-1887-1463-168(R).jpg</td>\n",
              "    </tr>\n",
              "    <tr>\n",
              "      <th>1</th>\n",
              "      <td>0</td>\n",
              "      <td>0107844_BI-1887-1463-168(V).jpg</td>\n",
              "    </tr>\n",
              "    <tr>\n",
              "      <th>2</th>\n",
              "      <td>0</td>\n",
              "      <td>0107845_BI-1887-1463-169(R).jpg</td>\n",
              "    </tr>\n",
              "    <tr>\n",
              "      <th>3</th>\n",
              "      <td>0</td>\n",
              "      <td>0107846_BI-1887-1463-169(V).jpg</td>\n",
              "    </tr>\n",
              "    <tr>\n",
              "      <th>4</th>\n",
              "      <td>0</td>\n",
              "      <td>0107848_BI-1887-1463-170(R).jpg</td>\n",
              "    </tr>\n",
              "    <tr>\n",
              "      <th>...</th>\n",
              "      <td>...</td>\n",
              "      <td>...</td>\n",
              "    </tr>\n",
              "    <tr>\n",
              "      <th>198</th>\n",
              "      <td>0</td>\n",
              "      <td>0111100_RP-T-00-411.jpg</td>\n",
              "    </tr>\n",
              "    <tr>\n",
              "      <th>199</th>\n",
              "      <td>1</td>\n",
              "      <td>0111580_RP-T-2011-76.jpg</td>\n",
              "    </tr>\n",
              "    <tr>\n",
              "      <th>200</th>\n",
              "      <td>1</td>\n",
              "      <td>0112118_BK-2011-31.jpg</td>\n",
              "    </tr>\n",
              "    <tr>\n",
              "      <th>201</th>\n",
              "      <td>1</td>\n",
              "      <td>0112132_NG-C-2011-2.jpg</td>\n",
              "    </tr>\n",
              "    <tr>\n",
              "      <th>202</th>\n",
              "      <td>0</td>\n",
              "      <td>0112374_RP-T-00-467-20.jpg</td>\n",
              "    </tr>\n",
              "  </tbody>\n",
              "</table>\n",
              "<p>203 rows × 2 columns</p>\n",
              "</div>"
            ],
            "text/plain": [
              "     Predict                       Files Name\n",
              "0          0  0107843_BI-1887-1463-168(R).jpg\n",
              "1          0  0107844_BI-1887-1463-168(V).jpg\n",
              "2          0  0107845_BI-1887-1463-169(R).jpg\n",
              "3          0  0107846_BI-1887-1463-169(V).jpg\n",
              "4          0  0107848_BI-1887-1463-170(R).jpg\n",
              "..       ...                              ...\n",
              "198        0          0111100_RP-T-00-411.jpg\n",
              "199        1         0111580_RP-T-2011-76.jpg\n",
              "200        1           0112118_BK-2011-31.jpg\n",
              "201        1          0112132_NG-C-2011-2.jpg\n",
              "202        0       0112374_RP-T-00-467-20.jpg\n",
              "\n",
              "[203 rows x 2 columns]"
            ]
          },
          "metadata": {
            "tags": []
          },
          "execution_count": 60
        }
      ]
    },
    {
      "cell_type": "code",
      "metadata": {
        "id": "zxQl1Qr_USKh",
        "outputId": "b55ab756-000c-4dd3-943b-1bfff3bc880d",
        "colab": {
          "base_uri": "https://localhost:8080/",
          "height": 399
        }
      },
      "source": [
        "df.iloc[test_first_idx:]"
      ],
      "execution_count": 61,
      "outputs": [
        {
          "output_type": "execute_result",
          "data": {
            "text/html": [
              "<div>\n",
              "<style scoped>\n",
              "    .dataframe tbody tr th:only-of-type {\n",
              "        vertical-align: middle;\n",
              "    }\n",
              "\n",
              "    .dataframe tbody tr th {\n",
              "        vertical-align: top;\n",
              "    }\n",
              "\n",
              "    .dataframe thead th {\n",
              "        text-align: right;\n",
              "    }\n",
              "</style>\n",
              "<table border=\"1\" class=\"dataframe\">\n",
              "  <thead>\n",
              "    <tr style=\"text-align: right;\">\n",
              "      <th></th>\n",
              "      <th>tag</th>\n",
              "      <th>olieverf</th>\n",
              "    </tr>\n",
              "  </thead>\n",
              "  <tbody>\n",
              "    <tr>\n",
              "      <th>3845</th>\n",
              "      <td>0107843_BI-1887-1463-168(R).jpg</td>\n",
              "      <td>0</td>\n",
              "    </tr>\n",
              "    <tr>\n",
              "      <th>3846</th>\n",
              "      <td>0107844_BI-1887-1463-168(V).jpg</td>\n",
              "      <td>0</td>\n",
              "    </tr>\n",
              "    <tr>\n",
              "      <th>3847</th>\n",
              "      <td>0107845_BI-1887-1463-169(R).jpg</td>\n",
              "      <td>0</td>\n",
              "    </tr>\n",
              "    <tr>\n",
              "      <th>3848</th>\n",
              "      <td>0107846_BI-1887-1463-169(V).jpg</td>\n",
              "      <td>0</td>\n",
              "    </tr>\n",
              "    <tr>\n",
              "      <th>3849</th>\n",
              "      <td>0107848_BI-1887-1463-170(R).jpg</td>\n",
              "      <td>0</td>\n",
              "    </tr>\n",
              "    <tr>\n",
              "      <th>...</th>\n",
              "      <td>...</td>\n",
              "      <td>...</td>\n",
              "    </tr>\n",
              "    <tr>\n",
              "      <th>4043</th>\n",
              "      <td>0111100_RP-T-00-411.jpg</td>\n",
              "      <td>0</td>\n",
              "    </tr>\n",
              "    <tr>\n",
              "      <th>4044</th>\n",
              "      <td>0111580_RP-T-2011-76.jpg</td>\n",
              "      <td>1</td>\n",
              "    </tr>\n",
              "    <tr>\n",
              "      <th>4045</th>\n",
              "      <td>0112118_BK-2011-31.jpg</td>\n",
              "      <td>1</td>\n",
              "    </tr>\n",
              "    <tr>\n",
              "      <th>4046</th>\n",
              "      <td>0112132_NG-C-2011-2.jpg</td>\n",
              "      <td>1</td>\n",
              "    </tr>\n",
              "    <tr>\n",
              "      <th>4047</th>\n",
              "      <td>0112374_RP-T-00-467-20.jpg</td>\n",
              "      <td>0</td>\n",
              "    </tr>\n",
              "  </tbody>\n",
              "</table>\n",
              "<p>203 rows × 2 columns</p>\n",
              "</div>"
            ],
            "text/plain": [
              "                                  tag  olieverf\n",
              "3845  0107843_BI-1887-1463-168(R).jpg         0\n",
              "3846  0107844_BI-1887-1463-168(V).jpg         0\n",
              "3847  0107845_BI-1887-1463-169(R).jpg         0\n",
              "3848  0107846_BI-1887-1463-169(V).jpg         0\n",
              "3849  0107848_BI-1887-1463-170(R).jpg         0\n",
              "...                               ...       ...\n",
              "4043          0111100_RP-T-00-411.jpg         0\n",
              "4044         0111580_RP-T-2011-76.jpg         1\n",
              "4045           0112118_BK-2011-31.jpg         1\n",
              "4046          0112132_NG-C-2011-2.jpg         1\n",
              "4047       0112374_RP-T-00-467-20.jpg         0\n",
              "\n",
              "[203 rows x 2 columns]"
            ]
          },
          "metadata": {
            "tags": []
          },
          "execution_count": 61
        }
      ]
    },
    {
      "cell_type": "code",
      "metadata": {
        "id": "mp_tYZJ4a1P0",
        "outputId": "3dcb7b5b-e642-485f-dc24-0c701ba269f1",
        "colab": {
          "base_uri": "https://localhost:8080/",
          "height": 399
        }
      },
      "source": [
        "true_df = df.iloc[test_first_idx:]\n",
        "true_df.reset_index(drop=True, inplace=True)\n",
        "true_df"
      ],
      "execution_count": 62,
      "outputs": [
        {
          "output_type": "execute_result",
          "data": {
            "text/html": [
              "<div>\n",
              "<style scoped>\n",
              "    .dataframe tbody tr th:only-of-type {\n",
              "        vertical-align: middle;\n",
              "    }\n",
              "\n",
              "    .dataframe tbody tr th {\n",
              "        vertical-align: top;\n",
              "    }\n",
              "\n",
              "    .dataframe thead th {\n",
              "        text-align: right;\n",
              "    }\n",
              "</style>\n",
              "<table border=\"1\" class=\"dataframe\">\n",
              "  <thead>\n",
              "    <tr style=\"text-align: right;\">\n",
              "      <th></th>\n",
              "      <th>tag</th>\n",
              "      <th>olieverf</th>\n",
              "    </tr>\n",
              "  </thead>\n",
              "  <tbody>\n",
              "    <tr>\n",
              "      <th>0</th>\n",
              "      <td>0107843_BI-1887-1463-168(R).jpg</td>\n",
              "      <td>0</td>\n",
              "    </tr>\n",
              "    <tr>\n",
              "      <th>1</th>\n",
              "      <td>0107844_BI-1887-1463-168(V).jpg</td>\n",
              "      <td>0</td>\n",
              "    </tr>\n",
              "    <tr>\n",
              "      <th>2</th>\n",
              "      <td>0107845_BI-1887-1463-169(R).jpg</td>\n",
              "      <td>0</td>\n",
              "    </tr>\n",
              "    <tr>\n",
              "      <th>3</th>\n",
              "      <td>0107846_BI-1887-1463-169(V).jpg</td>\n",
              "      <td>0</td>\n",
              "    </tr>\n",
              "    <tr>\n",
              "      <th>4</th>\n",
              "      <td>0107848_BI-1887-1463-170(R).jpg</td>\n",
              "      <td>0</td>\n",
              "    </tr>\n",
              "    <tr>\n",
              "      <th>...</th>\n",
              "      <td>...</td>\n",
              "      <td>...</td>\n",
              "    </tr>\n",
              "    <tr>\n",
              "      <th>198</th>\n",
              "      <td>0111100_RP-T-00-411.jpg</td>\n",
              "      <td>0</td>\n",
              "    </tr>\n",
              "    <tr>\n",
              "      <th>199</th>\n",
              "      <td>0111580_RP-T-2011-76.jpg</td>\n",
              "      <td>1</td>\n",
              "    </tr>\n",
              "    <tr>\n",
              "      <th>200</th>\n",
              "      <td>0112118_BK-2011-31.jpg</td>\n",
              "      <td>1</td>\n",
              "    </tr>\n",
              "    <tr>\n",
              "      <th>201</th>\n",
              "      <td>0112132_NG-C-2011-2.jpg</td>\n",
              "      <td>1</td>\n",
              "    </tr>\n",
              "    <tr>\n",
              "      <th>202</th>\n",
              "      <td>0112374_RP-T-00-467-20.jpg</td>\n",
              "      <td>0</td>\n",
              "    </tr>\n",
              "  </tbody>\n",
              "</table>\n",
              "<p>203 rows × 2 columns</p>\n",
              "</div>"
            ],
            "text/plain": [
              "                                 tag  olieverf\n",
              "0    0107843_BI-1887-1463-168(R).jpg         0\n",
              "1    0107844_BI-1887-1463-168(V).jpg         0\n",
              "2    0107845_BI-1887-1463-169(R).jpg         0\n",
              "3    0107846_BI-1887-1463-169(V).jpg         0\n",
              "4    0107848_BI-1887-1463-170(R).jpg         0\n",
              "..                               ...       ...\n",
              "198          0111100_RP-T-00-411.jpg         0\n",
              "199         0111580_RP-T-2011-76.jpg         1\n",
              "200           0112118_BK-2011-31.jpg         1\n",
              "201          0112132_NG-C-2011-2.jpg         1\n",
              "202       0112374_RP-T-00-467-20.jpg         0\n",
              "\n",
              "[203 rows x 2 columns]"
            ]
          },
          "metadata": {
            "tags": []
          },
          "execution_count": 62
        }
      ]
    },
    {
      "cell_type": "code",
      "metadata": {
        "id": "DhoM9wUWabNB",
        "outputId": "7f9ddf15-5f74-4833-d393-1b088ac874f7",
        "colab": {
          "base_uri": "https://localhost:8080/",
          "height": 399
        }
      },
      "source": [
        "results['True'] = true_df['olieverf']\n",
        "results"
      ],
      "execution_count": 63,
      "outputs": [
        {
          "output_type": "execute_result",
          "data": {
            "text/html": [
              "<div>\n",
              "<style scoped>\n",
              "    .dataframe tbody tr th:only-of-type {\n",
              "        vertical-align: middle;\n",
              "    }\n",
              "\n",
              "    .dataframe tbody tr th {\n",
              "        vertical-align: top;\n",
              "    }\n",
              "\n",
              "    .dataframe thead th {\n",
              "        text-align: right;\n",
              "    }\n",
              "</style>\n",
              "<table border=\"1\" class=\"dataframe\">\n",
              "  <thead>\n",
              "    <tr style=\"text-align: right;\">\n",
              "      <th></th>\n",
              "      <th>Predict</th>\n",
              "      <th>Files Name</th>\n",
              "      <th>True</th>\n",
              "    </tr>\n",
              "  </thead>\n",
              "  <tbody>\n",
              "    <tr>\n",
              "      <th>0</th>\n",
              "      <td>0</td>\n",
              "      <td>0107843_BI-1887-1463-168(R).jpg</td>\n",
              "      <td>0</td>\n",
              "    </tr>\n",
              "    <tr>\n",
              "      <th>1</th>\n",
              "      <td>0</td>\n",
              "      <td>0107844_BI-1887-1463-168(V).jpg</td>\n",
              "      <td>0</td>\n",
              "    </tr>\n",
              "    <tr>\n",
              "      <th>2</th>\n",
              "      <td>0</td>\n",
              "      <td>0107845_BI-1887-1463-169(R).jpg</td>\n",
              "      <td>0</td>\n",
              "    </tr>\n",
              "    <tr>\n",
              "      <th>3</th>\n",
              "      <td>0</td>\n",
              "      <td>0107846_BI-1887-1463-169(V).jpg</td>\n",
              "      <td>0</td>\n",
              "    </tr>\n",
              "    <tr>\n",
              "      <th>4</th>\n",
              "      <td>0</td>\n",
              "      <td>0107848_BI-1887-1463-170(R).jpg</td>\n",
              "      <td>0</td>\n",
              "    </tr>\n",
              "    <tr>\n",
              "      <th>...</th>\n",
              "      <td>...</td>\n",
              "      <td>...</td>\n",
              "      <td>...</td>\n",
              "    </tr>\n",
              "    <tr>\n",
              "      <th>198</th>\n",
              "      <td>0</td>\n",
              "      <td>0111100_RP-T-00-411.jpg</td>\n",
              "      <td>0</td>\n",
              "    </tr>\n",
              "    <tr>\n",
              "      <th>199</th>\n",
              "      <td>1</td>\n",
              "      <td>0111580_RP-T-2011-76.jpg</td>\n",
              "      <td>1</td>\n",
              "    </tr>\n",
              "    <tr>\n",
              "      <th>200</th>\n",
              "      <td>1</td>\n",
              "      <td>0112118_BK-2011-31.jpg</td>\n",
              "      <td>1</td>\n",
              "    </tr>\n",
              "    <tr>\n",
              "      <th>201</th>\n",
              "      <td>1</td>\n",
              "      <td>0112132_NG-C-2011-2.jpg</td>\n",
              "      <td>1</td>\n",
              "    </tr>\n",
              "    <tr>\n",
              "      <th>202</th>\n",
              "      <td>0</td>\n",
              "      <td>0112374_RP-T-00-467-20.jpg</td>\n",
              "      <td>0</td>\n",
              "    </tr>\n",
              "  </tbody>\n",
              "</table>\n",
              "<p>203 rows × 3 columns</p>\n",
              "</div>"
            ],
            "text/plain": [
              "     Predict                       Files Name  True\n",
              "0          0  0107843_BI-1887-1463-168(R).jpg     0\n",
              "1          0  0107844_BI-1887-1463-168(V).jpg     0\n",
              "2          0  0107845_BI-1887-1463-169(R).jpg     0\n",
              "3          0  0107846_BI-1887-1463-169(V).jpg     0\n",
              "4          0  0107848_BI-1887-1463-170(R).jpg     0\n",
              "..       ...                              ...   ...\n",
              "198        0          0111100_RP-T-00-411.jpg     0\n",
              "199        1         0111580_RP-T-2011-76.jpg     1\n",
              "200        1           0112118_BK-2011-31.jpg     1\n",
              "201        1          0112132_NG-C-2011-2.jpg     1\n",
              "202        0       0112374_RP-T-00-467-20.jpg     0\n",
              "\n",
              "[203 rows x 3 columns]"
            ]
          },
          "metadata": {
            "tags": []
          },
          "execution_count": 63
        }
      ]
    },
    {
      "cell_type": "code",
      "metadata": {
        "id": "T3yi79upax7Y",
        "outputId": "4874ba5b-4e81-453f-a9f7-90a1c48e1c0c",
        "colab": {
          "base_uri": "https://localhost:8080/",
          "height": 399
        }
      },
      "source": [
        "col = ['Files Name', 'True', 'Predict']\n",
        "results = results[col]\n",
        "results"
      ],
      "execution_count": 65,
      "outputs": [
        {
          "output_type": "execute_result",
          "data": {
            "text/html": [
              "<div>\n",
              "<style scoped>\n",
              "    .dataframe tbody tr th:only-of-type {\n",
              "        vertical-align: middle;\n",
              "    }\n",
              "\n",
              "    .dataframe tbody tr th {\n",
              "        vertical-align: top;\n",
              "    }\n",
              "\n",
              "    .dataframe thead th {\n",
              "        text-align: right;\n",
              "    }\n",
              "</style>\n",
              "<table border=\"1\" class=\"dataframe\">\n",
              "  <thead>\n",
              "    <tr style=\"text-align: right;\">\n",
              "      <th></th>\n",
              "      <th>Files Name</th>\n",
              "      <th>True</th>\n",
              "      <th>Predict</th>\n",
              "    </tr>\n",
              "  </thead>\n",
              "  <tbody>\n",
              "    <tr>\n",
              "      <th>0</th>\n",
              "      <td>0107843_BI-1887-1463-168(R).jpg</td>\n",
              "      <td>0</td>\n",
              "      <td>0</td>\n",
              "    </tr>\n",
              "    <tr>\n",
              "      <th>1</th>\n",
              "      <td>0107844_BI-1887-1463-168(V).jpg</td>\n",
              "      <td>0</td>\n",
              "      <td>0</td>\n",
              "    </tr>\n",
              "    <tr>\n",
              "      <th>2</th>\n",
              "      <td>0107845_BI-1887-1463-169(R).jpg</td>\n",
              "      <td>0</td>\n",
              "      <td>0</td>\n",
              "    </tr>\n",
              "    <tr>\n",
              "      <th>3</th>\n",
              "      <td>0107846_BI-1887-1463-169(V).jpg</td>\n",
              "      <td>0</td>\n",
              "      <td>0</td>\n",
              "    </tr>\n",
              "    <tr>\n",
              "      <th>4</th>\n",
              "      <td>0107848_BI-1887-1463-170(R).jpg</td>\n",
              "      <td>0</td>\n",
              "      <td>0</td>\n",
              "    </tr>\n",
              "    <tr>\n",
              "      <th>...</th>\n",
              "      <td>...</td>\n",
              "      <td>...</td>\n",
              "      <td>...</td>\n",
              "    </tr>\n",
              "    <tr>\n",
              "      <th>198</th>\n",
              "      <td>0111100_RP-T-00-411.jpg</td>\n",
              "      <td>0</td>\n",
              "      <td>0</td>\n",
              "    </tr>\n",
              "    <tr>\n",
              "      <th>199</th>\n",
              "      <td>0111580_RP-T-2011-76.jpg</td>\n",
              "      <td>1</td>\n",
              "      <td>1</td>\n",
              "    </tr>\n",
              "    <tr>\n",
              "      <th>200</th>\n",
              "      <td>0112118_BK-2011-31.jpg</td>\n",
              "      <td>1</td>\n",
              "      <td>1</td>\n",
              "    </tr>\n",
              "    <tr>\n",
              "      <th>201</th>\n",
              "      <td>0112132_NG-C-2011-2.jpg</td>\n",
              "      <td>1</td>\n",
              "      <td>1</td>\n",
              "    </tr>\n",
              "    <tr>\n",
              "      <th>202</th>\n",
              "      <td>0112374_RP-T-00-467-20.jpg</td>\n",
              "      <td>0</td>\n",
              "      <td>0</td>\n",
              "    </tr>\n",
              "  </tbody>\n",
              "</table>\n",
              "<p>203 rows × 3 columns</p>\n",
              "</div>"
            ],
            "text/plain": [
              "                          Files Name  True  Predict\n",
              "0    0107843_BI-1887-1463-168(R).jpg     0        0\n",
              "1    0107844_BI-1887-1463-168(V).jpg     0        0\n",
              "2    0107845_BI-1887-1463-169(R).jpg     0        0\n",
              "3    0107846_BI-1887-1463-169(V).jpg     0        0\n",
              "4    0107848_BI-1887-1463-170(R).jpg     0        0\n",
              "..                               ...   ...      ...\n",
              "198          0111100_RP-T-00-411.jpg     0        0\n",
              "199         0111580_RP-T-2011-76.jpg     1        1\n",
              "200           0112118_BK-2011-31.jpg     1        1\n",
              "201          0112132_NG-C-2011-2.jpg     1        1\n",
              "202       0112374_RP-T-00-467-20.jpg     0        0\n",
              "\n",
              "[203 rows x 3 columns]"
            ]
          },
          "metadata": {
            "tags": []
          },
          "execution_count": 65
        }
      ]
    },
    {
      "cell_type": "code",
      "metadata": {
        "id": "KAfBOkzqb3no"
      },
      "source": [
        "accuracy = len(results[results['True']==results['Predict']].index) / len(results.index)"
      ],
      "execution_count": 68,
      "outputs": []
    },
    {
      "cell_type": "code",
      "metadata": {
        "id": "PCbVvBJWcARN",
        "outputId": "b9b2e148-297f-4d3d-c1f0-b4401eb4d2b5",
        "colab": {
          "base_uri": "https://localhost:8080/",
          "height": 34
        }
      },
      "source": [
        "accuracy"
      ],
      "execution_count": 69,
      "outputs": [
        {
          "output_type": "execute_result",
          "data": {
            "text/plain": [
              "0.9852216748768473"
            ]
          },
          "metadata": {
            "tags": []
          },
          "execution_count": 69
        }
      ]
    },
    {
      "cell_type": "code",
      "metadata": {
        "id": "GPmoYc9ocWYV"
      },
      "source": [
        "results.to_csv('guess_mtl_oil_binary.csv')"
      ],
      "execution_count": 71,
      "outputs": []
    },
    {
      "cell_type": "code",
      "metadata": {
        "id": "2oF4tHoIdIdH"
      },
      "source": [
        ""
      ],
      "execution_count": null,
      "outputs": []
    }
  ]
}