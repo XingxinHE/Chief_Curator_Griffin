{
  "nbformat": 4,
  "nbformat_minor": 0,
  "metadata": {
    "colab": {
      "name": "02#Discover Interesting Data",
      "provenance": [],
      "collapsed_sections": [],
      "authorship_tag": "ABX9TyPlsb2j1ZEwQoC+3Wska1MD",
      "include_colab_link": true
    },
    "kernelspec": {
      "name": "python3",
      "display_name": "Python 3"
    }
  },
  "cells": [
    {
      "cell_type": "markdown",
      "metadata": {
        "id": "view-in-github",
        "colab_type": "text"
      },
      "source": [
        "<a href=\"https://colab.research.google.com/github/XingxinHE/Chief_Curator_Griffin/blob/master/02_Discover_Interesting_Data.ipynb\" target=\"_parent\"><img src=\"https://colab.research.google.com/assets/colab-badge.svg\" alt=\"Open In Colab\"/></a>"
      ]
    },
    {
      "cell_type": "code",
      "metadata": {
        "id": "vXhVkDcf04fS",
        "colab_type": "code",
        "colab": {
          "base_uri": "https://localhost:8080/",
          "height": 33
        },
        "outputId": "bc7d4f21-8cd0-4c64-8c13-80f68be64bc4"
      },
      "source": [
        "from google.colab import drive\n",
        "drive.mount('/content/gdrive')\n",
        "import os, shutil\n",
        "os.chdir(\"/content/gdrive/My Drive/Kaggle/Rijksmuseum\")"
      ],
      "execution_count": 25,
      "outputs": [
        {
          "output_type": "stream",
          "text": [
            "Drive already mounted at /content/gdrive; to attempt to forcibly remount, call drive.mount(\"/content/gdrive\", force_remount=True).\n"
          ],
          "name": "stdout"
        }
      ]
    },
    {
      "cell_type": "markdown",
      "metadata": {
        "id": "89kmx5yEard1",
        "colab_type": "text"
      },
      "source": [
        "4/4gG-RF-Eu73JPuDhD7Ys5hYHAzm3lMeHAiVM4Bw19BeYyqq4XGzG6AA"
      ]
    },
    {
      "cell_type": "code",
      "metadata": {
        "id": "E11SSaGC0SZf",
        "colab_type": "code",
        "colab": {}
      },
      "source": [
        "import pandas as pd\n",
        "import numpy as np"
      ],
      "execution_count": null,
      "outputs": []
    },
    {
      "cell_type": "code",
      "metadata": {
        "id": "EYmkiBJZdJs7",
        "colab_type": "code",
        "colab": {
          "base_uri": "https://localhost:8080/",
          "height": 50
        },
        "outputId": "ec16d695-ef8c-4bea-8425-5aac269f8543"
      },
      "source": [
        "ls"
      ],
      "execution_count": null,
      "outputs": [
        {
          "output_type": "stream",
          "text": [
            "'01#Loading Info From XML'       \u001b[0m\u001b[01;34mjpg\u001b[0m/                  \u001b[01;34mxml\u001b[0m/\n",
            "'02#Discover Interesting Data'   project_curator.csv\n"
          ],
          "name": "stdout"
        }
      ]
    },
    {
      "cell_type": "markdown",
      "metadata": {
        "id": "-LS3BBTGaw-U",
        "colab_type": "text"
      },
      "source": [
        "## Import the csv"
      ]
    },
    {
      "cell_type": "code",
      "metadata": {
        "id": "p73XUsGq9_F4",
        "colab_type": "code",
        "colab": {}
      },
      "source": [
        "df = pd.read_csv('project_curator.csv', index_col=0)"
      ],
      "execution_count": null,
      "outputs": []
    },
    {
      "cell_type": "code",
      "metadata": {
        "id": "8h_i-QU6-LFI",
        "colab_type": "code",
        "colab": {
          "base_uri": "https://localhost:8080/",
          "height": 1000
        },
        "outputId": "67b9137b-55de-47f5-98df-18a20654d929"
      },
      "source": [
        "df"
      ],
      "execution_count": null,
      "outputs": [
        {
          "output_type": "execute_result",
          "data": {
            "text/html": [
              "<div>\n",
              "<style scoped>\n",
              "    .dataframe tbody tr th:only-of-type {\n",
              "        vertical-align: middle;\n",
              "    }\n",
              "\n",
              "    .dataframe tbody tr th {\n",
              "        vertical-align: top;\n",
              "    }\n",
              "\n",
              "    .dataframe thead th {\n",
              "        text-align: right;\n",
              "    }\n",
              "</style>\n",
              "<table border=\"1\" class=\"dataframe\">\n",
              "  <thead>\n",
              "    <tr style=\"text-align: right;\">\n",
              "      <th></th>\n",
              "      <th>format</th>\n",
              "      <th>identifier</th>\n",
              "      <th>language</th>\n",
              "      <th>publisher</th>\n",
              "      <th>date</th>\n",
              "      <th>description</th>\n",
              "      <th>creator</th>\n",
              "      <th>coverage</th>\n",
              "      <th>type</th>\n",
              "      <th>title</th>\n",
              "      <th>subject</th>\n",
              "      <th>contributor</th>\n",
              "      <th>relation</th>\n",
              "      <th>tag</th>\n",
              "    </tr>\n",
              "  </thead>\n",
              "  <tbody>\n",
              "    <tr>\n",
              "      <th>0</th>\n",
              "      <td>[\" 'hoogte 97 CMcmcm'\", \" 'breedte 81 CMcmcm'\"...</td>\n",
              "      <td>['SK-A-4878', 'RM0001.COLLECT.2']</td>\n",
              "      <td>Dutch</td>\n",
              "      <td>Rijksmuseum</td>\n",
              "      <td>1644 -  1648</td>\n",
              "      <td>Een jonge vrouw haar handen warmend boven gloe...</td>\n",
              "      <td>schilder: Everdingen, Caesar Boëtius van</td>\n",
              "      <td>['Nederland', 'tweede kwart 17e eeuw']</td>\n",
              "      <td>schilderij</td>\n",
              "      <td>Een jonge vrouw haar handen warmend boven een ...</td>\n",
              "      <td>['Iconclasscode: 41B211', 'Iconclasscode: 23D41']</td>\n",
              "      <td>Aankoop met steun van de Vereniging Rembrandt,...</td>\n",
              "      <td>0.0</td>\n",
              "      <td>0000001_SK-A-4878</td>\n",
              "    </tr>\n",
              "    <tr>\n",
              "      <th>1</th>\n",
              "      <td>[\" 'drager: hoogte 40 CMcmcm'\", \" 'drager: bre...</td>\n",
              "      <td>['SK-A-4877', 'RM0001.COLLECT.5']</td>\n",
              "      <td>Dutch</td>\n",
              "      <td>Rijksmuseum</td>\n",
              "      <td>1857 -  1857</td>\n",
              "      <td>Portret van Jacob Maris op twintigjarige leeft...</td>\n",
              "      <td>schilder: Maris, Matthijs</td>\n",
              "      <td>[None, 'derde kwart 19e eeuw']</td>\n",
              "      <td>schilderij</td>\n",
              "      <td>Portret van Jacob Maris</td>\n",
              "      <td>Maris, Jacob</td>\n",
              "      <td>0.0</td>\n",
              "      <td>0.0</td>\n",
              "      <td>0000002_SK-A-4877</td>\n",
              "    </tr>\n",
              "    <tr>\n",
              "      <th>2</th>\n",
              "      <td>[\" 'drager: hoogte 71.5 CMcmcm'\", \" 'drager: b...</td>\n",
              "      <td>['SK-A-4881', 'RM0001.COLLECT.9']</td>\n",
              "      <td>Dutch</td>\n",
              "      <td>Rijksmuseum</td>\n",
              "      <td>1675 -  1685</td>\n",
              "      <td>Portret van een jonge man uit de familie Van A...</td>\n",
              "      <td>schilder: Maes, Nicolaes</td>\n",
              "      <td>[None, 'vierde kwart 17e eeuw']</td>\n",
              "      <td>schilderij</td>\n",
              "      <td>Portret van een jonge man, waarschijnlijk Simo...</td>\n",
              "      <td>['Alphen, Simon van', 'Iconclasscode: 61B2', '...</td>\n",
              "      <td>0.0</td>\n",
              "      <td>0.0</td>\n",
              "      <td>0000003_SK-A-4881</td>\n",
              "    </tr>\n",
              "    <tr>\n",
              "      <th>3</th>\n",
              "      <td>[\" 'plaatrand: hoogte 156 MMmmmm'\", \" 'plaatra...</td>\n",
              "      <td>['RP-P-1992-35', 'RM0001.COLLECT.21']</td>\n",
              "      <td>Dutch</td>\n",
              "      <td>Rijksmuseum</td>\n",
              "      <td>['1555 -  1555', '1556 -  1556']</td>\n",
              "      <td>Keizer Karel V zit op een troon, met een adela...</td>\n",
              "      <td>['vermeld op object prentmaker: Coornhert, Dir...</td>\n",
              "      <td>['Haarlem', 'Haarlem', 'Antwerpen']</td>\n",
              "      <td>['prent', 'historieprent']</td>\n",
              "      <td>['Keizer Karel V omgeven door zijn overwonnen ...</td>\n",
              "      <td>['Karel V van Habsburg (Duits keizer en koning...</td>\n",
              "      <td>Aankoop uit het F.G. Waller-Fonds</td>\n",
              "      <td>0.0</td>\n",
              "      <td>0000004_RP-P-1992-35</td>\n",
              "    </tr>\n",
              "    <tr>\n",
              "      <th>4</th>\n",
              "      <td>[\" 'plaatrand: hoogte 158 MMmmmm'\", \" 'plaatra...</td>\n",
              "      <td>['RP-P-1992-36', 'RM0001.COLLECT.36']</td>\n",
              "      <td>Dutch</td>\n",
              "      <td>Rijksmuseum</td>\n",
              "      <td>1555 -  1556</td>\n",
              "      <td>De gevangenname van Frans I, koning van Frankr...</td>\n",
              "      <td>['mogelijk prentmaker: Coornhert, Dirck Volcke...</td>\n",
              "      <td>['Haarlem', 'Antwerpen', 'Haarlem', 'Antwerpen']</td>\n",
              "      <td>['prent', 'historieprent']</td>\n",
              "      <td>['Gevangename van Frans I tijdens de slag van ...</td>\n",
              "      <td>['Frans I van Valois-Angoulême (koning van Fra...</td>\n",
              "      <td>Aankoop uit het F.G. Waller-Fonds</td>\n",
              "      <td>NaN</td>\n",
              "      <td>0000005_RP-P-1992-36</td>\n",
              "    </tr>\n",
              "    <tr>\n",
              "      <th>...</th>\n",
              "      <td>...</td>\n",
              "      <td>...</td>\n",
              "      <td>...</td>\n",
              "      <td>...</td>\n",
              "      <td>...</td>\n",
              "      <td>...</td>\n",
              "      <td>...</td>\n",
              "      <td>...</td>\n",
              "      <td>...</td>\n",
              "      <td>...</td>\n",
              "      <td>...</td>\n",
              "      <td>...</td>\n",
              "      <td>...</td>\n",
              "      <td>...</td>\n",
              "    </tr>\n",
              "    <tr>\n",
              "      <th>112034</th>\n",
              "      <td>[\" 'diameter 11 CMcmcm'\", \" 'materiaal: porsel...</td>\n",
              "      <td>['AK-RBK-14763-A-2', 'RM0001.COLLECT.509688']</td>\n",
              "      <td>Dutch</td>\n",
              "      <td>Rijksmuseum</td>\n",
              "      <td>ca. 1700 - ca. 1725</td>\n",
              "      <td>Schotel van porselein, zeshoekig, beschilderd ...</td>\n",
              "      <td>pottenbakker: anoniem</td>\n",
              "      <td>['China', 'eerste kwart 18e eeuw']</td>\n",
              "      <td>schotel</td>\n",
              "      <td>Schotel beschilderd met lotusranken en een kra...</td>\n",
              "      <td>NaN</td>\n",
              "      <td>Legaat van de heer J. Spoor, Muiden</td>\n",
              "      <td>NaN</td>\n",
              "      <td>0112410_AK-RBK-14763-A-2</td>\n",
              "    </tr>\n",
              "    <tr>\n",
              "      <th>112035</th>\n",
              "      <td>[\" 'blad: hoogte 183 MMmmmm'\", \" 'blad: breedt...</td>\n",
              "      <td>['RP-P-OB-86.512', 'RM0001.COLLECT.510368']</td>\n",
              "      <td>Dutch</td>\n",
              "      <td>Rijksmuseum</td>\n",
              "      <td>1863 -  1863</td>\n",
              "      <td>Het Nederlandse oorlogsschip Medusa onder beve...</td>\n",
              "      <td>['vermeld op object prentmaker: Bos, Maarten',...</td>\n",
              "      <td>['Nederland', 'Arnhem']</td>\n",
              "      <td>prent</td>\n",
              "      <td>['Beschieting van het Nederlandse oorlogsschip...</td>\n",
              "      <td>['Shimonoseki, Straat van', 'Iconclasscode: 45...</td>\n",
              "      <td>NaN</td>\n",
              "      <td>NaN</td>\n",
              "      <td>0112411_RP-P-OB-86.512</td>\n",
              "    </tr>\n",
              "    <tr>\n",
              "      <th>112036</th>\n",
              "      <td>[\" 'materiaal: lood (materiaal)'\", \" 'techniek...</td>\n",
              "      <td>['NG-NM-7753', 'RM0001.COLLECT.512201']</td>\n",
              "      <td>Dutch</td>\n",
              "      <td>Rijksmuseum</td>\n",
              "      <td>ca. 1590 - ca. 1596</td>\n",
              "      <td>Inktpot, rechthoekig met aan de bovenzijde een...</td>\n",
              "      <td>: anoniem</td>\n",
              "      <td>[None, 'vierde kwart 16e eeuw']</td>\n",
              "      <td>['inktpot', 'deksel']</td>\n",
              "      <td>Inktpot met deksel</td>\n",
              "      <td>NaN</td>\n",
              "      <td>NaN</td>\n",
              "      <td>['NG-NM-7753-A', 'NG-NM-7753-B']</td>\n",
              "      <td>0112412_NG-NM-7753</td>\n",
              "    </tr>\n",
              "    <tr>\n",
              "      <th>112037</th>\n",
              "      <td>[\" 'geheel: lengte 63.1 CMcmcm'\", \" 'gevest: l...</td>\n",
              "      <td>['NG-NM-8358', 'RM0001.COLLECT.514115']</td>\n",
              "      <td>Dutch</td>\n",
              "      <td>Rijksmuseum</td>\n",
              "      <td>1774 -  1790</td>\n",
              "      <td>['Hartsvanger met benen greep die spiraalsgewi...</td>\n",
              "      <td>['zwaardveger: Coenraads, Jacobus (Senior)', '...</td>\n",
              "      <td>['Amsterdam', 'Amsterdam']</td>\n",
              "      <td>hartsvanger</td>\n",
              "      <td>Hartsvanger van Schout bij nacht J.A. Zoutman</td>\n",
              "      <td>NaN</td>\n",
              "      <td>Schenking van J. Roelofs Thijssen</td>\n",
              "      <td>NaN</td>\n",
              "      <td>0112413_NG-NM-8358</td>\n",
              "    </tr>\n",
              "    <tr>\n",
              "      <th>112038</th>\n",
              "      <td>[\" 'diameter 3.6 CMcmcm'\", \" 'gewicht 26.42 GR...</td>\n",
              "      <td>['NG-KOG-2192', 'RM0001.COLLECT.30100589']</td>\n",
              "      <td>Dutch</td>\n",
              "      <td>Rijksmuseum</td>\n",
              "      <td>1808 -  1808</td>\n",
              "      <td>Vijftig zilveren stuivers uit 1808. Voorzijde:...</td>\n",
              "      <td>: George</td>\n",
              "      <td>['Holland', 'eerste kwart 19e eeuw']</td>\n",
              "      <td>munt</td>\n",
              "      <td>Zilveren stuivers uit 1808</td>\n",
              "      <td>Lodewijk Napoleon Bonaparte</td>\n",
              "      <td>Bruikleen van het Koninklijk Oudheidkundig Gen...</td>\n",
              "      <td>NaN</td>\n",
              "      <td>0112414_NG-KOG-2192</td>\n",
              "    </tr>\n",
              "  </tbody>\n",
              "</table>\n",
              "<p>112039 rows × 14 columns</p>\n",
              "</div>"
            ],
            "text/plain": [
              "                                                   format  ...                       tag\n",
              "0       [\" 'hoogte 97 CMcmcm'\", \" 'breedte 81 CMcmcm'\"...  ...         0000001_SK-A-4878\n",
              "1       [\" 'drager: hoogte 40 CMcmcm'\", \" 'drager: bre...  ...         0000002_SK-A-4877\n",
              "2       [\" 'drager: hoogte 71.5 CMcmcm'\", \" 'drager: b...  ...         0000003_SK-A-4881\n",
              "3       [\" 'plaatrand: hoogte 156 MMmmmm'\", \" 'plaatra...  ...      0000004_RP-P-1992-35\n",
              "4       [\" 'plaatrand: hoogte 158 MMmmmm'\", \" 'plaatra...  ...      0000005_RP-P-1992-36\n",
              "...                                                   ...  ...                       ...\n",
              "112034  [\" 'diameter 11 CMcmcm'\", \" 'materiaal: porsel...  ...  0112410_AK-RBK-14763-A-2\n",
              "112035  [\" 'blad: hoogte 183 MMmmmm'\", \" 'blad: breedt...  ...    0112411_RP-P-OB-86.512\n",
              "112036  [\" 'materiaal: lood (materiaal)'\", \" 'techniek...  ...        0112412_NG-NM-7753\n",
              "112037  [\" 'geheel: lengte 63.1 CMcmcm'\", \" 'gevest: l...  ...        0112413_NG-NM-8358\n",
              "112038  [\" 'diameter 3.6 CMcmcm'\", \" 'gewicht 26.42 GR...  ...       0112414_NG-KOG-2192\n",
              "\n",
              "[112039 rows x 14 columns]"
            ]
          },
          "metadata": {
            "tags": []
          },
          "execution_count": 7
        }
      ]
    },
    {
      "cell_type": "markdown",
      "metadata": {
        "id": "7-b2s4tBbHy4",
        "colab_type": "text"
      },
      "source": [
        "### Discover Data"
      ]
    },
    {
      "cell_type": "markdown",
      "metadata": {
        "id": "PUh-REjYoheI",
        "colab_type": "text"
      },
      "source": [
        "#### Type"
      ]
    },
    {
      "cell_type": "code",
      "metadata": {
        "id": "meSXXyzAbJbs",
        "colab_type": "code",
        "colab": {
          "base_uri": "https://localhost:8080/",
          "height": 218
        },
        "outputId": "09dd1d90-208d-4275-ed58-d09dfc89472e"
      },
      "source": [
        "df['type'].value_counts()"
      ],
      "execution_count": null,
      "outputs": [
        {
          "output_type": "execute_result",
          "data": {
            "text/plain": [
              "prent                                            52166\n",
              "tekening                                         10882\n",
              "['prent', 'boekillustratie']                      6616\n",
              "['prent', 'ornamentprent']                        4922\n",
              "schilderij                                        3271\n",
              "                                                 ...  \n",
              "schuif                                               1\n",
              "['prent', 'kinderprent']                             1\n",
              "['eet- en drinkgerei', 'lepel', 'boterspaan']        1\n",
              "pagode                                               1\n",
              "['schilderij', 'predella']                           1\n",
              "Name: type, Length: 3116, dtype: int64"
            ]
          },
          "metadata": {
            "tags": []
          },
          "execution_count": 17
        }
      ]
    },
    {
      "cell_type": "code",
      "metadata": {
        "id": "6pXRCXWbsyjF",
        "colab_type": "code",
        "colab": {}
      },
      "source": [
        "type_info = df['type'].value_counts()"
      ],
      "execution_count": 96,
      "outputs": []
    },
    {
      "cell_type": "code",
      "metadata": {
        "id": "qDZ-I_gqtTGj",
        "colab_type": "code",
        "colab": {}
      },
      "source": [
        "type_info = type_info[:20]"
      ],
      "execution_count": 97,
      "outputs": []
    },
    {
      "cell_type": "code",
      "metadata": {
        "id": "GpSsLYPItXab",
        "colab_type": "code",
        "colab": {
          "base_uri": "https://localhost:8080/",
          "height": 368
        },
        "outputId": "777e62cb-5bc7-4199-ffdf-bfea9abe7ae4"
      },
      "source": [
        "type_info"
      ],
      "execution_count": 99,
      "outputs": [
        {
          "output_type": "execute_result",
          "data": {
            "text/plain": [
              "prent                           52166\n",
              "tekening                        10882\n",
              "['prent', 'boekillustratie']     6616\n",
              "['prent', 'ornamentprent']       4922\n",
              "schilderij                       3271\n",
              "['prent', 'historieprent']       3105\n",
              "['prent', 'nieuwsprent']         2017\n",
              "foto                             1768\n",
              "['tekening', 'ontwerp']          1747\n",
              "['prent', 'kaart']               1326\n",
              "['prent', 'titelpagina']         1213\n",
              "['prent', 'spotprent']            920\n",
              "['prent', 'titelprent']           583\n",
              "['prent', 'surimono']             558\n",
              "beeldhouwwerk                     538\n",
              "bord (vaatwerk)                   519\n",
              "schotel                           491\n",
              "tekstblad                         488\n",
              "['prent', 'kostuumprent']         390\n",
              "['foto', 'stereofoto']            381\n",
              "Name: type, dtype: int64"
            ]
          },
          "metadata": {
            "tags": []
          },
          "execution_count": 99
        }
      ]
    },
    {
      "cell_type": "code",
      "metadata": {
        "id": "fTqwoQ8TtYO3",
        "colab_type": "code",
        "colab": {}
      },
      "source": [
        "dictA = dict(type_info)"
      ],
      "execution_count": 133,
      "outputs": []
    },
    {
      "cell_type": "code",
      "metadata": {
        "id": "1hC3iXNqxx9T",
        "colab_type": "code",
        "colab": {
          "base_uri": "https://localhost:8080/",
          "height": 351
        },
        "outputId": "b227d18b-33eb-4ac6-b776-5c1120938fe4"
      },
      "source": [
        "dictA"
      ],
      "execution_count": 134,
      "outputs": [
        {
          "output_type": "execute_result",
          "data": {
            "text/plain": [
              "{\"['foto', 'stereofoto']\": 381,\n",
              " \"['prent', 'boekillustratie']\": 6616,\n",
              " \"['prent', 'historieprent']\": 3105,\n",
              " \"['prent', 'kaart']\": 1326,\n",
              " \"['prent', 'kostuumprent']\": 390,\n",
              " \"['prent', 'nieuwsprent']\": 2017,\n",
              " \"['prent', 'ornamentprent']\": 4922,\n",
              " \"['prent', 'spotprent']\": 920,\n",
              " \"['prent', 'surimono']\": 558,\n",
              " \"['prent', 'titelpagina']\": 1213,\n",
              " \"['prent', 'titelprent']\": 583,\n",
              " \"['tekening', 'ontwerp']\": 1747,\n",
              " 'beeldhouwwerk': 538,\n",
              " 'bord (vaatwerk)': 519,\n",
              " 'foto': 1768,\n",
              " 'prent': 52166,\n",
              " 'schilderij': 3271,\n",
              " 'schotel': 491,\n",
              " 'tekening': 10882,\n",
              " 'tekstblad': 488}"
            ]
          },
          "metadata": {
            "tags": []
          },
          "execution_count": 134
        }
      ]
    },
    {
      "cell_type": "code",
      "metadata": {
        "id": "c2KO1OhEzu3o",
        "colab_type": "code",
        "colab": {}
      },
      "source": [
        "for key in dictA.keys():\n",
        "  if 'prent' in key:\n",
        "    if 'prent' ==key:\n",
        "      continue\n",
        "    temp = 0\n",
        "    temp = dictA[key] #该key的值\n",
        "    str1 = str(key) #该key的string\n",
        "    del dictA[key]\n",
        "    str2 = str1.replace('prent','')\n",
        "    dictA[str2] = temp\n",
        "    dictA['prent'] += temp\n",
        "  else:\n",
        "    continue\n"
      ],
      "execution_count": 137,
      "outputs": []
    },
    {
      "cell_type": "code",
      "metadata": {
        "id": "_KPOPrE-2GNF",
        "colab_type": "code",
        "colab": {
          "base_uri": "https://localhost:8080/",
          "height": 351
        },
        "outputId": "86463a5a-cb36-429c-8d49-078c4b88809e"
      },
      "source": [
        "dictA"
      ],
      "execution_count": 138,
      "outputs": [
        {
          "output_type": "execute_result",
          "data": {
            "text/plain": [
              "{\"['', 'boekillustratie']\": 6616,\n",
              " \"['', 'historie']\": 3105,\n",
              " \"['', 'kaart']\": 1326,\n",
              " \"['', 'kostuum']\": 390,\n",
              " \"['', 'nieuws']\": 2017,\n",
              " \"['', 'ornament']\": 4922,\n",
              " \"['', 'spot']\": 920,\n",
              " \"['', 'surimono']\": 558,\n",
              " \"['', 'titel']\": 583,\n",
              " \"['', 'titelpagina']\": 1213,\n",
              " \"['foto', 'stereofoto']\": 381,\n",
              " \"['tekening', 'ontwerp']\": 1747,\n",
              " 'beeldhouwwerk': 538,\n",
              " 'bord (vaatwerk)': 519,\n",
              " 'foto': 1768,\n",
              " 'prent': 73816,\n",
              " 'schilderij': 3271,\n",
              " 'schotel': 491,\n",
              " 'tekening': 10882,\n",
              " 'tekstblad': 488}"
            ]
          },
          "metadata": {
            "tags": []
          },
          "execution_count": 138
        }
      ]
    },
    {
      "cell_type": "code",
      "metadata": {
        "id": "2lvMp2x63gm6",
        "colab_type": "code",
        "colab": {}
      },
      "source": [
        "for key in dictA.keys():\n",
        "  if 'foto' in key:\n",
        "    if 'foto' ==key:\n",
        "      continue\n",
        "    temp = 0\n",
        "    temp = dictA[key] #该key的值\n",
        "    str1 = str(key) #该key的string\n",
        "    del dictA[key]\n",
        "    str2 = str1.replace('foto','')\n",
        "    dictA[str2] = temp\n",
        "    dictA['foto'] += temp\n",
        "  else:\n",
        "    continue"
      ],
      "execution_count": 139,
      "outputs": []
    },
    {
      "cell_type": "code",
      "metadata": {
        "id": "XN2pMj2E4W_7",
        "colab_type": "code",
        "colab": {
          "base_uri": "https://localhost:8080/",
          "height": 351
        },
        "outputId": "2a96058b-8d33-44a7-dd1d-4a0a2dcaab88"
      },
      "source": [
        "dictA"
      ],
      "execution_count": 140,
      "outputs": [
        {
          "output_type": "execute_result",
          "data": {
            "text/plain": [
              "{\"['', 'boekillustratie']\": 6616,\n",
              " \"['', 'historie']\": 3105,\n",
              " \"['', 'kaart']\": 1326,\n",
              " \"['', 'kostuum']\": 390,\n",
              " \"['', 'nieuws']\": 2017,\n",
              " \"['', 'ornament']\": 4922,\n",
              " \"['', 'spot']\": 920,\n",
              " \"['', 'stereo']\": 381,\n",
              " \"['', 'surimono']\": 558,\n",
              " \"['', 'titel']\": 583,\n",
              " \"['', 'titelpagina']\": 1213,\n",
              " \"['tekening', 'ontwerp']\": 1747,\n",
              " 'beeldhouwwerk': 538,\n",
              " 'bord (vaatwerk)': 519,\n",
              " 'foto': 2149,\n",
              " 'prent': 73816,\n",
              " 'schilderij': 3271,\n",
              " 'schotel': 491,\n",
              " 'tekening': 10882,\n",
              " 'tekstblad': 488}"
            ]
          },
          "metadata": {
            "tags": []
          },
          "execution_count": 140
        }
      ]
    },
    {
      "cell_type": "code",
      "metadata": {
        "id": "p0TKfEdL4Xig",
        "colab_type": "code",
        "colab": {}
      },
      "source": [
        "type_dict = {}\n",
        "for key in dictA.keys():\n",
        "  str1 = re.sub(r'[^\\w]', '', str(key))\n",
        "  type_dict[str1] = dictA[key]"
      ],
      "execution_count": 141,
      "outputs": []
    },
    {
      "cell_type": "code",
      "metadata": {
        "id": "hrL4qDEf5dQv",
        "colab_type": "code",
        "colab": {
          "base_uri": "https://localhost:8080/",
          "height": 351
        },
        "outputId": "8d184f98-c017-4a7b-ef8e-3725b17e0a11"
      },
      "source": [
        "type_dict"
      ],
      "execution_count": 142,
      "outputs": [
        {
          "output_type": "execute_result",
          "data": {
            "text/plain": [
              "{'beeldhouwwerk': 538,\n",
              " 'boekillustratie': 6616,\n",
              " 'bordvaatwerk': 519,\n",
              " 'foto': 2149,\n",
              " 'historie': 3105,\n",
              " 'kaart': 1326,\n",
              " 'kostuum': 390,\n",
              " 'nieuws': 2017,\n",
              " 'ornament': 4922,\n",
              " 'prent': 73816,\n",
              " 'schilderij': 3271,\n",
              " 'schotel': 491,\n",
              " 'spot': 920,\n",
              " 'stereo': 381,\n",
              " 'surimono': 558,\n",
              " 'tekening': 10882,\n",
              " 'tekeningontwerp': 1747,\n",
              " 'tekstblad': 488,\n",
              " 'titel': 583,\n",
              " 'titelpagina': 1213}"
            ]
          },
          "metadata": {
            "tags": []
          },
          "execution_count": 142
        }
      ]
    },
    {
      "cell_type": "code",
      "metadata": {
        "id": "8aUm6SuY5edx",
        "colab_type": "code",
        "colab": {}
      },
      "source": [
        "type_stats = pd.Series(type_dict)"
      ],
      "execution_count": 156,
      "outputs": []
    },
    {
      "cell_type": "markdown",
      "metadata": {
        "id": "kmnPqGdb7Wzv",
        "colab_type": "text"
      },
      "source": [
        "type_stats"
      ]
    },
    {
      "cell_type": "code",
      "metadata": {
        "id": "rWjhPr4D7X4-",
        "colab_type": "code",
        "colab": {
          "base_uri": "https://localhost:8080/",
          "height": 368
        },
        "outputId": "09682432-1609-4bf9-86d3-a8f740f8ea49"
      },
      "source": [
        "type_stats"
      ],
      "execution_count": 159,
      "outputs": [
        {
          "output_type": "execute_result",
          "data": {
            "text/plain": [
              "prent              73816\n",
              "tekening           10882\n",
              "schilderij          3271\n",
              "foto                2149\n",
              "tekeningontwerp     1747\n",
              "beeldhouwwerk        538\n",
              "bordvaatwerk         519\n",
              "schotel              491\n",
              "tekstblad            488\n",
              "boekillustratie     6616\n",
              "ornament            4922\n",
              "nieuws              2017\n",
              "kaart               1326\n",
              "titelpagina         1213\n",
              "spot                 920\n",
              "titel                583\n",
              "surimono             558\n",
              "kostuum              390\n",
              "historie            3105\n",
              "stereo               381\n",
              "dtype: int64"
            ]
          },
          "metadata": {
            "tags": []
          },
          "execution_count": 159
        }
      ]
    },
    {
      "cell_type": "code",
      "metadata": {
        "id": "Tlzchki75mS-",
        "colab_type": "code",
        "colab": {
          "base_uri": "https://localhost:8080/",
          "height": 368
        },
        "outputId": "31931c2a-8da3-497b-badd-2ddf77d8ceaa"
      },
      "source": [
        "type_stats.sort_values()"
      ],
      "execution_count": 160,
      "outputs": [
        {
          "output_type": "execute_result",
          "data": {
            "text/plain": [
              "stereo               381\n",
              "kostuum              390\n",
              "tekstblad            488\n",
              "schotel              491\n",
              "bordvaatwerk         519\n",
              "beeldhouwwerk        538\n",
              "surimono             558\n",
              "titel                583\n",
              "spot                 920\n",
              "titelpagina         1213\n",
              "kaart               1326\n",
              "tekeningontwerp     1747\n",
              "nieuws              2017\n",
              "foto                2149\n",
              "historie            3105\n",
              "schilderij          3271\n",
              "ornament            4922\n",
              "boekillustratie     6616\n",
              "tekening           10882\n",
              "prent              73816\n",
              "dtype: int64"
            ]
          },
          "metadata": {
            "tags": []
          },
          "execution_count": 160
        }
      ]
    },
    {
      "cell_type": "code",
      "metadata": {
        "id": "PSUF8Y0l6WJF",
        "colab_type": "code",
        "colab": {}
      },
      "source": [
        ""
      ],
      "execution_count": null,
      "outputs": []
    }
  ]
}